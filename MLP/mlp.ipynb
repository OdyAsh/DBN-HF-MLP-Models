{
 "cells": [
  {
   "cell_type": "markdown",
   "metadata": {},
   "source": [
    "# Multilayer Perceptron "
   ]
  },
  {
   "cell_type": "markdown",
   "metadata": {},
   "source": [
    "Hanin Monir Ismail 192895"
   ]
  },
  {
   "cell_type": "markdown",
   "metadata": {},
   "source": [
    "The aim is to try multiple variations of the MLP network and evaluate their performance in classifying the wonders of the world images."
   ]
  },
  {
   "cell_type": "code",
   "execution_count": 1,
   "metadata": {},
   "outputs": [],
   "source": [
    "# For Reproducable Code\n",
    "from numpy.random import seed\n",
    "seed(42)\n",
    "import tensorflow\n",
    "tensorflow.random.set_seed(42)\n",
    "\n",
    "# other standard imports. \"pip install -r requirements.txt\" to install dependencies and \"pip freeze > requirements.txt\" to update them\n",
    "from collections import Counter\n",
    "import pickle\n",
    "\n",
    "import PIL\n",
    "import scipy\n",
    "import matplotlib.pyplot as plt\n",
    "import numpy as np\n",
    "from keras.preprocessing.image import ImageDataGenerator\n",
    "from sklearn.model_selection import train_test_split\n",
    "import tensorflow as tf\n",
    "from sklearn.metrics import confusion_matrix, accuracy_score\n",
    "from sklearn.model_selection import learning_curve"
   ]
  },
  {
   "cell_type": "code",
   "execution_count": 2,
   "metadata": {},
   "outputs": [],
   "source": [
    "# Useful Functions\n",
    "def pklSave(contentToBeSaved, fullPath):\n",
    "    with open(fullPath, 'wb') as f:\n",
    "        pickle.dump(contentToBeSaved, f)\n",
    "\n",
    "def pklLoad(fullPath, convertToNumpyArray=False):\n",
    "    with open(fullPath, 'rb') as f:\n",
    "        content = pickle.load(f)\n",
    "    if convertToNumpyArray:\n",
    "        content = np.array(content)\n",
    "    return content\n",
    "\n",
    "def train_val_test_split(x, y, tr, va, te, **kwargs):\n",
    "    x_train, x_test_val, y_train, y_test_val = train_test_split(x, y, test_size=1-tr)\n",
    "    x_val, x_test, y_val, y_test = train_test_split(x_test_val, y_test_val, test_size=te/(te+va), **kwargs)\n",
    "    return (x_train, x_val, x_test, y_train, y_val, y_test)"
   ]
  },
  {
   "cell_type": "markdown",
   "metadata": {},
   "source": [
    "## Different models on the images of size 128x128"
   ]
  },
  {
   "cell_type": "markdown",
   "metadata": {},
   "source": [
    "Spliting the dataset to training and testing"
   ]
  },
  {
   "cell_type": "code",
   "execution_count": 3,
   "metadata": {},
   "outputs": [],
   "source": [
    "x = pklLoad('../x128.pkl', convertToNumpyArray=True)\n",
    "y = pklLoad('../y.pkl', convertToNumpyArray=True)\n",
    "x_train, x_test, y_train, y_test = train_test_split(x, y, test_size=0.2, random_state=42)\n",
    "x_train = np.array(x_train)\n",
    "x_test = np.array(x_test)\n",
    "y_train = np.array(y_train)\n",
    "y_test = np.array(y_test)"
   ]
  },
  {
   "cell_type": "markdown",
   "metadata": {},
   "source": [
    "### First MLP model"
   ]
  },
  {
   "cell_type": "markdown",
   "metadata": {},
   "source": [
    "Model Hyperparameters:\n",
    "<ul>\n",
    "    <li> Input layers: 1 </li>\n",
    "    <li> Hidden layer: 2, 50 neurons each </li>\n",
    "    <li> Activation function in the hidden layer: \"relu\" </li>\n",
    "    <li> output activation function: \"sigmoid\" </li>\n",
    "    <li> opitimizer: \"Adam\" </li>\n",
    "    <li>batch size= 32</li>\n",
    "    <li>epochs= 100 </li>\n",
    "<ul>\n",
    "    "
   ]
  },
  {
   "cell_type": "markdown",
   "metadata": {},
   "source": [
    "Initializing the network:"
   ]
  },
  {
   "cell_type": "code",
   "execution_count": 4,
   "metadata": {},
   "outputs": [],
   "source": [
    "MLP1 = tf.keras.models.Sequential(layers = None, name= None)"
   ]
  },
  {
   "cell_type": "markdown",
   "metadata": {},
   "source": [
    "Adding layers to the network:"
   ]
  },
  {
   "cell_type": "markdown",
   "metadata": {},
   "source": [
    " Input and 1st hidden layer:"
   ]
  },
  {
   "cell_type": "code",
   "execution_count": 5,
   "metadata": {},
   "outputs": [],
   "source": [
    "MLP1.add(tf.keras.layers.Dense(units= 50, activation= 'relu'))"
   ]
  },
  {
   "cell_type": "markdown",
   "metadata": {},
   "source": [
    "Second hidden layer:"
   ]
  },
  {
   "cell_type": "code",
   "execution_count": 6,
   "metadata": {},
   "outputs": [],
   "source": [
    "MLP1.add(tf.keras.layers.Dense(units= 50, activation= 'relu')) "
   ]
  },
  {
   "cell_type": "markdown",
   "metadata": {},
   "source": [
    "Output layer:"
   ]
  },
  {
   "cell_type": "code",
   "execution_count": 7,
   "metadata": {},
   "outputs": [],
   "source": [
    "MLP1.add(tf.keras.layers.Dense(units= 1, activation= 'sigmoid'))"
   ]
  },
  {
   "cell_type": "markdown",
   "metadata": {},
   "source": [
    "Compilation of the model using \"Adam\" optimizer"
   ]
  },
  {
   "cell_type": "code",
   "execution_count": 8,
   "metadata": {},
   "outputs": [],
   "source": [
    "MLP1.compile(optimizer= 'adam', loss= 'binary_crossentropy', metrics=['accuracy'])"
   ]
  },
  {
   "cell_type": "code",
   "execution_count": 9,
   "metadata": {},
   "outputs": [
    {
     "name": "stdout",
     "output_type": "stream",
     "text": [
      "Epoch 1/100\n",
      "45/45 [==============================] - 3s 44ms/step - loss: -726.9379 - accuracy: 0.1922\n",
      "Epoch 2/100\n",
      "45/45 [==============================] - 2s 40ms/step - loss: -6449.5391 - accuracy: 0.1915\n",
      "Epoch 3/100\n",
      "45/45 [==============================] - 2s 42ms/step - loss: -26223.1504 - accuracy: 0.1915\n",
      "Epoch 4/100\n",
      "45/45 [==============================] - 2s 42ms/step - loss: -71066.5781 - accuracy: 0.1915\n",
      "Epoch 5/100\n",
      "45/45 [==============================] - 2s 43ms/step - loss: -155406.5469 - accuracy: 0.1915\n",
      "Epoch 6/100\n",
      "45/45 [==============================] - 2s 41ms/step - loss: -288116.5625 - accuracy: 0.1915\n",
      "Epoch 7/100\n",
      "45/45 [==============================] - 2s 42ms/step - loss: -482027.9062 - accuracy: 0.1915\n",
      "Epoch 8/100\n",
      "45/45 [==============================] - 2s 41ms/step - loss: -751834.3125 - accuracy: 0.1915\n",
      "Epoch 9/100\n",
      "45/45 [==============================] - 2s 42ms/step - loss: -1107388.7500 - accuracy: 0.1915\n",
      "Epoch 10/100\n",
      "45/45 [==============================] - 2s 41ms/step - loss: -1556698.0000 - accuracy: 0.1915\n",
      "Epoch 11/100\n",
      "45/45 [==============================] - 2s 40ms/step - loss: -2112861.7500 - accuracy: 0.1915\n",
      "Epoch 12/100\n",
      "45/45 [==============================] - 2s 40ms/step - loss: -2783997.2500 - accuracy: 0.1915\n",
      "Epoch 13/100\n",
      "45/45 [==============================] - 2s 44ms/step - loss: -3578277.5000 - accuracy: 0.1915\n",
      "Epoch 14/100\n",
      "45/45 [==============================] - 2s 41ms/step - loss: -4508721.5000 - accuracy: 0.1915\n",
      "Epoch 15/100\n",
      "45/45 [==============================] - 2s 41ms/step - loss: -5572620.0000 - accuracy: 0.1915\n",
      "Epoch 16/100\n",
      "45/45 [==============================] - 2s 42ms/step - loss: -6789935.0000 - accuracy: 0.1915\n",
      "Epoch 17/100\n",
      "45/45 [==============================] - 2s 40ms/step - loss: -8147564.5000 - accuracy: 0.1915\n",
      "Epoch 18/100\n",
      "45/45 [==============================] - 2s 41ms/step - loss: -9674651.0000 - accuracy: 0.1915\n",
      "Epoch 19/100\n",
      "45/45 [==============================] - 2s 43ms/step - loss: -11364115.0000 - accuracy: 0.1915\n",
      "Epoch 20/100\n",
      "45/45 [==============================] - 2s 44ms/step - loss: -13227869.0000 - accuracy: 0.1915\n",
      "Epoch 21/100\n",
      "45/45 [==============================] - 2s 42ms/step - loss: -15263852.0000 - accuracy: 0.1915\n",
      "Epoch 22/100\n",
      "45/45 [==============================] - 2s 43ms/step - loss: -17495684.0000 - accuracy: 0.1915\n",
      "Epoch 23/100\n",
      "45/45 [==============================] - 2s 38ms/step - loss: -19903412.0000 - accuracy: 0.1915\n",
      "Epoch 24/100\n",
      "45/45 [==============================] - 2s 42ms/step - loss: -22492466.0000 - accuracy: 0.1915\n",
      "Epoch 25/100\n",
      "45/45 [==============================] - 2s 42ms/step - loss: -25315822.0000 - accuracy: 0.1915\n",
      "Epoch 26/100\n",
      "45/45 [==============================] - 2s 42ms/step - loss: -28334664.0000 - accuracy: 0.1915\n",
      "Epoch 27/100\n",
      "45/45 [==============================] - 2s 41ms/step - loss: -31547260.0000 - accuracy: 0.1915\n",
      "Epoch 28/100\n",
      "45/45 [==============================] - 2s 40ms/step - loss: -34981576.0000 - accuracy: 0.1915\n",
      "Epoch 29/100\n",
      "45/45 [==============================] - 2s 45ms/step - loss: -38613732.0000 - accuracy: 0.1915\n",
      "Epoch 30/100\n",
      "45/45 [==============================] - 2s 44ms/step - loss: -42524460.0000 - accuracy: 0.1915\n",
      "Epoch 31/100\n",
      "45/45 [==============================] - 2s 41ms/step - loss: -46566096.0000 - accuracy: 0.1915\n",
      "Epoch 32/100\n",
      "45/45 [==============================] - 2s 41ms/step - loss: -50923144.0000 - accuracy: 0.1915\n",
      "Epoch 33/100\n",
      "45/45 [==============================] - 2s 40ms/step - loss: -55472560.0000 - accuracy: 0.1915\n",
      "Epoch 34/100\n",
      "45/45 [==============================] - 2s 43ms/step - loss: -60252748.0000 - accuracy: 0.1915\n",
      "Epoch 35/100\n",
      "45/45 [==============================] - 2s 41ms/step - loss: -65287632.0000 - accuracy: 0.1915\n",
      "Epoch 36/100\n",
      "45/45 [==============================] - 2s 40ms/step - loss: -70578560.0000 - accuracy: 0.1915\n",
      "Epoch 37/100\n",
      "45/45 [==============================] - 2s 41ms/step - loss: -76112296.0000 - accuracy: 0.1915\n",
      "Epoch 38/100\n",
      "45/45 [==============================] - 2s 41ms/step - loss: -81875112.0000 - accuracy: 0.1915\n",
      "Epoch 39/100\n",
      "45/45 [==============================] - 2s 41ms/step - loss: -87930096.0000 - accuracy: 0.1915\n",
      "Epoch 40/100\n",
      "45/45 [==============================] - 2s 44ms/step - loss: -94214544.0000 - accuracy: 0.1915\n",
      "Epoch 41/100\n",
      "45/45 [==============================] - 2s 42ms/step - loss: -100755048.0000 - accuracy: 0.1915\n",
      "Epoch 42/100\n",
      "45/45 [==============================] - 2s 41ms/step - loss: -107587136.0000 - accuracy: 0.1915\n",
      "Epoch 43/100\n",
      "45/45 [==============================] - 2s 42ms/step - loss: -114626848.0000 - accuracy: 0.1915\n",
      "Epoch 44/100\n",
      "45/45 [==============================] - 2s 43ms/step - loss: -121951760.0000 - accuracy: 0.1915\n",
      "Epoch 45/100\n",
      "45/45 [==============================] - 2s 42ms/step - loss: -129581560.0000 - accuracy: 0.1915\n",
      "Epoch 46/100\n",
      "45/45 [==============================] - 2s 43ms/step - loss: -137482000.0000 - accuracy: 0.1915\n",
      "Epoch 47/100\n",
      "45/45 [==============================] - 2s 43ms/step - loss: -145546288.0000 - accuracy: 0.1915\n",
      "Epoch 48/100\n",
      "45/45 [==============================] - 2s 41ms/step - loss: -153993088.0000 - accuracy: 0.1915\n",
      "Epoch 49/100\n",
      "45/45 [==============================] - 2s 41ms/step - loss: -162697280.0000 - accuracy: 0.1915\n",
      "Epoch 50/100\n",
      "45/45 [==============================] - 2s 43ms/step - loss: -171626240.0000 - accuracy: 0.1915\n",
      "Epoch 51/100\n",
      "45/45 [==============================] - 2s 43ms/step - loss: -180890736.0000 - accuracy: 0.1915\n",
      "Epoch 52/100\n",
      "45/45 [==============================] - 2s 45ms/step - loss: -190421088.0000 - accuracy: 0.1915\n",
      "Epoch 53/100\n",
      "45/45 [==============================] - 2s 44ms/step - loss: -200129488.0000 - accuracy: 0.1915\n",
      "Epoch 54/100\n",
      "45/45 [==============================] - 2s 41ms/step - loss: -210297360.0000 - accuracy: 0.1915\n",
      "Epoch 55/100\n",
      "45/45 [==============================] - 2s 46ms/step - loss: -220532560.0000 - accuracy: 0.1915\n",
      "Epoch 56/100\n",
      "45/45 [==============================] - 2s 44ms/step - loss: -231146528.0000 - accuracy: 0.1915\n",
      "Epoch 57/100\n",
      "45/45 [==============================] - 2s 43ms/step - loss: -242123136.0000 - accuracy: 0.1915\n",
      "Epoch 58/100\n",
      "45/45 [==============================] - 2s 44ms/step - loss: -253295520.0000 - accuracy: 0.1915\n",
      "Epoch 59/100\n",
      "45/45 [==============================] - 2s 44ms/step - loss: -264834016.0000 - accuracy: 0.1915\n",
      "Epoch 60/100\n",
      "45/45 [==============================] - 2s 42ms/step - loss: -276589248.0000 - accuracy: 0.1915\n",
      "Epoch 61/100\n",
      "45/45 [==============================] - 2s 44ms/step - loss: -288605280.0000 - accuracy: 0.1915\n",
      "Epoch 62/100\n",
      "45/45 [==============================] - 2s 44ms/step - loss: -301130528.0000 - accuracy: 0.1915\n",
      "Epoch 63/100\n",
      "45/45 [==============================] - 2s 48ms/step - loss: -313684832.0000 - accuracy: 0.1915\n",
      "Epoch 64/100\n",
      "45/45 [==============================] - 2s 42ms/step - loss: -326687072.0000 - accuracy: 0.1915\n",
      "Epoch 65/100\n",
      "45/45 [==============================] - 2s 44ms/step - loss: -339935200.0000 - accuracy: 0.1915\n",
      "Epoch 66/100\n",
      "45/45 [==============================] - 2s 45ms/step - loss: -353510912.0000 - accuracy: 0.1915\n",
      "Epoch 67/100\n",
      "45/45 [==============================] - 2s 46ms/step - loss: -367318208.0000 - accuracy: 0.1915\n",
      "Epoch 68/100\n",
      "45/45 [==============================] - 2s 43ms/step - loss: -381507936.0000 - accuracy: 0.1915\n",
      "Epoch 69/100\n",
      "45/45 [==============================] - 2s 43ms/step - loss: -395985568.0000 - accuracy: 0.1915\n",
      "Epoch 70/100\n",
      "45/45 [==============================] - 2s 43ms/step - loss: -410692352.0000 - accuracy: 0.1915\n",
      "Epoch 71/100\n",
      "45/45 [==============================] - 2s 42ms/step - loss: -425823232.0000 - accuracy: 0.1915\n",
      "Epoch 72/100\n",
      "45/45 [==============================] - 2s 43ms/step - loss: -441221984.0000 - accuracy: 0.1915\n",
      "Epoch 73/100\n",
      "45/45 [==============================] - 2s 44ms/step - loss: -456929632.0000 - accuracy: 0.1915\n",
      "Epoch 74/100\n",
      "45/45 [==============================] - 2s 42ms/step - loss: -473024480.0000 - accuracy: 0.1915\n",
      "Epoch 75/100\n",
      "45/45 [==============================] - 2s 44ms/step - loss: -489251328.0000 - accuracy: 0.1915\n",
      "Epoch 76/100\n",
      "45/45 [==============================] - 2s 44ms/step - loss: -505994560.0000 - accuracy: 0.1915\n",
      "Epoch 77/100\n",
      "45/45 [==============================] - 2s 41ms/step - loss: -522982528.0000 - accuracy: 0.1915\n",
      "Epoch 78/100\n",
      "45/45 [==============================] - 2s 41ms/step - loss: -540184512.0000 - accuracy: 0.1915\n",
      "Epoch 79/100\n",
      "45/45 [==============================] - 2s 38ms/step - loss: -557800320.0000 - accuracy: 0.1915\n",
      "Epoch 80/100\n",
      "45/45 [==============================] - 2s 43ms/step - loss: -575783936.0000 - accuracy: 0.1915\n",
      "Epoch 81/100\n",
      "45/45 [==============================] - 2s 42ms/step - loss: -593944064.0000 - accuracy: 0.1915\n",
      "Epoch 82/100\n",
      "45/45 [==============================] - 2s 41ms/step - loss: -612465024.0000 - accuracy: 0.1915\n",
      "Epoch 83/100\n",
      "45/45 [==============================] - 2s 44ms/step - loss: -631302016.0000 - accuracy: 0.1915\n",
      "Epoch 84/100\n",
      "45/45 [==============================] - 2s 45ms/step - loss: -650502272.0000 - accuracy: 0.1915\n",
      "Epoch 85/100\n",
      "45/45 [==============================] - 2s 42ms/step - loss: -670083648.0000 - accuracy: 0.1915\n",
      "Epoch 86/100\n",
      "45/45 [==============================] - 2s 44ms/step - loss: -689838848.0000 - accuracy: 0.1915\n",
      "Epoch 87/100\n",
      "45/45 [==============================] - 2s 42ms/step - loss: -709924608.0000 - accuracy: 0.1915\n",
      "Epoch 88/100\n",
      "45/45 [==============================] - 2s 46ms/step - loss: -730425408.0000 - accuracy: 0.1915\n",
      "Epoch 89/100\n",
      "45/45 [==============================] - 2s 47ms/step - loss: -751249408.0000 - accuracy: 0.1915\n",
      "Epoch 90/100\n",
      "45/45 [==============================] - 2s 43ms/step - loss: -772328640.0000 - accuracy: 0.1915\n",
      "Epoch 91/100\n",
      "45/45 [==============================] - 2s 41ms/step - loss: -793845248.0000 - accuracy: 0.1915\n",
      "Epoch 92/100\n",
      "45/45 [==============================] - 2s 45ms/step - loss: -815734528.0000 - accuracy: 0.1915\n",
      "Epoch 93/100\n",
      "45/45 [==============================] - 2s 45ms/step - loss: -837918400.0000 - accuracy: 0.1915\n",
      "Epoch 94/100\n",
      "45/45 [==============================] - 2s 41ms/step - loss: -860317376.0000 - accuracy: 0.1915\n",
      "Epoch 95/100\n",
      "45/45 [==============================] - 2s 43ms/step - loss: -883203584.0000 - accuracy: 0.1915\n",
      "Epoch 96/100\n",
      "45/45 [==============================] - 2s 45ms/step - loss: -906519808.0000 - accuracy: 0.1915\n",
      "Epoch 97/100\n",
      "45/45 [==============================] - 2s 42ms/step - loss: -929908736.0000 - accuracy: 0.1915\n",
      "Epoch 98/100\n",
      "45/45 [==============================] - 2s 41ms/step - loss: -953765376.0000 - accuracy: 0.1915\n",
      "Epoch 99/100\n",
      "45/45 [==============================] - 2s 43ms/step - loss: -978103232.0000 - accuracy: 0.1915\n",
      "Epoch 100/100\n",
      "45/45 [==============================] - 2s 44ms/step - loss: -1002534976.0000 - accuracy: 0.1915\n"
     ]
    },
    {
     "data": {
      "text/plain": [
       "<keras.callbacks.History at 0x174d49eae50>"
      ]
     },
     "execution_count": 9,
     "metadata": {},
     "output_type": "execute_result"
    }
   ],
   "source": [
    "MLP1.fit(x_train, y_train, batch_size= 32, epochs= 100)"
   ]
  },
  {
   "attachments": {},
   "cell_type": "markdown",
   "metadata": {},
   "source": [
    "The first model results accuracy is very low, it has scored an accuracy of 0.1915."
   ]
  },
  {
   "cell_type": "code",
   "execution_count": 12,
   "metadata": {},
   "outputs": [
    {
     "name": "stdout",
     "output_type": "stream",
     "text": [
      "12/12 [==============================] - 0s 44ms/step\n"
     ]
    }
   ],
   "source": [
    "y_pred1= MLP1.predict(x_test)"
   ]
  },
  {
   "cell_type": "markdown",
   "metadata": {},
   "source": [
    "#### Model Evaluation:"
   ]
  },
  {
   "cell_type": "markdown",
   "metadata": {},
   "source": [
    "Learning curve:"
   ]
  },
  {
   "cell_type": "markdown",
   "metadata": {},
   "source": [
    "Accuracy against epochs"
   ]
  },
  {
   "cell_type": "code",
   "execution_count": 13,
   "metadata": {},
   "outputs": [
    {
     "name": "stdout",
     "output_type": "stream",
     "text": [
      "Epoch 1/100\n",
      "323/323 [==============================] - 1s 4ms/step - loss: -77879164928.0000 - accuracy: 0.1927 - val_loss: -74936008704.0000 - val_accuracy: 0.1806\n",
      "Epoch 2/100\n",
      "323/323 [==============================] - 1s 3ms/step - loss: -79983755264.0000 - accuracy: 0.1927 - val_loss: -76954959872.0000 - val_accuracy: 0.1806\n",
      "Epoch 3/100\n",
      "323/323 [==============================] - 1s 4ms/step - loss: -82123874304.0000 - accuracy: 0.1927 - val_loss: -78994178048.0000 - val_accuracy: 0.1806\n",
      "Epoch 4/100\n",
      "323/323 [==============================] - 1s 3ms/step - loss: -84308639744.0000 - accuracy: 0.1927 - val_loss: -81082515456.0000 - val_accuracy: 0.1806\n",
      "Epoch 5/100\n",
      "323/323 [==============================] - 1s 3ms/step - loss: -86528262144.0000 - accuracy: 0.1927 - val_loss: -83219611648.0000 - val_accuracy: 0.1806\n",
      "Epoch 6/100\n",
      "323/323 [==============================] - 1s 3ms/step - loss: -88789614592.0000 - accuracy: 0.1927 - val_loss: -85369217024.0000 - val_accuracy: 0.1806\n",
      "Epoch 7/100\n",
      "323/323 [==============================] - 1s 4ms/step - loss: -91080507392.0000 - accuracy: 0.1927 - val_loss: -87568809984.0000 - val_accuracy: 0.1806\n",
      "Epoch 8/100\n",
      "323/323 [==============================] - 1s 4ms/step - loss: -93414260736.0000 - accuracy: 0.1927 - val_loss: -89804513280.0000 - val_accuracy: 0.1806\n",
      "Epoch 9/100\n",
      "323/323 [==============================] - 1s 4ms/step - loss: -95779201024.0000 - accuracy: 0.1927 - val_loss: -92045860864.0000 - val_accuracy: 0.1806\n",
      "Epoch 10/100\n",
      "323/323 [==============================] - 1s 4ms/step - loss: -98192539648.0000 - accuracy: 0.1927 - val_loss: -94381621248.0000 - val_accuracy: 0.1806\n",
      "Epoch 11/100\n",
      "323/323 [==============================] - 1s 3ms/step - loss: -100632641536.0000 - accuracy: 0.1927 - val_loss: -96730464256.0000 - val_accuracy: 0.1806\n",
      "Epoch 12/100\n",
      "323/323 [==============================] - 1s 4ms/step - loss: -103108771840.0000 - accuracy: 0.1927 - val_loss: -99078053888.0000 - val_accuracy: 0.1806\n",
      "Epoch 13/100\n",
      "323/323 [==============================] - 1s 4ms/step - loss: -105625600000.0000 - accuracy: 0.1927 - val_loss: -101481218048.0000 - val_accuracy: 0.1806\n",
      "Epoch 14/100\n",
      "323/323 [==============================] - 1s 4ms/step - loss: -108176998400.0000 - accuracy: 0.1927 - val_loss: -103928733696.0000 - val_accuracy: 0.1806\n",
      "Epoch 15/100\n",
      "323/323 [==============================] - 1s 4ms/step - loss: -110774059008.0000 - accuracy: 0.1927 - val_loss: -106396901376.0000 - val_accuracy: 0.1806\n",
      "Epoch 16/100\n",
      "323/323 [==============================] - 1s 4ms/step - loss: -113408008192.0000 - accuracy: 0.1927 - val_loss: -108924067840.0000 - val_accuracy: 0.1806\n",
      "Epoch 17/100\n",
      "323/323 [==============================] - 1s 4ms/step - loss: -116077715456.0000 - accuracy: 0.1927 - val_loss: -111498747904.0000 - val_accuracy: 0.1806\n",
      "Epoch 18/100\n",
      "323/323 [==============================] - 1s 4ms/step - loss: -118790479872.0000 - accuracy: 0.1927 - val_loss: -114078580736.0000 - val_accuracy: 0.1806\n",
      "Epoch 19/100\n",
      "323/323 [==============================] - 1s 4ms/step - loss: -121560023040.0000 - accuracy: 0.1927 - val_loss: -116758986752.0000 - val_accuracy: 0.1806\n",
      "Epoch 20/100\n",
      "323/323 [==============================] - 1s 4ms/step - loss: -124371673088.0000 - accuracy: 0.1927 - val_loss: -119437426688.0000 - val_accuracy: 0.1806\n",
      "Epoch 21/100\n",
      "323/323 [==============================] - 1s 4ms/step - loss: -127211847680.0000 - accuracy: 0.1927 - val_loss: -122148724736.0000 - val_accuracy: 0.1806\n",
      "Epoch 22/100\n",
      "323/323 [==============================] - 1s 4ms/step - loss: -130098962432.0000 - accuracy: 0.1927 - val_loss: -124894199808.0000 - val_accuracy: 0.1806\n",
      "Epoch 23/100\n",
      "323/323 [==============================] - 1s 4ms/step - loss: -133017092096.0000 - accuracy: 0.1927 - val_loss: -127701614592.0000 - val_accuracy: 0.1806\n",
      "Epoch 24/100\n",
      "323/323 [==============================] - 1s 4ms/step - loss: -135979753472.0000 - accuracy: 0.1927 - val_loss: -130512683008.0000 - val_accuracy: 0.1806\n",
      "Epoch 25/100\n",
      "323/323 [==============================] - 1s 4ms/step - loss: -138970333184.0000 - accuracy: 0.1927 - val_loss: -133367685120.0000 - val_accuracy: 0.1806\n",
      "Epoch 26/100\n",
      "323/323 [==============================] - 1s 4ms/step - loss: -141998784512.0000 - accuracy: 0.1927 - val_loss: -136259510272.0000 - val_accuracy: 0.1806\n",
      "Epoch 27/100\n",
      "323/323 [==============================] - 1s 4ms/step - loss: -145074749440.0000 - accuracy: 0.1927 - val_loss: -139214651392.0000 - val_accuracy: 0.1806\n",
      "Epoch 28/100\n",
      "323/323 [==============================] - 1s 4ms/step - loss: -148200112128.0000 - accuracy: 0.1927 - val_loss: -142198947840.0000 - val_accuracy: 0.1806\n",
      "Epoch 29/100\n",
      "323/323 [==============================] - 1s 4ms/step - loss: -151369678848.0000 - accuracy: 0.1927 - val_loss: -145220386816.0000 - val_accuracy: 0.1806\n",
      "Epoch 30/100\n",
      "323/323 [==============================] - 1s 4ms/step - loss: -154590035968.0000 - accuracy: 0.1927 - val_loss: -148301545472.0000 - val_accuracy: 0.1806\n",
      "Epoch 31/100\n",
      "323/323 [==============================] - 1s 4ms/step - loss: -157869096960.0000 - accuracy: 0.1927 - val_loss: -151459020800.0000 - val_accuracy: 0.1806\n",
      "Epoch 32/100\n",
      "323/323 [==============================] - 1s 4ms/step - loss: -161188610048.0000 - accuracy: 0.1927 - val_loss: -154607894528.0000 - val_accuracy: 0.1806\n",
      "Epoch 33/100\n",
      "323/323 [==============================] - 1s 4ms/step - loss: -164536778752.0000 - accuracy: 0.1927 - val_loss: -157815472128.0000 - val_accuracy: 0.1806\n",
      "Epoch 34/100\n",
      "323/323 [==============================] - 1s 4ms/step - loss: -167934722048.0000 - accuracy: 0.1927 - val_loss: -161069137920.0000 - val_accuracy: 0.1806\n",
      "Epoch 35/100\n",
      "323/323 [==============================] - 1s 4ms/step - loss: -171381424128.0000 - accuracy: 0.1927 - val_loss: -164352311296.0000 - val_accuracy: 0.1806\n",
      "Epoch 36/100\n",
      "323/323 [==============================] - 1s 4ms/step - loss: -174869954560.0000 - accuracy: 0.1927 - val_loss: -167708966912.0000 - val_accuracy: 0.1806\n",
      "Epoch 37/100\n",
      "323/323 [==============================] - 1s 4ms/step - loss: -178420908032.0000 - accuracy: 0.1927 - val_loss: -171106828288.0000 - val_accuracy: 0.1806\n",
      "Epoch 38/100\n",
      "323/323 [==============================] - 1s 4ms/step - loss: -181998796800.0000 - accuracy: 0.1927 - val_loss: -174513340416.0000 - val_accuracy: 0.1806\n",
      "Epoch 39/100\n",
      "323/323 [==============================] - 1s 4ms/step - loss: -185620480000.0000 - accuracy: 0.1927 - val_loss: -177965416448.0000 - val_accuracy: 0.1806\n",
      "Epoch 40/100\n",
      "323/323 [==============================] - 1s 4ms/step - loss: -189286285312.0000 - accuracy: 0.1927 - val_loss: -181449113600.0000 - val_accuracy: 0.1806\n",
      "Epoch 41/100\n",
      "323/323 [==============================] - 1s 4ms/step - loss: -193013874688.0000 - accuracy: 0.1927 - val_loss: -185040748544.0000 - val_accuracy: 0.1806\n",
      "Epoch 42/100\n",
      "323/323 [==============================] - 1s 4ms/step - loss: -196788715520.0000 - accuracy: 0.1927 - val_loss: -188655108096.0000 - val_accuracy: 0.1806\n",
      "Epoch 43/100\n",
      "323/323 [==============================] - 1s 4ms/step - loss: -200604958720.0000 - accuracy: 0.1927 - val_loss: -192294223872.0000 - val_accuracy: 0.1806\n",
      "Epoch 44/100\n",
      "323/323 [==============================] - 1s 4ms/step - loss: -204458393600.0000 - accuracy: 0.1927 - val_loss: -195940925440.0000 - val_accuracy: 0.1806\n",
      "Epoch 45/100\n",
      "323/323 [==============================] - 1s 4ms/step - loss: -208355196928.0000 - accuracy: 0.1927 - val_loss: -199656931328.0000 - val_accuracy: 0.1806\n",
      "Epoch 46/100\n",
      "323/323 [==============================] - 1s 4ms/step - loss: -212299988992.0000 - accuracy: 0.1927 - val_loss: -203472125952.0000 - val_accuracy: 0.1806\n",
      "Epoch 47/100\n",
      "323/323 [==============================] - 1s 4ms/step - loss: -216287576064.0000 - accuracy: 0.1927 - val_loss: -207238004736.0000 - val_accuracy: 0.1806\n",
      "Epoch 48/100\n",
      "323/323 [==============================] - 1s 4ms/step - loss: -220321234944.0000 - accuracy: 0.1927 - val_loss: -211119423488.0000 - val_accuracy: 0.1806\n",
      "Epoch 49/100\n",
      "323/323 [==============================] - 1s 4ms/step - loss: -224424067072.0000 - accuracy: 0.1927 - val_loss: -215042162688.0000 - val_accuracy: 0.1806\n",
      "Epoch 50/100\n",
      "323/323 [==============================] - 1s 4ms/step - loss: -228581572608.0000 - accuracy: 0.1927 - val_loss: -218994458624.0000 - val_accuracy: 0.1806\n",
      "Epoch 51/100\n",
      "323/323 [==============================] - 1s 4ms/step - loss: -232774909952.0000 - accuracy: 0.1927 - val_loss: -222999674880.0000 - val_accuracy: 0.1806\n",
      "Epoch 52/100\n",
      "323/323 [==============================] - 1s 4ms/step - loss: -237029310464.0000 - accuracy: 0.1927 - val_loss: -227066052608.0000 - val_accuracy: 0.1806\n",
      "Epoch 53/100\n",
      "323/323 [==============================] - 1s 4ms/step - loss: -241339842560.0000 - accuracy: 0.1927 - val_loss: -231193526272.0000 - val_accuracy: 0.1806\n",
      "Epoch 54/100\n",
      "323/323 [==============================] - 1s 4ms/step - loss: -245727150080.0000 - accuracy: 0.1927 - val_loss: -235396071424.0000 - val_accuracy: 0.1806\n",
      "Epoch 55/100\n",
      "323/323 [==============================] - 1s 4ms/step - loss: -250154369024.0000 - accuracy: 0.1927 - val_loss: -239636873216.0000 - val_accuracy: 0.1806\n",
      "Epoch 56/100\n",
      "323/323 [==============================] - 1s 4ms/step - loss: -254641602560.0000 - accuracy: 0.1927 - val_loss: -243933200384.0000 - val_accuracy: 0.1806\n",
      "Epoch 57/100\n",
      "323/323 [==============================] - 1s 4ms/step - loss: -259216326656.0000 - accuracy: 0.1927 - val_loss: -248287707136.0000 - val_accuracy: 0.1806\n",
      "Epoch 58/100\n",
      "323/323 [==============================] - 1s 4ms/step - loss: -263836762112.0000 - accuracy: 0.1927 - val_loss: -252723478528.0000 - val_accuracy: 0.1806\n",
      "Epoch 59/100\n",
      "323/323 [==============================] - 1s 4ms/step - loss: -268507856896.0000 - accuracy: 0.1927 - val_loss: -257168834560.0000 - val_accuracy: 0.1806\n",
      "Epoch 60/100\n",
      "323/323 [==============================] - 1s 4ms/step - loss: -273227890688.0000 - accuracy: 0.1927 - val_loss: -261647040512.0000 - val_accuracy: 0.1806\n",
      "Epoch 61/100\n",
      "323/323 [==============================] - 1s 4ms/step - loss: -277998665728.0000 - accuracy: 0.1927 - val_loss: -266213900288.0000 - val_accuracy: 0.1806\n",
      "Epoch 62/100\n",
      "323/323 [==============================] - 1s 4ms/step - loss: -282813104128.0000 - accuracy: 0.1927 - val_loss: -270820376576.0000 - val_accuracy: 0.1806\n",
      "Epoch 63/100\n",
      "323/323 [==============================] - 1s 4ms/step - loss: -287697272832.0000 - accuracy: 0.1927 - val_loss: -275467665408.0000 - val_accuracy: 0.1806\n",
      "Epoch 64/100\n",
      "323/323 [==============================] - 1s 4ms/step - loss: -292636786688.0000 - accuracy: 0.1927 - val_loss: -280196939776.0000 - val_accuracy: 0.1806\n",
      "Epoch 65/100\n",
      "323/323 [==============================] - 1s 4ms/step - loss: -297624895488.0000 - accuracy: 0.1927 - val_loss: -284921790464.0000 - val_accuracy: 0.1806\n",
      "Epoch 66/100\n",
      "323/323 [==============================] - 1s 4ms/step - loss: -302655471616.0000 - accuracy: 0.1927 - val_loss: -289742848000.0000 - val_accuracy: 0.1806\n",
      "Epoch 67/100\n",
      "323/323 [==============================] - 1s 4ms/step - loss: -307730874368.0000 - accuracy: 0.1927 - val_loss: -294581207040.0000 - val_accuracy: 0.1806\n",
      "Epoch 68/100\n",
      "323/323 [==============================] - 1s 4ms/step - loss: -312870109184.0000 - accuracy: 0.1927 - val_loss: -299487723520.0000 - val_accuracy: 0.1806\n",
      "Epoch 69/100\n",
      "323/323 [==============================] - 1s 4ms/step - loss: -318066098176.0000 - accuracy: 0.1927 - val_loss: -304455221248.0000 - val_accuracy: 0.1806\n",
      "Epoch 70/100\n",
      "323/323 [==============================] - 1s 4ms/step - loss: -323299639296.0000 - accuracy: 0.1927 - val_loss: -309468495872.0000 - val_accuracy: 0.1806\n",
      "Epoch 71/100\n",
      "323/323 [==============================] - 1s 4ms/step - loss: -328582266880.0000 - accuracy: 0.1927 - val_loss: -314492780544.0000 - val_accuracy: 0.1806\n",
      "Epoch 72/100\n",
      "323/323 [==============================] - 1s 4ms/step - loss: -333940621312.0000 - accuracy: 0.1927 - val_loss: -319631491072.0000 - val_accuracy: 0.1806\n",
      "Epoch 73/100\n",
      "323/323 [==============================] - 1s 4ms/step - loss: -339379748864.0000 - accuracy: 0.1927 - val_loss: -324806967296.0000 - val_accuracy: 0.1806\n",
      "Epoch 74/100\n",
      "323/323 [==============================] - 1s 4ms/step - loss: -344908464128.0000 - accuracy: 0.1927 - val_loss: -330092969984.0000 - val_accuracy: 0.1806\n",
      "Epoch 75/100\n",
      "323/323 [==============================] - 1s 4ms/step - loss: -350502518784.0000 - accuracy: 0.1927 - val_loss: -335441592320.0000 - val_accuracy: 0.1806\n",
      "Epoch 76/100\n",
      "323/323 [==============================] - 1s 4ms/step - loss: -356147331072.0000 - accuracy: 0.1927 - val_loss: -340795228160.0000 - val_accuracy: 0.1806\n",
      "Epoch 77/100\n",
      "323/323 [==============================] - 1s 4ms/step - loss: -361836904448.0000 - accuracy: 0.1927 - val_loss: -346295566336.0000 - val_accuracy: 0.1806\n",
      "Epoch 78/100\n",
      "323/323 [==============================] - 1s 4ms/step - loss: -367539355648.0000 - accuracy: 0.1927 - val_loss: -351693373440.0000 - val_accuracy: 0.1806\n",
      "Epoch 79/100\n",
      "323/323 [==============================] - 1s 4ms/step - loss: -373313536000.0000 - accuracy: 0.1927 - val_loss: -357210128384.0000 - val_accuracy: 0.1806\n",
      "Epoch 80/100\n",
      "323/323 [==============================] - 1s 4ms/step - loss: -379156463616.0000 - accuracy: 0.1927 - val_loss: -362785767424.0000 - val_accuracy: 0.1806\n",
      "Epoch 81/100\n",
      "323/323 [==============================] - 1s 4ms/step - loss: -385035304960.0000 - accuracy: 0.1927 - val_loss: -368365174784.0000 - val_accuracy: 0.1806\n",
      "Epoch 82/100\n",
      "323/323 [==============================] - 1s 4ms/step - loss: -390983155712.0000 - accuracy: 0.1927 - val_loss: -374043541504.0000 - val_accuracy: 0.1806\n",
      "Epoch 83/100\n",
      "323/323 [==============================] - 1s 4ms/step - loss: -396979011584.0000 - accuracy: 0.1927 - val_loss: -379789836288.0000 - val_accuracy: 0.1806\n",
      "Epoch 84/100\n",
      "323/323 [==============================] - 1s 4ms/step - loss: -403060654080.0000 - accuracy: 0.1927 - val_loss: -385543700480.0000 - val_accuracy: 0.1806\n",
      "Epoch 85/100\n",
      "323/323 [==============================] - 1s 4ms/step - loss: -409198198784.0000 - accuracy: 0.1927 - val_loss: -391446069248.0000 - val_accuracy: 0.1806\n",
      "Epoch 86/100\n",
      "323/323 [==============================] - 1s 4ms/step - loss: -415376769024.0000 - accuracy: 0.1927 - val_loss: -397295845376.0000 - val_accuracy: 0.1806\n",
      "Epoch 87/100\n",
      "323/323 [==============================] - 1s 4ms/step - loss: -421625233408.0000 - accuracy: 0.1927 - val_loss: -403273220096.0000 - val_accuracy: 0.1806\n",
      "Epoch 88/100\n",
      "323/323 [==============================] - 1s 4ms/step - loss: -427952865280.0000 - accuracy: 0.1927 - val_loss: -409359024128.0000 - val_accuracy: 0.1806\n",
      "Epoch 89/100\n",
      "323/323 [==============================] - 1s 4ms/step - loss: -434337316864.0000 - accuracy: 0.1927 - val_loss: -415444172800.0000 - val_accuracy: 0.1806\n",
      "Epoch 90/100\n",
      "323/323 [==============================] - 1s 4ms/step - loss: -440765972480.0000 - accuracy: 0.1927 - val_loss: -421492981760.0000 - val_accuracy: 0.1806\n",
      "Epoch 91/100\n",
      "323/323 [==============================] - 1s 4ms/step - loss: -447232311296.0000 - accuracy: 0.1927 - val_loss: -427664867328.0000 - val_accuracy: 0.1806\n",
      "Epoch 92/100\n",
      "323/323 [==============================] - 1s 4ms/step - loss: -453792595968.0000 - accuracy: 0.1927 - val_loss: -433954979840.0000 - val_accuracy: 0.1806\n",
      "Epoch 93/100\n",
      "323/323 [==============================] - 1s 4ms/step - loss: -460421824512.0000 - accuracy: 0.1927 - val_loss: -440275828736.0000 - val_accuracy: 0.1806\n",
      "Epoch 94/100\n",
      "323/323 [==============================] - 1s 4ms/step - loss: -467122683904.0000 - accuracy: 0.1927 - val_loss: -446764515328.0000 - val_accuracy: 0.1806\n",
      "Epoch 95/100\n",
      "323/323 [==============================] - 1s 4ms/step - loss: -473867157504.0000 - accuracy: 0.1927 - val_loss: -453095292928.0000 - val_accuracy: 0.1806\n",
      "Epoch 96/100\n",
      "323/323 [==============================] - 1s 4ms/step - loss: -480667959296.0000 - accuracy: 0.1927 - val_loss: -459635163136.0000 - val_accuracy: 0.1806\n",
      "Epoch 97/100\n",
      "323/323 [==============================] - 1s 4ms/step - loss: -487555334144.0000 - accuracy: 0.1927 - val_loss: -466187026432.0000 - val_accuracy: 0.1806\n",
      "Epoch 98/100\n",
      "323/323 [==============================] - 1s 4ms/step - loss: -494516797440.0000 - accuracy: 0.1927 - val_loss: -472796037120.0000 - val_accuracy: 0.1806\n",
      "Epoch 99/100\n",
      "323/323 [==============================] - 1s 4ms/step - loss: -501507096576.0000 - accuracy: 0.1927 - val_loss: -479451676672.0000 - val_accuracy: 0.1806\n",
      "Epoch 100/100\n",
      "323/323 [==============================] - 1s 4ms/step - loss: -508553658368.0000 - accuracy: 0.1927 - val_loss: -486207782912.0000 - val_accuracy: 0.1806\n"
     ]
    },
    {
     "ename": "KeyError",
     "evalue": "'acc'",
     "output_type": "error",
     "traceback": [
      "\u001b[1;31m---------------------------------------------------------------------------\u001b[0m",
      "\u001b[1;31mKeyError\u001b[0m                                  Traceback (most recent call last)",
      "Cell \u001b[1;32mIn [13], line 3\u001b[0m\n\u001b[0;32m      1\u001b[0m \u001b[39mfrom\u001b[39;00m \u001b[39mmatplotlib\u001b[39;00m \u001b[39mimport\u001b[39;00m pyplot \u001b[39mas\u001b[39;00m plt\n\u001b[0;32m      2\u001b[0m history \u001b[39m=\u001b[39m MLP1\u001b[39m.\u001b[39mfit(x_train, y_train,validation_split \u001b[39m=\u001b[39m \u001b[39m0.1\u001b[39m, epochs\u001b[39m=\u001b[39m\u001b[39m100\u001b[39m, batch_size\u001b[39m=\u001b[39m\u001b[39m4\u001b[39m)\n\u001b[1;32m----> 3\u001b[0m plt\u001b[39m.\u001b[39mplot(history\u001b[39m.\u001b[39;49mhistory[\u001b[39m'\u001b[39;49m\u001b[39macc\u001b[39;49m\u001b[39m'\u001b[39;49m])\n\u001b[0;32m      4\u001b[0m plt\u001b[39m.\u001b[39mplot(history\u001b[39m.\u001b[39mhistory[\u001b[39m'\u001b[39m\u001b[39mval_acc\u001b[39m\u001b[39m'\u001b[39m])\n\u001b[0;32m      5\u001b[0m plt\u001b[39m.\u001b[39mtitle(\u001b[39m'\u001b[39m\u001b[39mFirst MLP accuracy\u001b[39m\u001b[39m'\u001b[39m)\n",
      "\u001b[1;31mKeyError\u001b[0m: 'acc'"
     ]
    }
   ],
   "source": [
    "from matplotlib import pyplot as plt\n",
    "history = MLP1.fit(x_train, y_train,validation_split = 0.1, epochs=100, batch_size=4)"
   ]
  },
  {
   "cell_type": "code",
   "execution_count": 17,
   "metadata": {},
   "outputs": [
    {
     "data": {
      "image/png": "[encoded data removed]",
      "text/plain": [
       "<Figure size 640x480 with 1 Axes>"
      ]
     },
     "metadata": {},
     "output_type": "display_data"
    }
   ],
   "source": [
    "plt.plot(history.history['accuracy'])\n",
    "plt.plot(history.history['val_accuracy'])\n",
    "plt.title('First MLP accuracy')\n",
    "plt.ylabel('accuracy')\n",
    "plt.xlabel('epoch')\n",
    "plt.legend(['train', 'val'], loc='upper left')\n",
    "plt.show()"
   ]
  },
  {
   "cell_type": "markdown",
   "metadata": {},
   "source": [
    "Loss against epochs"
   ]
  },
  {
   "cell_type": "code",
   "execution_count": 18,
   "metadata": {},
   "outputs": [
    {
     "data": {
      "image/png": "[encoded data removed]",
      "text/plain": [
       "<Figure size 640x480 with 1 Axes>"
      ]
     },
     "metadata": {},
     "output_type": "display_data"
    }
   ],
   "source": [
    "plt.plot(history.history['loss'])\n",
    "plt.plot(history.history['val_loss'])\n",
    "plt.title('First MLP loss')\n",
    "plt.ylabel('loss')\n",
    "plt.xlabel('epoch')\n",
    "plt.legend(['train', 'val'], loc='upper left')\n",
    "plt.show()"
   ]
  },
  {
   "cell_type": "markdown",
   "metadata": {},
   "source": [
    "Confusion matrix:"
   ]
  },
  {
   "cell_type": "code",
   "execution_count": 19,
   "metadata": {},
   "outputs": [],
   "source": [
    "conf = confusion_matrix(y_test, y_pred1)"
   ]
  },
  {
   "cell_type": "markdown",
   "metadata": {},
   "source": [
    "### Second MLP model"
   ]
  },
  {
   "cell_type": "markdown",
   "metadata": {},
   "source": [
    "Let's try adding a hidden layer to enhance the model's performance"
   ]
  },
  {
   "cell_type": "markdown",
   "metadata": {},
   "source": [
    "Model Hyperparameters:\n",
    "<ul>\n",
    "    <li> Input layers: 1 </li>\n",
    "    <li> Hidden layer: 3, 100 neurons </li>\n",
    "    <li> Activation function in the hidden layer: \"relu\" </li>\n",
    "    <li> output activation function: \"sigmoid\" </li>\n",
    "    <li> opitimizer: \"Adam\" </li>\n",
    "    <li>batch size= 32</li>\n",
    "    <li>epochs= 100 </li>\n",
    "<ul>"
   ]
  },
  {
   "cell_type": "code",
   "execution_count": 20,
   "metadata": {},
   "outputs": [],
   "source": [
    "MLP2 = tf.keras.models.Sequential(layers = None, name= None)"
   ]
  },
  {
   "cell_type": "code",
   "execution_count": 21,
   "metadata": {},
   "outputs": [],
   "source": [
    "MLP2.add(tf.keras.layers.Dense(units= 100, activation= 'relu'))"
   ]
  },
  {
   "cell_type": "code",
   "execution_count": 22,
   "metadata": {},
   "outputs": [],
   "source": [
    "MLP2.add(tf.keras.layers.Dense(units= 100, activation= 'relu')) "
   ]
  },
  {
   "cell_type": "code",
   "execution_count": 23,
   "metadata": {},
   "outputs": [],
   "source": [
    "MLP2.add(tf.keras.layers.Dense(units= 100, activation= 'relu')) "
   ]
  },
  {
   "cell_type": "code",
   "execution_count": 24,
   "metadata": {},
   "outputs": [],
   "source": [
    "MLP2.add(tf.keras.layers.Dense(units= 1, activation= 'sigmoid')) "
   ]
  },
  {
   "cell_type": "code",
   "execution_count": 25,
   "metadata": {},
   "outputs": [],
   "source": [
    "MLP2.compile(optimizer= 'adam', loss= 'binary_crossentropy', metrics=['accuracy'])"
   ]
  },
  {
   "cell_type": "code",
   "execution_count": 26,
   "metadata": {
    "scrolled": true
   },
   "outputs": [
    {
     "name": "stdout",
     "output_type": "stream",
     "text": [
      "Epoch 1/100\n",
      "45/45 [==============================] - 2s 37ms/step - loss: -4468.6108 - accuracy: 0.1915\n",
      "Epoch 2/100\n",
      "45/45 [==============================] - 2s 36ms/step - loss: -131271.1250 - accuracy: 0.1915\n",
      "Epoch 3/100\n",
      "45/45 [==============================] - 2s 36ms/step - loss: -1143350.1250 - accuracy: 0.1915\n",
      "Epoch 4/100\n",
      "45/45 [==============================] - 1s 32ms/step - loss: -5111703.0000 - accuracy: 0.1915\n",
      "Epoch 5/100\n",
      "45/45 [==============================] - 2s 34ms/step - loss: -16354230.0000 - accuracy: 0.1915\n",
      "Epoch 6/100\n",
      "45/45 [==============================] - 2s 35ms/step - loss: -40216900.0000 - accuracy: 0.1915\n",
      "Epoch 7/100\n",
      "45/45 [==============================] - 2s 34ms/step - loss: -84527688.0000 - accuracy: 0.1915\n",
      "Epoch 8/100\n",
      "45/45 [==============================] - 2s 34ms/step - loss: -159958000.0000 - accuracy: 0.1915\n",
      "Epoch 9/100\n",
      "45/45 [==============================] - 2s 34ms/step - loss: -277704992.0000 - accuracy: 0.1915\n",
      "Epoch 10/100\n",
      "45/45 [==============================] - 2s 36ms/step - loss: -449218368.0000 - accuracy: 0.1915\n",
      "Epoch 11/100\n",
      "45/45 [==============================] - 2s 36ms/step - loss: -689463168.0000 - accuracy: 0.1915\n",
      "Epoch 12/100\n",
      "45/45 [==============================] - 2s 35ms/step - loss: -1013054848.0000 - accuracy: 0.1915\n",
      "Epoch 13/100\n",
      "45/45 [==============================] - 2s 35ms/step - loss: -1435445376.0000 - accuracy: 0.1915\n",
      "Epoch 14/100\n",
      "45/45 [==============================] - 2s 34ms/step - loss: -1976463744.0000 - accuracy: 0.1915\n",
      "Epoch 15/100\n",
      "45/45 [==============================] - 2s 35ms/step - loss: -2646095104.0000 - accuracy: 0.1915\n",
      "Epoch 16/100\n",
      "45/45 [==============================] - 2s 35ms/step - loss: -3469898240.0000 - accuracy: 0.1915\n",
      "Epoch 17/100\n",
      "45/45 [==============================] - 2s 34ms/step - loss: -4452427776.0000 - accuracy: 0.1915\n",
      "Epoch 18/100\n",
      "45/45 [==============================] - 1s 29ms/step - loss: -5627725312.0000 - accuracy: 0.1915\n",
      "Epoch 19/100\n",
      "45/45 [==============================] - 2s 36ms/step - loss: -7006432768.0000 - accuracy: 0.1915\n",
      "Epoch 20/100\n",
      "45/45 [==============================] - 1s 33ms/step - loss: -8611865600.0000 - accuracy: 0.1915\n",
      "Epoch 21/100\n",
      "45/45 [==============================] - 2s 35ms/step - loss: -10455055360.0000 - accuracy: 0.1915\n",
      "Epoch 22/100\n",
      "45/45 [==============================] - 2s 37ms/step - loss: -12574352384.0000 - accuracy: 0.1915\n",
      "Epoch 23/100\n",
      "45/45 [==============================] - 2s 34ms/step - loss: -14967379968.0000 - accuracy: 0.1915\n",
      "Epoch 24/100\n",
      "45/45 [==============================] - 2s 34ms/step - loss: -17650532352.0000 - accuracy: 0.1915\n",
      "Epoch 25/100\n",
      "45/45 [==============================] - 2s 35ms/step - loss: -20696629248.0000 - accuracy: 0.1915\n",
      "Epoch 26/100\n",
      "45/45 [==============================] - 2s 34ms/step - loss: -24084346880.0000 - accuracy: 0.1915\n",
      "Epoch 27/100\n",
      "45/45 [==============================] - 2s 36ms/step - loss: -27823593472.0000 - accuracy: 0.1915\n",
      "Epoch 28/100\n",
      "45/45 [==============================] - 2s 35ms/step - loss: -31961946112.0000 - accuracy: 0.1915\n",
      "Epoch 29/100\n",
      "45/45 [==============================] - 2s 35ms/step - loss: -36484915200.0000 - accuracy: 0.1915\n",
      "Epoch 30/100\n",
      "45/45 [==============================] - 1s 32ms/step - loss: -41513791488.0000 - accuracy: 0.1915\n",
      "Epoch 31/100\n",
      "45/45 [==============================] - 1s 29ms/step - loss: -46869843968.0000 - accuracy: 0.1915\n",
      "Epoch 32/100\n",
      "45/45 [==============================] - 2s 34ms/step - loss: -52814663680.0000 - accuracy: 0.1915\n",
      "Epoch 33/100\n",
      "45/45 [==============================] - 1s 33ms/step - loss: -59206000640.0000 - accuracy: 0.1915\n",
      "Epoch 34/100\n",
      "45/45 [==============================] - 2s 35ms/step - loss: -66106073088.0000 - accuracy: 0.1915\n",
      "Epoch 35/100\n",
      "45/45 [==============================] - 2s 37ms/step - loss: -73563774976.0000 - accuracy: 0.1915\n",
      "Epoch 36/100\n",
      "45/45 [==============================] - 2s 34ms/step - loss: -81602306048.0000 - accuracy: 0.1915\n",
      "Epoch 37/100\n",
      "45/45 [==============================] - 2s 35ms/step - loss: -90220445696.0000 - accuracy: 0.1915\n",
      "Epoch 38/100\n",
      "45/45 [==============================] - 1s 33ms/step - loss: -99412213760.0000 - accuracy: 0.1915\n",
      "Epoch 39/100\n",
      "45/45 [==============================] - 1s 32ms/step - loss: -109291659264.0000 - accuracy: 0.1915\n",
      "Epoch 40/100\n",
      "45/45 [==============================] - 2s 37ms/step - loss: -119776141312.0000 - accuracy: 0.1915\n",
      "Epoch 41/100\n",
      "45/45 [==============================] - 2s 35ms/step - loss: -130920038400.0000 - accuracy: 0.1915\n",
      "Epoch 42/100\n",
      "45/45 [==============================] - 2s 34ms/step - loss: -142807400448.0000 - accuracy: 0.1915\n",
      "Epoch 43/100\n",
      "45/45 [==============================] - 2s 35ms/step - loss: -155306704896.0000 - accuracy: 0.1915\n",
      "Epoch 44/100\n",
      "45/45 [==============================] - 2s 35ms/step - loss: -168561803264.0000 - accuracy: 0.1915\n",
      "Epoch 45/100\n",
      "45/45 [==============================] - 2s 33ms/step - loss: -182632972288.0000 - accuracy: 0.1915\n",
      "Epoch 46/100\n",
      "45/45 [==============================] - 2s 35ms/step - loss: -197486215168.0000 - accuracy: 0.1915\n",
      "Epoch 47/100\n",
      "45/45 [==============================] - 2s 34ms/step - loss: -212920516608.0000 - accuracy: 0.1915\n",
      "Epoch 48/100\n",
      "45/45 [==============================] - 2s 37ms/step - loss: -229363171328.0000 - accuracy: 0.1915\n",
      "Epoch 49/100\n",
      "45/45 [==============================] - 2s 34ms/step - loss: -246598582272.0000 - accuracy: 0.1915\n",
      "Epoch 50/100\n",
      "45/45 [==============================] - 2s 38ms/step - loss: -264577073152.0000 - accuracy: 0.1915\n",
      "Epoch 51/100\n",
      "45/45 [==============================] - 2s 34ms/step - loss: -283530952704.0000 - accuracy: 0.1915\n",
      "Epoch 52/100\n",
      "45/45 [==============================] - 1s 32ms/step - loss: -303338782720.0000 - accuracy: 0.1915\n",
      "Epoch 53/100\n",
      "45/45 [==============================] - 2s 35ms/step - loss: -323822649344.0000 - accuracy: 0.1915\n",
      "Epoch 54/100\n",
      "45/45 [==============================] - 2s 35ms/step - loss: -345592856576.0000 - accuracy: 0.1915\n",
      "Epoch 55/100\n",
      "45/45 [==============================] - 2s 35ms/step - loss: -367835676672.0000 - accuracy: 0.1915\n",
      "Epoch 56/100\n",
      "45/45 [==============================] - 2s 33ms/step - loss: -391224426496.0000 - accuracy: 0.1915\n",
      "Epoch 57/100\n",
      "45/45 [==============================] - 2s 35ms/step - loss: -415758712832.0000 - accuracy: 0.1915\n",
      "Epoch 58/100\n",
      "45/45 [==============================] - 2s 40ms/step - loss: -441081200640.0000 - accuracy: 0.1915\n",
      "Epoch 59/100\n",
      "45/45 [==============================] - 2s 36ms/step - loss: -467593756672.0000 - accuracy: 0.1915\n",
      "Epoch 60/100\n",
      "45/45 [==============================] - 2s 34ms/step - loss: -494959362048.0000 - accuracy: 0.1915\n",
      "Epoch 61/100\n",
      "45/45 [==============================] - 2s 34ms/step - loss: -523290148864.0000 - accuracy: 0.1915\n",
      "Epoch 62/100\n",
      "45/45 [==============================] - 2s 36ms/step - loss: -553193897984.0000 - accuracy: 0.1915\n",
      "Epoch 63/100\n",
      "45/45 [==============================] - 1s 33ms/step - loss: -583540146176.0000 - accuracy: 0.1915\n",
      "Epoch 64/100\n",
      "45/45 [==============================] - 1s 32ms/step - loss: -615336312832.0000 - accuracy: 0.1915\n",
      "Epoch 65/100\n",
      "45/45 [==============================] - 2s 35ms/step - loss: -648130265088.0000 - accuracy: 0.1915\n",
      "Epoch 66/100\n",
      "45/45 [==============================] - 2s 35ms/step - loss: -682135322624.0000 - accuracy: 0.1915\n",
      "Epoch 67/100\n",
      "45/45 [==============================] - 2s 36ms/step - loss: -717114441728.0000 - accuracy: 0.1915\n",
      "Epoch 68/100\n",
      "45/45 [==============================] - 2s 35ms/step - loss: -753459986432.0000 - accuracy: 0.1915\n",
      "Epoch 69/100\n",
      "45/45 [==============================] - 1s 33ms/step - loss: -790963748864.0000 - accuracy: 0.1915\n",
      "Epoch 70/100\n",
      "45/45 [==============================] - 2s 34ms/step - loss: -829474340864.0000 - accuracy: 0.1915\n",
      "Epoch 71/100\n",
      "45/45 [==============================] - 2s 34ms/step - loss: -869525422080.0000 - accuracy: 0.1915\n",
      "Epoch 72/100\n",
      "45/45 [==============================] - 1s 32ms/step - loss: -910725677056.0000 - accuracy: 0.1915\n",
      "Epoch 73/100\n",
      "45/45 [==============================] - 2s 36ms/step - loss: -953187827712.0000 - accuracy: 0.1915\n",
      "Epoch 74/100\n",
      "45/45 [==============================] - 1s 33ms/step - loss: -997148196864.0000 - accuracy: 0.1915\n",
      "Epoch 75/100\n",
      "45/45 [==============================] - 2s 34ms/step - loss: -1041899913216.0000 - accuracy: 0.1915\n",
      "Epoch 76/100\n",
      "45/45 [==============================] - 2s 36ms/step - loss: -1088527073280.0000 - accuracy: 0.1915\n",
      "Epoch 77/100\n",
      "45/45 [==============================] - 2s 37ms/step - loss: -1136304717824.0000 - accuracy: 0.1915\n",
      "Epoch 78/100\n",
      "45/45 [==============================] - 2s 36ms/step - loss: -1185140965376.0000 - accuracy: 0.1915\n",
      "Epoch 79/100\n",
      "45/45 [==============================] - 2s 36ms/step - loss: -1235607617536.0000 - accuracy: 0.1915\n",
      "Epoch 80/100\n",
      "45/45 [==============================] - 2s 34ms/step - loss: -1287601258496.0000 - accuracy: 0.1915\n",
      "Epoch 81/100\n",
      "45/45 [==============================] - 2s 35ms/step - loss: -1340581609472.0000 - accuracy: 0.1915\n",
      "Epoch 82/100\n",
      "45/45 [==============================] - 2s 35ms/step - loss: -1395091832832.0000 - accuracy: 0.1915\n",
      "Epoch 83/100\n",
      "45/45 [==============================] - 1s 33ms/step - loss: -1451021565952.0000 - accuracy: 0.1915\n",
      "Epoch 84/100\n",
      "45/45 [==============================] - 1s 33ms/step - loss: -1508529274880.0000 - accuracy: 0.1915\n",
      "Epoch 85/100\n",
      "45/45 [==============================] - 1s 32ms/step - loss: -1567687049216.0000 - accuracy: 0.1915\n",
      "Epoch 86/100\n",
      "45/45 [==============================] - 2s 35ms/step - loss: -1627873345536.0000 - accuracy: 0.1915\n",
      "Epoch 87/100\n",
      "45/45 [==============================] - 2s 35ms/step - loss: -1689575358464.0000 - accuracy: 0.1915\n",
      "Epoch 88/100\n",
      "45/45 [==============================] - 2s 34ms/step - loss: -1753067421696.0000 - accuracy: 0.1915\n",
      "Epoch 89/100\n",
      "45/45 [==============================] - 2s 34ms/step - loss: -1818089095168.0000 - accuracy: 0.1915\n",
      "Epoch 90/100\n",
      "45/45 [==============================] - 1s 33ms/step - loss: -1884437479424.0000 - accuracy: 0.1915\n",
      "Epoch 91/100\n",
      "45/45 [==============================] - 2s 34ms/step - loss: -1952709607424.0000 - accuracy: 0.1915\n",
      "Epoch 92/100\n",
      "45/45 [==============================] - 2s 35ms/step - loss: -2022726172672.0000 - accuracy: 0.1915\n",
      "Epoch 93/100\n",
      "45/45 [==============================] - 2s 36ms/step - loss: -2094240366592.0000 - accuracy: 0.1915\n",
      "Epoch 94/100\n",
      "45/45 [==============================] - 1s 33ms/step - loss: -2166992535552.0000 - accuracy: 0.1915\n",
      "Epoch 95/100\n",
      "45/45 [==============================] - 2s 33ms/step - loss: -2241876197376.0000 - accuracy: 0.1915\n",
      "Epoch 96/100\n",
      "45/45 [==============================] - 1s 32ms/step - loss: -2318741274624.0000 - accuracy: 0.1915\n",
      "Epoch 97/100\n",
      "45/45 [==============================] - 2s 35ms/step - loss: -2396430008320.0000 - accuracy: 0.1915\n",
      "Epoch 98/100\n",
      "45/45 [==============================] - 2s 36ms/step - loss: -2476240535552.0000 - accuracy: 0.1915\n",
      "Epoch 99/100\n",
      "45/45 [==============================] - 1s 29ms/step - loss: -2558248878080.0000 - accuracy: 0.1915\n",
      "Epoch 100/100\n",
      "45/45 [==============================] - 2s 34ms/step - loss: -2641164238848.0000 - accuracy: 0.1915\n"
     ]
    },
    {
     "data": {
      "text/plain": [
       "<keras.callbacks.History at 0x174e1273760>"
      ]
     },
     "execution_count": 26,
     "metadata": {},
     "output_type": "execute_result"
    }
   ],
   "source": [
    "MLP2.fit(x_train, y_train, batch_size= 32, epochs= 100)"
   ]
  },
  {
   "cell_type": "code",
   "execution_count": 27,
   "metadata": {},
   "outputs": [
    {
     "name": "stdout",
     "output_type": "stream",
     "text": [
      "12/12 [==============================] - 0s 32ms/step\n"
     ]
    }
   ],
   "source": [
    "y_pred2= MLP2.predict(x_test)"
   ]
  },
  {
   "cell_type": "markdown",
   "metadata": {},
   "source": [
    "#### Model Evaluation:"
   ]
  },
  {
   "cell_type": "markdown",
   "metadata": {},
   "source": [
    "Learning curve:"
   ]
  },
  {
   "cell_type": "markdown",
   "metadata": {},
   "source": [
    "Accuracy against epochs:"
   ]
  },
  {
   "cell_type": "code",
   "execution_count": 28,
   "metadata": {},
   "outputs": [
    {
     "name": "stdout",
     "output_type": "stream",
     "text": [
      "Epoch 1/100\n",
      "323/323 [==============================] - 2s 6ms/step - loss: -3008962756608.0000 - accuracy: 0.1927 - val_loss: -3155455901696.0000 - val_accuracy: 0.1806\n",
      "Epoch 2/100\n",
      "323/323 [==============================] - 2s 5ms/step - loss: -3643297759232.0000 - accuracy: 0.1927 - val_loss: -3773789896704.0000 - val_accuracy: 0.1806\n",
      "Epoch 3/100\n",
      "323/323 [==============================] - 2s 5ms/step - loss: -4315881930752.0000 - accuracy: 0.1927 - val_loss: -4433260314624.0000 - val_accuracy: 0.1806\n",
      "Epoch 4/100\n",
      "323/323 [==============================] - 2s 5ms/step - loss: -5045134295040.0000 - accuracy: 0.1927 - val_loss: -5152608616448.0000 - val_accuracy: 0.1806\n",
      "Epoch 5/100\n",
      "323/323 [==============================] - 2s 5ms/step - loss: -5835921031168.0000 - accuracy: 0.1927 - val_loss: -5939715375104.0000 - val_accuracy: 0.1806\n",
      "Epoch 6/100\n",
      "323/323 [==============================] - 2s 5ms/step - loss: -6697022128128.0000 - accuracy: 0.1927 - val_loss: -6785770979328.0000 - val_accuracy: 0.1806\n",
      "Epoch 7/100\n",
      "323/323 [==============================] - 2s 5ms/step - loss: -7629438451712.0000 - accuracy: 0.1927 - val_loss: -7711314935808.0000 - val_accuracy: 0.1806\n",
      "Epoch 8/100\n",
      "323/323 [==============================] - 2s 5ms/step - loss: -8645222334464.0000 - accuracy: 0.1927 - val_loss: -8716198871040.0000 - val_accuracy: 0.1806\n",
      "Epoch 9/100\n",
      "323/323 [==============================] - 2s 5ms/step - loss: -9742753726464.0000 - accuracy: 0.1927 - val_loss: -9790004658176.0000 - val_accuracy: 0.1806\n",
      "Epoch 10/100\n",
      "323/323 [==============================] - 2s 5ms/step - loss: -10936897241088.0000 - accuracy: 0.1927 - val_loss: -10980815798272.0000 - val_accuracy: 0.1806\n",
      "Epoch 11/100\n",
      "323/323 [==============================] - 2s 5ms/step - loss: -12217464389632.0000 - accuracy: 0.1927 - val_loss: -12250106560512.0000 - val_accuracy: 0.1806\n",
      "Epoch 12/100\n",
      "323/323 [==============================] - 2s 5ms/step - loss: -13595385528320.0000 - accuracy: 0.1927 - val_loss: -13594378895360.0000 - val_accuracy: 0.1806\n",
      "Epoch 13/100\n",
      "323/323 [==============================] - 2s 5ms/step - loss: -15077318066176.0000 - accuracy: 0.1927 - val_loss: -15049899900928.0000 - val_accuracy: 0.1806\n",
      "Epoch 14/100\n",
      "323/323 [==============================] - 2s 5ms/step - loss: -16665990397952.0000 - accuracy: 0.1927 - val_loss: -16615425966080.0000 - val_accuracy: 0.1806\n",
      "Epoch 15/100\n",
      "323/323 [==============================] - 2s 5ms/step - loss: -18372471291904.0000 - accuracy: 0.1927 - val_loss: -18279842185216.0000 - val_accuracy: 0.1806\n",
      "Epoch 16/100\n",
      "323/323 [==============================] - 2s 5ms/step - loss: -20194416132096.0000 - accuracy: 0.1927 - val_loss: -20071982301184.0000 - val_accuracy: 0.1806\n",
      "Epoch 17/100\n",
      "323/323 [==============================] - 2s 5ms/step - loss: -22135298850816.0000 - accuracy: 0.1927 - val_loss: -21989536301056.0000 - val_accuracy: 0.1806\n",
      "Epoch 18/100\n",
      "323/323 [==============================] - 2s 5ms/step - loss: -24205529710592.0000 - accuracy: 0.1927 - val_loss: -24006841335808.0000 - val_accuracy: 0.1806\n",
      "Epoch 19/100\n",
      "323/323 [==============================] - 2s 5ms/step - loss: -26423848861696.0000 - accuracy: 0.1927 - val_loss: -26204010708992.0000 - val_accuracy: 0.1806\n",
      "Epoch 20/100\n",
      "323/323 [==============================] - 2s 5ms/step - loss: -28780110282752.0000 - accuracy: 0.1927 - val_loss: -28500002078720.0000 - val_accuracy: 0.1806\n",
      "Epoch 21/100\n",
      "323/323 [==============================] - 2s 5ms/step - loss: -31268452433920.0000 - accuracy: 0.1927 - val_loss: -30928929816576.0000 - val_accuracy: 0.1806\n",
      "Epoch 22/100\n",
      "323/323 [==============================] - 2s 5ms/step - loss: -33910369026048.0000 - accuracy: 0.1927 - val_loss: -33493660729344.0000 - val_accuracy: 0.1806\n",
      "Epoch 23/100\n",
      "323/323 [==============================] - 2s 5ms/step - loss: -36692018855936.0000 - accuracy: 0.1927 - val_loss: -36224618201088.0000 - val_accuracy: 0.1806\n",
      "Epoch 24/100\n",
      "323/323 [==============================] - 2s 5ms/step - loss: -39632280485888.0000 - accuracy: 0.1927 - val_loss: -39070541545472.0000 - val_accuracy: 0.1806\n",
      "Epoch 25/100\n",
      "323/323 [==============================] - 2s 5ms/step - loss: -42717526622208.0000 - accuracy: 0.1927 - val_loss: -42072610439168.0000 - val_accuracy: 0.1806\n",
      "Epoch 26/100\n",
      "323/323 [==============================] - 2s 5ms/step - loss: -45965876658176.0000 - accuracy: 0.1927 - val_loss: -45234897551360.0000 - val_accuracy: 0.1806\n",
      "Epoch 27/100\n",
      "323/323 [==============================] - 2s 5ms/step - loss: -49393138925568.0000 - accuracy: 0.1927 - val_loss: -48588600115200.0000 - val_accuracy: 0.1806\n",
      "Epoch 28/100\n",
      "323/323 [==============================] - 2s 5ms/step - loss: -53005193838592.0000 - accuracy: 0.1927 - val_loss: -52101631705088.0000 - val_accuracy: 0.1806\n",
      "Epoch 29/100\n",
      "323/323 [==============================] - 2s 5ms/step - loss: -56805371674624.0000 - accuracy: 0.1927 - val_loss: -55789733543936.0000 - val_accuracy: 0.1806\n",
      "Epoch 30/100\n",
      "323/323 [==============================] - 2s 5ms/step - loss: -60806863519744.0000 - accuracy: 0.1927 - val_loss: -59686334234624.0000 - val_accuracy: 0.1806\n",
      "Epoch 31/100\n",
      "323/323 [==============================] - 2s 5ms/step - loss: -65028975755264.0000 - accuracy: 0.1927 - val_loss: -63822916222976.0000 - val_accuracy: 0.1806\n",
      "Epoch 32/100\n",
      "323/323 [==============================] - 2s 5ms/step - loss: -69447016513536.0000 - accuracy: 0.1927 - val_loss: -68079585329152.0000 - val_accuracy: 0.1806\n",
      "Epoch 33/100\n",
      "323/323 [==============================] - 2s 5ms/step - loss: -74046846795776.0000 - accuracy: 0.1927 - val_loss: -72557424279552.0000 - val_accuracy: 0.1806\n",
      "Epoch 34/100\n",
      "323/323 [==============================] - 2s 5ms/step - loss: -78867083558912.0000 - accuracy: 0.1927 - val_loss: -77247344017408.0000 - val_accuracy: 0.1806\n",
      "Epoch 35/100\n",
      "323/323 [==============================] - 2s 5ms/step - loss: -83914777427968.0000 - accuracy: 0.1927 - val_loss: -82131015434240.0000 - val_accuracy: 0.1806\n",
      "Epoch 36/100\n",
      "323/323 [==============================] - 2s 5ms/step - loss: -89182991024128.0000 - accuracy: 0.1927 - val_loss: -87278810562560.0000 - val_accuracy: 0.1806\n",
      "Epoch 37/100\n",
      "323/323 [==============================] - 2s 5ms/step - loss: -94714883735552.0000 - accuracy: 0.1927 - val_loss: -92651244224512.0000 - val_accuracy: 0.1806\n",
      "Epoch 38/100\n",
      "323/323 [==============================] - 2s 5ms/step - loss: -100449101283328.0000 - accuracy: 0.1927 - val_loss: -98190711848960.0000 - val_accuracy: 0.1806\n",
      "Epoch 39/100\n",
      "323/323 [==============================] - 2s 5ms/step - loss: -106426202587136.0000 - accuracy: 0.1927 - val_loss: -103971024797696.0000 - val_accuracy: 0.1806\n",
      "Epoch 40/100\n",
      "323/323 [==============================] - 2s 5ms/step - loss: -112649811525632.0000 - accuracy: 0.1927 - val_loss: -109968367812608.0000 - val_accuracy: 0.1806\n",
      "Epoch 41/100\n",
      "323/323 [==============================] - 2s 5ms/step - loss: -119157710389248.0000 - accuracy: 0.1927 - val_loss: -116325699551232.0000 - val_accuracy: 0.1806\n",
      "Epoch 42/100\n",
      "323/323 [==============================] - 2s 5ms/step - loss: -125930991255552.0000 - accuracy: 0.1927 - val_loss: -122900556283904.0000 - val_accuracy: 0.1806\n",
      "Epoch 43/100\n",
      "323/323 [==============================] - 2s 5ms/step - loss: -132967003324416.0000 - accuracy: 0.1927 - val_loss: -129699346907136.0000 - val_accuracy: 0.1806\n",
      "Epoch 44/100\n",
      "323/323 [==============================] - 2s 5ms/step - loss: -140256150028288.0000 - accuracy: 0.1927 - val_loss: -136685631307776.0000 - val_accuracy: 0.1806\n",
      "Epoch 45/100\n",
      "323/323 [==============================] - 2s 5ms/step - loss: -147817423175680.0000 - accuracy: 0.1927 - val_loss: -143988862484480.0000 - val_accuracy: 0.1806\n",
      "Epoch 46/100\n",
      "323/323 [==============================] - 2s 5ms/step - loss: -155669713911808.0000 - accuracy: 0.1927 - val_loss: -151677508255744.0000 - val_accuracy: 0.1806\n",
      "Epoch 47/100\n",
      "323/323 [==============================] - 2s 5ms/step - loss: -163806747557888.0000 - accuracy: 0.1927 - val_loss: -159459720560640.0000 - val_accuracy: 0.1806\n",
      "Epoch 48/100\n",
      "323/323 [==============================] - 2s 5ms/step - loss: -172243237732352.0000 - accuracy: 0.1927 - val_loss: -167675808448512.0000 - val_accuracy: 0.1806\n",
      "Epoch 49/100\n",
      "323/323 [==============================] - 2s 5ms/step - loss: -181036663177216.0000 - accuracy: 0.1927 - val_loss: -176186672021504.0000 - val_accuracy: 0.1806\n",
      "Epoch 50/100\n",
      "323/323 [==============================] - 2s 5ms/step - loss: -190159844802560.0000 - accuracy: 0.1927 - val_loss: -184959394381824.0000 - val_accuracy: 0.1806\n",
      "Epoch 51/100\n",
      "323/323 [==============================] - 2s 5ms/step - loss: -199574866100224.0000 - accuracy: 0.1927 - val_loss: -194056688762880.0000 - val_accuracy: 0.1806\n",
      "Epoch 52/100\n",
      "323/323 [==============================] - 2s 5ms/step - loss: -209352107491328.0000 - accuracy: 0.1927 - val_loss: -203510918414336.0000 - val_accuracy: 0.1806\n",
      "Epoch 53/100\n",
      "323/323 [==============================] - 2s 5ms/step - loss: -219488750403584.0000 - accuracy: 0.1927 - val_loss: -213326713847808.0000 - val_accuracy: 0.1806\n",
      "Epoch 54/100\n",
      "323/323 [==============================] - 2s 5ms/step - loss: -230043162771456.0000 - accuracy: 0.1927 - val_loss: -223551353257984.0000 - val_accuracy: 0.1806\n",
      "Epoch 55/100\n",
      "323/323 [==============================] - 2s 5ms/step - loss: -240928488947712.0000 - accuracy: 0.1927 - val_loss: -234091085561856.0000 - val_accuracy: 0.1806\n",
      "Epoch 56/100\n",
      "323/323 [==============================] - 2s 5ms/step - loss: -252205747666944.0000 - accuracy: 0.1927 - val_loss: -245011123798016.0000 - val_accuracy: 0.1806\n",
      "Epoch 57/100\n",
      "323/323 [==============================] - 2s 5ms/step - loss: -263957919039488.0000 - accuracy: 0.1927 - val_loss: -256316199141376.0000 - val_accuracy: 0.1806\n",
      "Epoch 58/100\n",
      "323/323 [==============================] - 2s 5ms/step - loss: -276078182531072.0000 - accuracy: 0.1927 - val_loss: -268074326425600.0000 - val_accuracy: 0.1806\n",
      "Epoch 59/100\n",
      "323/323 [==============================] - 2s 5ms/step - loss: -288587509661696.0000 - accuracy: 0.1927 - val_loss: -280102550110208.0000 - val_accuracy: 0.1806\n",
      "Epoch 60/100\n",
      "323/323 [==============================] - 2s 5ms/step - loss: -301487309717504.0000 - accuracy: 0.1927 - val_loss: -292466804654080.0000 - val_accuracy: 0.1806\n",
      "Epoch 61/100\n",
      "323/323 [==============================] - 2s 5ms/step - loss: -314790366937088.0000 - accuracy: 0.1927 - val_loss: -305328688201728.0000 - val_accuracy: 0.1806\n",
      "Epoch 62/100\n",
      "323/323 [==============================] - 2s 5ms/step - loss: -328485440585728.0000 - accuracy: 0.1927 - val_loss: -318562690400256.0000 - val_accuracy: 0.1806\n",
      "Epoch 63/100\n",
      "323/323 [==============================] - 2s 5ms/step - loss: -342656349634560.0000 - accuracy: 0.1927 - val_loss: -332179078905856.0000 - val_accuracy: 0.1806\n",
      "Epoch 64/100\n",
      "323/323 [==============================] - 2s 5ms/step - loss: -357263533408256.0000 - accuracy: 0.1927 - val_loss: -346295092903936.0000 - val_accuracy: 0.1806\n",
      "Epoch 65/100\n",
      "323/323 [==============================] - 2s 5ms/step - loss: -372294207668224.0000 - accuracy: 0.1927 - val_loss: -360668402286592.0000 - val_accuracy: 0.1806\n",
      "Epoch 66/100\n",
      "323/323 [==============================] - 2s 5ms/step - loss: -387738775846912.0000 - accuracy: 0.1927 - val_loss: -375604218167296.0000 - val_accuracy: 0.1806\n",
      "Epoch 67/100\n",
      "323/323 [==============================] - 2s 5ms/step - loss: -403606800957440.0000 - accuracy: 0.1927 - val_loss: -390871316955136.0000 - val_accuracy: 0.1806\n",
      "Epoch 68/100\n",
      "323/323 [==============================] - 2s 5ms/step - loss: -419975055540224.0000 - accuracy: 0.1927 - val_loss: -406641296015360.0000 - val_accuracy: 0.1806\n",
      "Epoch 69/100\n",
      "323/323 [==============================] - 2s 5ms/step - loss: -436824312905728.0000 - accuracy: 0.1927 - val_loss: -422892445630464.0000 - val_accuracy: 0.1806\n",
      "Epoch 70/100\n",
      "323/323 [==============================] - 2s 5ms/step - loss: -454095416590336.0000 - accuracy: 0.1927 - val_loss: -439581111484416.0000 - val_accuracy: 0.1806\n",
      "Epoch 71/100\n",
      "323/323 [==============================] - 2s 5ms/step - loss: -471833262424064.0000 - accuracy: 0.1927 - val_loss: -456601731334144.0000 - val_accuracy: 0.1806\n",
      "Epoch 72/100\n",
      "323/323 [==============================] - 2s 5ms/step - loss: -490143311986688.0000 - accuracy: 0.1927 - val_loss: -474312565850112.0000 - val_accuracy: 0.1806\n",
      "Epoch 73/100\n",
      "323/323 [==============================] - 2s 5ms/step - loss: -509054052990976.0000 - accuracy: 0.1927 - val_loss: -492467325501440.0000 - val_accuracy: 0.1806\n",
      "Epoch 74/100\n",
      "323/323 [==============================] - 2s 5ms/step - loss: -528616286846976.0000 - accuracy: 0.1927 - val_loss: -511331358736384.0000 - val_accuracy: 0.1806\n",
      "Epoch 75/100\n",
      "323/323 [==============================] - 2s 5ms/step - loss: -548747939414016.0000 - accuracy: 0.1927 - val_loss: -530741993668608.0000 - val_accuracy: 0.1806\n",
      "Epoch 76/100\n",
      "323/323 [==============================] - 2s 5ms/step - loss: -569396632223744.0000 - accuracy: 0.1927 - val_loss: -550480052748288.0000 - val_accuracy: 0.1806\n",
      "Epoch 77/100\n",
      "323/323 [==============================] - 2s 5ms/step - loss: -590545386733568.0000 - accuracy: 0.1927 - val_loss: -571088044032000.0000 - val_accuracy: 0.1806\n",
      "Epoch 78/100\n",
      "323/323 [==============================] - 2s 5ms/step - loss: -612067534962688.0000 - accuracy: 0.1927 - val_loss: -591623960395776.0000 - val_accuracy: 0.1806\n",
      "Epoch 79/100\n",
      "323/323 [==============================] - 2s 5ms/step - loss: -634214668042240.0000 - accuracy: 0.1927 - val_loss: -612953975947264.0000 - val_accuracy: 0.1806\n",
      "Epoch 80/100\n",
      "323/323 [==============================] - 2s 5ms/step - loss: -656979202670592.0000 - accuracy: 0.1927 - val_loss: -634847437520896.0000 - val_accuracy: 0.1806\n",
      "Epoch 81/100\n",
      "323/323 [==============================] - 2s 5ms/step - loss: -680237792755712.0000 - accuracy: 0.1927 - val_loss: -657092146888704.0000 - val_accuracy: 0.1806\n",
      "Epoch 82/100\n",
      "323/323 [==============================] - 2s 5ms/step - loss: -704131165585408.0000 - accuracy: 0.1927 - val_loss: -680075657740288.0000 - val_accuracy: 0.1806\n",
      "Epoch 83/100\n",
      "323/323 [==============================] - 2s 5ms/step - loss: -728578052325376.0000 - accuracy: 0.1927 - val_loss: -703680932216832.0000 - val_accuracy: 0.1806\n",
      "Epoch 84/100\n",
      "323/323 [==============================] - 2s 5ms/step - loss: -753752063606784.0000 - accuracy: 0.1927 - val_loss: -727682148990976.0000 - val_accuracy: 0.1806\n",
      "Epoch 85/100\n",
      "323/323 [==============================] - 2s 5ms/step - loss: -779539986776064.0000 - accuracy: 0.1927 - val_loss: -752662014328832.0000 - val_accuracy: 0.1806\n",
      "Epoch 86/100\n",
      "323/323 [==============================] - 2s 5ms/step - loss: -805877531541504.0000 - accuracy: 0.1927 - val_loss: -777776432939008.0000 - val_accuracy: 0.1806\n",
      "Epoch 87/100\n",
      "323/323 [==============================] - 2s 5ms/step - loss: -832899653828608.0000 - accuracy: 0.1927 - val_loss: -803815074824192.0000 - val_accuracy: 0.1806\n",
      "Epoch 88/100\n",
      "323/323 [==============================] - 2s 5ms/step - loss: -860662322429952.0000 - accuracy: 0.1927 - val_loss: -830710361358336.0000 - val_accuracy: 0.1806\n",
      "Epoch 89/100\n",
      "323/323 [==============================] - 2s 5ms/step - loss: -889073665310720.0000 - accuracy: 0.1927 - val_loss: -857978370523136.0000 - val_accuracy: 0.1806\n",
      "Epoch 90/100\n",
      "323/323 [==============================] - 2s 5ms/step - loss: -918071673880576.0000 - accuracy: 0.1927 - val_loss: -885449719545856.0000 - val_accuracy: 0.1806\n",
      "Epoch 91/100\n",
      "323/323 [==============================] - 2s 5ms/step - loss: -947640913100800.0000 - accuracy: 0.1927 - val_loss: -913869115490304.0000 - val_accuracy: 0.1806\n",
      "Epoch 92/100\n",
      "323/323 [==============================] - 2s 5ms/step - loss: -978064313942016.0000 - accuracy: 0.1927 - val_loss: -943238974275584.0000 - val_accuracy: 0.1806\n",
      "Epoch 93/100\n",
      "323/323 [==============================] - 2s 5ms/step - loss: -1009223831912448.0000 - accuracy: 0.1927 - val_loss: -973148522545152.0000 - val_accuracy: 0.1806\n",
      "Epoch 94/100\n",
      "323/323 [==============================] - 2s 5ms/step - loss: -1041153491206144.0000 - accuracy: 0.1927 - val_loss: -1004275157172224.0000 - val_accuracy: 0.1806\n",
      "Epoch 95/100\n",
      "323/323 [==============================] - 2s 5ms/step - loss: -1073704779907072.0000 - accuracy: 0.1927 - val_loss: -1035029404712960.0000 - val_accuracy: 0.1806\n",
      "Epoch 96/100\n",
      "323/323 [==============================] - 2s 5ms/step - loss: -1106956416712704.0000 - accuracy: 0.1927 - val_loss: -1067215017213952.0000 - val_accuracy: 0.1806\n",
      "Epoch 97/100\n",
      "323/323 [==============================] - 2s 5ms/step - loss: -1141072952557568.0000 - accuracy: 0.1927 - val_loss: -1099885759692800.0000 - val_accuracy: 0.1806\n",
      "Epoch 98/100\n",
      "323/323 [==============================] - 2s 5ms/step - loss: -1176010498244608.0000 - accuracy: 0.1927 - val_loss: -1133266178408448.0000 - val_accuracy: 0.1806\n",
      "Epoch 99/100\n",
      "323/323 [==============================] - 2s 5ms/step - loss: -1211533233225728.0000 - accuracy: 0.1927 - val_loss: -1167298828173312.0000 - val_accuracy: 0.1806\n",
      "Epoch 100/100\n",
      "323/323 [==============================] - 2s 5ms/step - loss: -1247795507888128.0000 - accuracy: 0.1927 - val_loss: -1202286839726080.0000 - val_accuracy: 0.1806\n"
     ]
    },
    {
     "data": {
      "image/png": "[encoded data removed]",
      "text/plain": [
       "<Figure size 640x480 with 1 Axes>"
      ]
     },
     "metadata": {},
     "output_type": "display_data"
    }
   ],
   "source": [
    "from matplotlib import pyplot as plt\n",
    "history = MLP2.fit(x_train, y_train,validation_split = 0.1, epochs=100, batch_size=4)\n",
    "plt.plot(history.history['accuracy'])\n",
    "plt.plot(history.history['val_accuracy'])\n",
    "plt.title('Second MLP accuracy')\n",
    "plt.ylabel('accuracy')\n",
    "plt.xlabel('epoch')\n",
    "plt.legend(['train', 'val'], loc='upper left')\n",
    "plt.show()"
   ]
  },
  {
   "cell_type": "markdown",
   "metadata": {},
   "source": [
    "Loss against epochs"
   ]
  },
  {
   "cell_type": "code",
   "execution_count": 29,
   "metadata": {},
   "outputs": [
    {
     "data": {
      "image/png": "[encoded data removed]",
      "text/plain": [
       "<Figure size 640x480 with 1 Axes>"
      ]
     },
     "metadata": {},
     "output_type": "display_data"
    }
   ],
   "source": [
    "plt.plot(history.history['loss'])\n",
    "plt.plot(history.history['val_loss'])\n",
    "plt.title('Second MLP loss')\n",
    "plt.ylabel('loss')\n",
    "plt.xlabel('epoch')\n",
    "plt.legend(['train', 'val'], loc='upper left')\n",
    "plt.show()"
   ]
  },
  {
   "cell_type": "markdown",
   "metadata": {},
   "source": [
    "Confusion matrix:"
   ]
  },
  {
   "cell_type": "code",
   "execution_count": 30,
   "metadata": {},
   "outputs": [],
   "source": [
    "conf = confusion_matrix(y_test, y_pred2)"
   ]
  },
  {
   "cell_type": "markdown",
   "metadata": {},
   "source": [
    "### Third MLP model"
   ]
  },
  {
   "cell_type": "markdown",
   "metadata": {},
   "source": [
    "We'll using the \"momentum\" optimizer"
   ]
  },
  {
   "cell_type": "markdown",
   "metadata": {},
   "source": [
    "Model Hyperparameters:\n",
    "<ul>\n",
    "    <li> Input layers: 1 </li>\n",
    "    <li> Hidden layer: 3, 150 neurons each </li>\n",
    "    <li> Activation function in the hidden layer: \"relu\" </li>\n",
    "    <li> output activation function: \"sigmoid\" </li>\n",
    "    <li> opitimizer: \"Momentum\" </li>\n",
    "    <li>batch size= 32</li>\n",
    "    <li>epochs= 100 </li>\n",
    "<ul>"
   ]
  },
  {
   "cell_type": "code",
   "execution_count": 31,
   "metadata": {},
   "outputs": [],
   "source": [
    "MLP3 = tf.keras.models.Sequential(layers = None, name= None)"
   ]
  },
  {
   "cell_type": "code",
   "execution_count": 32,
   "metadata": {},
   "outputs": [],
   "source": [
    "MLP3.add(tf.keras.layers.Dense(units= 150, activation= 'relu'))"
   ]
  },
  {
   "cell_type": "code",
   "execution_count": 33,
   "metadata": {},
   "outputs": [],
   "source": [
    "MLP3.add(tf.keras.layers.Dense(units= 150, activation= 'relu')) "
   ]
  },
  {
   "cell_type": "code",
   "execution_count": 34,
   "metadata": {},
   "outputs": [],
   "source": [
    "MLP3.add(tf.keras.layers.Dense(units= 150, activation= 'relu')) "
   ]
  },
  {
   "cell_type": "code",
   "execution_count": 35,
   "metadata": {},
   "outputs": [],
   "source": [
    "MLP3.add(tf.keras.layers.Dense(units= 1, activation= 'sigmoid'))"
   ]
  },
  {
   "cell_type": "code",
   "execution_count": 38,
   "metadata": {},
   "outputs": [],
   "source": [
    "momentum = tf.compat.v1.train.MomentumOptimizer(learning_rate=0.01, momentum=0.9)\n",
    "MLP3.compile(optimizer= momentum, loss= 'binary_crossentropy', metrics=['accuracy'])"
   ]
  },
  {
   "cell_type": "code",
   "execution_count": 39,
   "metadata": {},
   "outputs": [
    {
     "name": "stdout",
     "output_type": "stream",
     "text": [
      "Epoch 1/100\n",
      "45/45 [==============================] - 2s 30ms/step - loss: nan - accuracy: 0.1936\n",
      "Epoch 2/100\n",
      "45/45 [==============================] - 1s 23ms/step - loss: nan - accuracy: 0.2026\n",
      "Epoch 3/100\n",
      "45/45 [==============================] - 1s 23ms/step - loss: nan - accuracy: 0.2026\n",
      "Epoch 4/100\n",
      "45/45 [==============================] - 1s 26ms/step - loss: nan - accuracy: 0.2026\n",
      "Epoch 5/100\n",
      "45/45 [==============================] - 1s 21ms/step - loss: nan - accuracy: 0.2026\n",
      "Epoch 6/100\n",
      "45/45 [==============================] - 1s 25ms/step - loss: nan - accuracy: 0.2026\n",
      "Epoch 7/100\n",
      "45/45 [==============================] - 1s 29ms/step - loss: nan - accuracy: 0.2026\n",
      "Epoch 8/100\n",
      "45/45 [==============================] - 1s 26ms/step - loss: nan - accuracy: 0.2026\n",
      "Epoch 9/100\n",
      "45/45 [==============================] - 1s 26ms/step - loss: nan - accuracy: 0.2026\n",
      "Epoch 10/100\n",
      "45/45 [==============================] - 1s 24ms/step - loss: nan - accuracy: 0.2026\n",
      "Epoch 11/100\n",
      "45/45 [==============================] - 1s 30ms/step - loss: nan - accuracy: 0.2026\n",
      "Epoch 12/100\n",
      "45/45 [==============================] - 1s 29ms/step - loss: nan - accuracy: 0.2026\n",
      "Epoch 13/100\n",
      "45/45 [==============================] - 1s 24ms/step - loss: nan - accuracy: 0.2026\n",
      "Epoch 14/100\n",
      "45/45 [==============================] - 1s 27ms/step - loss: nan - accuracy: 0.2026\n",
      "Epoch 15/100\n",
      "45/45 [==============================] - 1s 26ms/step - loss: nan - accuracy: 0.2026\n",
      "Epoch 16/100\n",
      "45/45 [==============================] - 1s 28ms/step - loss: nan - accuracy: 0.2026\n",
      "Epoch 17/100\n",
      "45/45 [==============================] - 1s 24ms/step - loss: nan - accuracy: 0.2026\n",
      "Epoch 18/100\n",
      "45/45 [==============================] - 1s 24ms/step - loss: nan - accuracy: 0.2026\n",
      "Epoch 19/100\n",
      "45/45 [==============================] - 1s 26ms/step - loss: nan - accuracy: 0.2026\n",
      "Epoch 20/100\n",
      "45/45 [==============================] - 1s 29ms/step - loss: nan - accuracy: 0.2026\n",
      "Epoch 21/100\n",
      "45/45 [==============================] - 1s 25ms/step - loss: nan - accuracy: 0.2026\n",
      "Epoch 22/100\n",
      "45/45 [==============================] - 1s 24ms/step - loss: nan - accuracy: 0.2026\n",
      "Epoch 23/100\n",
      "45/45 [==============================] - 1s 29ms/step - loss: nan - accuracy: 0.2026\n",
      "Epoch 24/100\n",
      "45/45 [==============================] - 1s 23ms/step - loss: nan - accuracy: 0.2026\n",
      "Epoch 25/100\n",
      "45/45 [==============================] - 1s 28ms/step - loss: nan - accuracy: 0.2026\n",
      "Epoch 26/100\n",
      "45/45 [==============================] - 1s 22ms/step - loss: nan - accuracy: 0.2026\n",
      "Epoch 27/100\n",
      "45/45 [==============================] - 1s 26ms/step - loss: nan - accuracy: 0.2026\n",
      "Epoch 28/100\n",
      "45/45 [==============================] - 1s 26ms/step - loss: nan - accuracy: 0.2026\n",
      "Epoch 29/100\n",
      "45/45 [==============================] - 1s 29ms/step - loss: nan - accuracy: 0.2026\n",
      "Epoch 30/100\n",
      "45/45 [==============================] - 1s 22ms/step - loss: nan - accuracy: 0.2026\n",
      "Epoch 31/100\n",
      "45/45 [==============================] - 1s 22ms/step - loss: nan - accuracy: 0.2026\n",
      "Epoch 32/100\n",
      "45/45 [==============================] - 1s 28ms/step - loss: nan - accuracy: 0.2026\n",
      "Epoch 33/100\n",
      "45/45 [==============================] - 1s 27ms/step - loss: nan - accuracy: 0.2026\n",
      "Epoch 34/100\n",
      "45/45 [==============================] - 1s 29ms/step - loss: nan - accuracy: 0.2026\n",
      "Epoch 35/100\n",
      "45/45 [==============================] - 1s 27ms/step - loss: nan - accuracy: 0.2026\n",
      "Epoch 36/100\n",
      "45/45 [==============================] - 1s 25ms/step - loss: nan - accuracy: 0.2026\n",
      "Epoch 37/100\n",
      "45/45 [==============================] - 1s 25ms/step - loss: nan - accuracy: 0.2026\n",
      "Epoch 38/100\n",
      "45/45 [==============================] - 1s 24ms/step - loss: nan - accuracy: 0.2026\n",
      "Epoch 39/100\n",
      "45/45 [==============================] - 1s 25ms/step - loss: nan - accuracy: 0.2026\n",
      "Epoch 40/100\n",
      "45/45 [==============================] - 1s 21ms/step - loss: nan - accuracy: 0.2026\n",
      "Epoch 41/100\n",
      "45/45 [==============================] - 1s 26ms/step - loss: nan - accuracy: 0.2026\n",
      "Epoch 42/100\n",
      "45/45 [==============================] - 1s 29ms/step - loss: nan - accuracy: 0.2026\n",
      "Epoch 43/100\n",
      "45/45 [==============================] - 1s 26ms/step - loss: nan - accuracy: 0.2026\n",
      "Epoch 44/100\n",
      "45/45 [==============================] - 1s 28ms/step - loss: nan - accuracy: 0.2026\n",
      "Epoch 45/100\n",
      "45/45 [==============================] - 1s 29ms/step - loss: nan - accuracy: 0.2026\n",
      "Epoch 46/100\n",
      "45/45 [==============================] - 1s 28ms/step - loss: nan - accuracy: 0.2026\n",
      "Epoch 47/100\n",
      "45/45 [==============================] - 1s 31ms/step - loss: nan - accuracy: 0.2026\n",
      "Epoch 48/100\n",
      "45/45 [==============================] - 1s 29ms/step - loss: nan - accuracy: 0.2026\n",
      "Epoch 49/100\n",
      "45/45 [==============================] - 1s 26ms/step - loss: nan - accuracy: 0.2026\n",
      "Epoch 50/100\n",
      "45/45 [==============================] - 1s 27ms/step - loss: nan - accuracy: 0.2026\n",
      "Epoch 51/100\n",
      "45/45 [==============================] - 1s 25ms/step - loss: nan - accuracy: 0.2026\n",
      "Epoch 52/100\n",
      "45/45 [==============================] - 1s 29ms/step - loss: nan - accuracy: 0.2026\n",
      "Epoch 53/100\n",
      "45/45 [==============================] - 1s 26ms/step - loss: nan - accuracy: 0.2026\n",
      "Epoch 54/100\n",
      "45/45 [==============================] - 1s 30ms/step - loss: nan - accuracy: 0.2026\n",
      "Epoch 55/100\n",
      "45/45 [==============================] - 1s 28ms/step - loss: nan - accuracy: 0.2026\n",
      "Epoch 56/100\n",
      "45/45 [==============================] - 1s 26ms/step - loss: nan - accuracy: 0.2026\n",
      "Epoch 57/100\n",
      "45/45 [==============================] - 1s 26ms/step - loss: nan - accuracy: 0.2026\n",
      "Epoch 58/100\n",
      "45/45 [==============================] - 1s 28ms/step - loss: nan - accuracy: 0.2026\n",
      "Epoch 59/100\n",
      "45/45 [==============================] - 1s 24ms/step - loss: nan - accuracy: 0.2026\n",
      "Epoch 60/100\n",
      "45/45 [==============================] - 1s 25ms/step - loss: nan - accuracy: 0.2026\n",
      "Epoch 61/100\n",
      "45/45 [==============================] - 1s 29ms/step - loss: nan - accuracy: 0.2026\n",
      "Epoch 62/100\n",
      "45/45 [==============================] - 1s 24ms/step - loss: nan - accuracy: 0.2026\n",
      "Epoch 63/100\n",
      "45/45 [==============================] - 1s 22ms/step - loss: nan - accuracy: 0.2026\n",
      "Epoch 64/100\n",
      "45/45 [==============================] - 1s 26ms/step - loss: nan - accuracy: 0.2026\n",
      "Epoch 65/100\n",
      "45/45 [==============================] - 1s 27ms/step - loss: nan - accuracy: 0.2026\n",
      "Epoch 66/100\n",
      "45/45 [==============================] - 1s 24ms/step - loss: nan - accuracy: 0.2026\n",
      "Epoch 67/100\n",
      "45/45 [==============================] - 1s 29ms/step - loss: nan - accuracy: 0.2026\n",
      "Epoch 68/100\n",
      "45/45 [==============================] - 1s 24ms/step - loss: nan - accuracy: 0.2026\n",
      "Epoch 69/100\n",
      "45/45 [==============================] - 1s 27ms/step - loss: nan - accuracy: 0.2026\n",
      "Epoch 70/100\n",
      "45/45 [==============================] - 1s 21ms/step - loss: nan - accuracy: 0.2026\n",
      "Epoch 71/100\n",
      "45/45 [==============================] - 1s 27ms/step - loss: nan - accuracy: 0.2026\n",
      "Epoch 72/100\n",
      "45/45 [==============================] - 1s 27ms/step - loss: nan - accuracy: 0.2026\n",
      "Epoch 73/100\n",
      "45/45 [==============================] - 1s 26ms/step - loss: nan - accuracy: 0.2026\n",
      "Epoch 74/100\n",
      "45/45 [==============================] - 1s 28ms/step - loss: nan - accuracy: 0.2026\n",
      "Epoch 75/100\n",
      "45/45 [==============================] - 1s 25ms/step - loss: nan - accuracy: 0.2026\n",
      "Epoch 76/100\n",
      "45/45 [==============================] - 1s 26ms/step - loss: nan - accuracy: 0.2026\n",
      "Epoch 77/100\n",
      "45/45 [==============================] - 1s 22ms/step - loss: nan - accuracy: 0.2026\n",
      "Epoch 78/100\n",
      "45/45 [==============================] - 1s 23ms/step - loss: nan - accuracy: 0.2026\n",
      "Epoch 79/100\n",
      "45/45 [==============================] - 1s 24ms/step - loss: nan - accuracy: 0.2026\n",
      "Epoch 80/100\n",
      "45/45 [==============================] - 1s 29ms/step - loss: nan - accuracy: 0.2026\n",
      "Epoch 81/100\n",
      "45/45 [==============================] - 1s 30ms/step - loss: nan - accuracy: 0.2026\n",
      "Epoch 82/100\n",
      "45/45 [==============================] - 1s 29ms/step - loss: nan - accuracy: 0.2026\n",
      "Epoch 83/100\n",
      "45/45 [==============================] - 1s 25ms/step - loss: nan - accuracy: 0.2026\n",
      "Epoch 84/100\n",
      "45/45 [==============================] - 1s 22ms/step - loss: nan - accuracy: 0.2026\n",
      "Epoch 85/100\n",
      "45/45 [==============================] - 1s 30ms/step - loss: nan - accuracy: 0.2026\n",
      "Epoch 86/100\n",
      "45/45 [==============================] - 1s 29ms/step - loss: nan - accuracy: 0.2026\n",
      "Epoch 87/100\n",
      "45/45 [==============================] - 1s 30ms/step - loss: nan - accuracy: 0.2026\n",
      "Epoch 88/100\n",
      "45/45 [==============================] - 1s 27ms/step - loss: nan - accuracy: 0.2026\n",
      "Epoch 89/100\n",
      "45/45 [==============================] - 1s 27ms/step - loss: nan - accuracy: 0.2026\n",
      "Epoch 90/100\n",
      "45/45 [==============================] - 1s 28ms/step - loss: nan - accuracy: 0.2026\n",
      "Epoch 91/100\n",
      "45/45 [==============================] - 1s 25ms/step - loss: nan - accuracy: 0.2026\n",
      "Epoch 92/100\n",
      "45/45 [==============================] - 1s 23ms/step - loss: nan - accuracy: 0.2026\n",
      "Epoch 93/100\n",
      "45/45 [==============================] - 1s 28ms/step - loss: nan - accuracy: 0.2026\n",
      "Epoch 94/100\n",
      "45/45 [==============================] - 1s 27ms/step - loss: nan - accuracy: 0.2026\n",
      "Epoch 95/100\n",
      "45/45 [==============================] - 1s 29ms/step - loss: nan - accuracy: 0.2026\n",
      "Epoch 96/100\n",
      "45/45 [==============================] - 2s 36ms/step - loss: nan - accuracy: 0.2026\n",
      "Epoch 97/100\n",
      "45/45 [==============================] - 1s 26ms/step - loss: nan - accuracy: 0.2026\n",
      "Epoch 98/100\n",
      "45/45 [==============================] - 1s 32ms/step - loss: nan - accuracy: 0.2026\n",
      "Epoch 99/100\n",
      "45/45 [==============================] - 2s 34ms/step - loss: nan - accuracy: 0.2026\n",
      "Epoch 100/100\n",
      "45/45 [==============================] - 1s 30ms/step - loss: nan - accuracy: 0.2026\n"
     ]
    },
    {
     "data": {
      "text/plain": [
       "<keras.callbacks.History at 0x174e5a9ae20>"
      ]
     },
     "execution_count": 39,
     "metadata": {},
     "output_type": "execute_result"
    }
   ],
   "source": [
    "MLP3.fit(x_train, y_train, batch_size= 32, epochs= 100)"
   ]
  },
  {
   "cell_type": "code",
   "execution_count": 40,
   "metadata": {},
   "outputs": [
    {
     "name": "stdout",
     "output_type": "stream",
     "text": [
      "12/12 [==============================] - 0s 4ms/step\n"
     ]
    }
   ],
   "source": [
    "y_pred3= MLP3.predict(x_test)"
   ]
  },
  {
   "cell_type": "markdown",
   "metadata": {},
   "source": [
    "#### Model Evaluation:"
   ]
  },
  {
   "cell_type": "markdown",
   "metadata": {},
   "source": [
    "Learning curve:"
   ]
  },
  {
   "cell_type": "markdown",
   "metadata": {},
   "source": [
    "Accuracy against epochs:"
   ]
  },
  {
   "cell_type": "code",
   "execution_count": 41,
   "metadata": {},
   "outputs": [
    {
     "name": "stdout",
     "output_type": "stream",
     "text": [
      "Epoch 1/100\n",
      "323/323 [==============================] - 2s 7ms/step - loss: nan - accuracy: 0.2012 - val_loss: nan - val_accuracy: 0.2153\n",
      "Epoch 2/100\n",
      "323/323 [==============================] - 2s 6ms/step - loss: nan - accuracy: 0.2012 - val_loss: nan - val_accuracy: 0.2153\n",
      "Epoch 3/100\n",
      "323/323 [==============================] - 2s 6ms/step - loss: nan - accuracy: 0.2012 - val_loss: nan - val_accuracy: 0.2153\n",
      "Epoch 4/100\n",
      "323/323 [==============================] - 2s 6ms/step - loss: nan - accuracy: 0.2012 - val_loss: nan - val_accuracy: 0.2153\n",
      "Epoch 5/100\n",
      "323/323 [==============================] - 2s 6ms/step - loss: nan - accuracy: 0.2012 - val_loss: nan - val_accuracy: 0.2153\n",
      "Epoch 6/100\n",
      "323/323 [==============================] - 2s 6ms/step - loss: nan - accuracy: 0.2012 - val_loss: nan - val_accuracy: 0.2153\n",
      "Epoch 7/100\n",
      "323/323 [==============================] - 2s 6ms/step - loss: nan - accuracy: 0.2012 - val_loss: nan - val_accuracy: 0.2153\n",
      "Epoch 8/100\n",
      "323/323 [==============================] - 2s 6ms/step - loss: nan - accuracy: 0.2012 - val_loss: nan - val_accuracy: 0.2153\n",
      "Epoch 9/100\n",
      "323/323 [==============================] - 2s 6ms/step - loss: nan - accuracy: 0.2012 - val_loss: nan - val_accuracy: 0.2153\n",
      "Epoch 10/100\n",
      "323/323 [==============================] - 2s 6ms/step - loss: nan - accuracy: 0.2012 - val_loss: nan - val_accuracy: 0.2153\n",
      "Epoch 11/100\n",
      "323/323 [==============================] - 2s 6ms/step - loss: nan - accuracy: 0.2012 - val_loss: nan - val_accuracy: 0.2153\n",
      "Epoch 12/100\n",
      "323/323 [==============================] - 2s 6ms/step - loss: nan - accuracy: 0.2012 - val_loss: nan - val_accuracy: 0.2153\n",
      "Epoch 13/100\n",
      "323/323 [==============================] - 2s 6ms/step - loss: nan - accuracy: 0.2012 - val_loss: nan - val_accuracy: 0.2153\n",
      "Epoch 14/100\n",
      "323/323 [==============================] - 2s 6ms/step - loss: nan - accuracy: 0.2012 - val_loss: nan - val_accuracy: 0.2153\n",
      "Epoch 15/100\n",
      "323/323 [==============================] - 2s 6ms/step - loss: nan - accuracy: 0.2012 - val_loss: nan - val_accuracy: 0.2153\n",
      "Epoch 16/100\n",
      "323/323 [==============================] - 2s 6ms/step - loss: nan - accuracy: 0.2012 - val_loss: nan - val_accuracy: 0.2153\n",
      "Epoch 17/100\n",
      "323/323 [==============================] - 2s 6ms/step - loss: nan - accuracy: 0.2012 - val_loss: nan - val_accuracy: 0.2153\n",
      "Epoch 18/100\n",
      "323/323 [==============================] - 2s 6ms/step - loss: nan - accuracy: 0.2012 - val_loss: nan - val_accuracy: 0.2153\n",
      "Epoch 19/100\n",
      "323/323 [==============================] - 2s 6ms/step - loss: nan - accuracy: 0.2012 - val_loss: nan - val_accuracy: 0.2153\n",
      "Epoch 20/100\n",
      "323/323 [==============================] - 2s 6ms/step - loss: nan - accuracy: 0.2012 - val_loss: nan - val_accuracy: 0.2153\n",
      "Epoch 21/100\n",
      "323/323 [==============================] - 2s 6ms/step - loss: nan - accuracy: 0.2012 - val_loss: nan - val_accuracy: 0.2153\n",
      "Epoch 22/100\n",
      "323/323 [==============================] - 2s 6ms/step - loss: nan - accuracy: 0.2012 - val_loss: nan - val_accuracy: 0.2153\n",
      "Epoch 23/100\n",
      "323/323 [==============================] - 2s 6ms/step - loss: nan - accuracy: 0.2012 - val_loss: nan - val_accuracy: 0.2153\n",
      "Epoch 24/100\n",
      "323/323 [==============================] - 2s 6ms/step - loss: nan - accuracy: 0.2012 - val_loss: nan - val_accuracy: 0.2153\n",
      "Epoch 25/100\n",
      "323/323 [==============================] - 2s 6ms/step - loss: nan - accuracy: 0.2012 - val_loss: nan - val_accuracy: 0.2153\n",
      "Epoch 26/100\n",
      "323/323 [==============================] - 2s 6ms/step - loss: nan - accuracy: 0.2012 - val_loss: nan - val_accuracy: 0.2153\n",
      "Epoch 27/100\n",
      "323/323 [==============================] - 2s 6ms/step - loss: nan - accuracy: 0.2012 - val_loss: nan - val_accuracy: 0.2153\n",
      "Epoch 28/100\n",
      "323/323 [==============================] - 2s 6ms/step - loss: nan - accuracy: 0.2012 - val_loss: nan - val_accuracy: 0.2153\n",
      "Epoch 29/100\n",
      "323/323 [==============================] - 2s 6ms/step - loss: nan - accuracy: 0.2012 - val_loss: nan - val_accuracy: 0.2153\n",
      "Epoch 30/100\n",
      "323/323 [==============================] - 2s 6ms/step - loss: nan - accuracy: 0.2012 - val_loss: nan - val_accuracy: 0.2153\n",
      "Epoch 31/100\n",
      "323/323 [==============================] - 2s 6ms/step - loss: nan - accuracy: 0.2012 - val_loss: nan - val_accuracy: 0.2153\n",
      "Epoch 32/100\n",
      "323/323 [==============================] - 2s 6ms/step - loss: nan - accuracy: 0.2012 - val_loss: nan - val_accuracy: 0.2153\n",
      "Epoch 33/100\n",
      "323/323 [==============================] - 2s 6ms/step - loss: nan - accuracy: 0.2012 - val_loss: nan - val_accuracy: 0.2153\n",
      "Epoch 34/100\n",
      "323/323 [==============================] - 2s 6ms/step - loss: nan - accuracy: 0.2012 - val_loss: nan - val_accuracy: 0.2153\n",
      "Epoch 35/100\n",
      "323/323 [==============================] - 2s 6ms/step - loss: nan - accuracy: 0.2012 - val_loss: nan - val_accuracy: 0.2153\n",
      "Epoch 36/100\n",
      "323/323 [==============================] - 2s 6ms/step - loss: nan - accuracy: 0.2012 - val_loss: nan - val_accuracy: 0.2153\n",
      "Epoch 37/100\n",
      "323/323 [==============================] - 2s 6ms/step - loss: nan - accuracy: 0.2012 - val_loss: nan - val_accuracy: 0.2153\n",
      "Epoch 38/100\n",
      "323/323 [==============================] - 2s 6ms/step - loss: nan - accuracy: 0.2012 - val_loss: nan - val_accuracy: 0.2153\n",
      "Epoch 39/100\n",
      "323/323 [==============================] - 2s 6ms/step - loss: nan - accuracy: 0.2012 - val_loss: nan - val_accuracy: 0.2153\n",
      "Epoch 40/100\n",
      "323/323 [==============================] - 2s 6ms/step - loss: nan - accuracy: 0.2012 - val_loss: nan - val_accuracy: 0.2153\n",
      "Epoch 41/100\n",
      "323/323 [==============================] - 2s 6ms/step - loss: nan - accuracy: 0.2012 - val_loss: nan - val_accuracy: 0.2153\n",
      "Epoch 42/100\n",
      "323/323 [==============================] - 2s 6ms/step - loss: nan - accuracy: 0.2012 - val_loss: nan - val_accuracy: 0.2153\n",
      "Epoch 43/100\n",
      "323/323 [==============================] - 2s 6ms/step - loss: nan - accuracy: 0.2012 - val_loss: nan - val_accuracy: 0.2153\n",
      "Epoch 44/100\n",
      "323/323 [==============================] - 2s 6ms/step - loss: nan - accuracy: 0.2012 - val_loss: nan - val_accuracy: 0.2153\n",
      "Epoch 45/100\n",
      "323/323 [==============================] - 2s 6ms/step - loss: nan - accuracy: 0.2012 - val_loss: nan - val_accuracy: 0.2153\n",
      "Epoch 46/100\n",
      "323/323 [==============================] - 2s 6ms/step - loss: nan - accuracy: 0.2012 - val_loss: nan - val_accuracy: 0.2153\n",
      "Epoch 47/100\n",
      "323/323 [==============================] - 2s 6ms/step - loss: nan - accuracy: 0.2012 - val_loss: nan - val_accuracy: 0.2153\n",
      "Epoch 48/100\n",
      "323/323 [==============================] - 2s 6ms/step - loss: nan - accuracy: 0.2012 - val_loss: nan - val_accuracy: 0.2153\n",
      "Epoch 49/100\n",
      "323/323 [==============================] - 2s 6ms/step - loss: nan - accuracy: 0.2012 - val_loss: nan - val_accuracy: 0.2153\n",
      "Epoch 50/100\n",
      "323/323 [==============================] - 2s 6ms/step - loss: nan - accuracy: 0.2012 - val_loss: nan - val_accuracy: 0.2153\n",
      "Epoch 51/100\n",
      "323/323 [==============================] - 2s 6ms/step - loss: nan - accuracy: 0.2012 - val_loss: nan - val_accuracy: 0.2153\n",
      "Epoch 52/100\n",
      "323/323 [==============================] - 2s 6ms/step - loss: nan - accuracy: 0.2012 - val_loss: nan - val_accuracy: 0.2153\n",
      "Epoch 53/100\n",
      "323/323 [==============================] - 2s 6ms/step - loss: nan - accuracy: 0.2012 - val_loss: nan - val_accuracy: 0.2153\n",
      "Epoch 54/100\n",
      "323/323 [==============================] - 2s 6ms/step - loss: nan - accuracy: 0.2012 - val_loss: nan - val_accuracy: 0.2153\n",
      "Epoch 55/100\n",
      "323/323 [==============================] - 2s 6ms/step - loss: nan - accuracy: 0.2012 - val_loss: nan - val_accuracy: 0.2153\n",
      "Epoch 56/100\n",
      "323/323 [==============================] - 2s 6ms/step - loss: nan - accuracy: 0.2012 - val_loss: nan - val_accuracy: 0.2153\n",
      "Epoch 57/100\n",
      "323/323 [==============================] - 2s 6ms/step - loss: nan - accuracy: 0.2012 - val_loss: nan - val_accuracy: 0.2153\n",
      "Epoch 58/100\n",
      "323/323 [==============================] - 2s 6ms/step - loss: nan - accuracy: 0.2012 - val_loss: nan - val_accuracy: 0.2153\n",
      "Epoch 59/100\n",
      "323/323 [==============================] - 2s 6ms/step - loss: nan - accuracy: 0.2012 - val_loss: nan - val_accuracy: 0.2153\n",
      "Epoch 60/100\n",
      "323/323 [==============================] - 2s 6ms/step - loss: nan - accuracy: 0.2012 - val_loss: nan - val_accuracy: 0.2153\n",
      "Epoch 61/100\n",
      "323/323 [==============================] - 2s 6ms/step - loss: nan - accuracy: 0.2012 - val_loss: nan - val_accuracy: 0.2153\n",
      "Epoch 62/100\n",
      "323/323 [==============================] - 2s 6ms/step - loss: nan - accuracy: 0.2012 - val_loss: nan - val_accuracy: 0.2153\n",
      "Epoch 63/100\n",
      "323/323 [==============================] - 2s 6ms/step - loss: nan - accuracy: 0.2012 - val_loss: nan - val_accuracy: 0.2153\n",
      "Epoch 64/100\n",
      "323/323 [==============================] - 2s 6ms/step - loss: nan - accuracy: 0.2012 - val_loss: nan - val_accuracy: 0.2153\n",
      "Epoch 65/100\n",
      "323/323 [==============================] - 2s 6ms/step - loss: nan - accuracy: 0.2012 - val_loss: nan - val_accuracy: 0.2153\n",
      "Epoch 66/100\n",
      "323/323 [==============================] - 2s 6ms/step - loss: nan - accuracy: 0.2012 - val_loss: nan - val_accuracy: 0.2153\n",
      "Epoch 67/100\n",
      "323/323 [==============================] - 2s 6ms/step - loss: nan - accuracy: 0.2012 - val_loss: nan - val_accuracy: 0.2153\n",
      "Epoch 68/100\n",
      "323/323 [==============================] - 2s 6ms/step - loss: nan - accuracy: 0.2012 - val_loss: nan - val_accuracy: 0.2153\n",
      "Epoch 69/100\n",
      "323/323 [==============================] - 2s 6ms/step - loss: nan - accuracy: 0.2012 - val_loss: nan - val_accuracy: 0.2153\n",
      "Epoch 70/100\n",
      "323/323 [==============================] - 2s 6ms/step - loss: nan - accuracy: 0.2012 - val_loss: nan - val_accuracy: 0.2153\n",
      "Epoch 71/100\n",
      "323/323 [==============================] - 2s 6ms/step - loss: nan - accuracy: 0.2012 - val_loss: nan - val_accuracy: 0.2153\n",
      "Epoch 72/100\n",
      "323/323 [==============================] - 2s 6ms/step - loss: nan - accuracy: 0.2012 - val_loss: nan - val_accuracy: 0.2153\n",
      "Epoch 73/100\n",
      "323/323 [==============================] - 2s 6ms/step - loss: nan - accuracy: 0.2012 - val_loss: nan - val_accuracy: 0.2153\n",
      "Epoch 74/100\n",
      "323/323 [==============================] - 2s 6ms/step - loss: nan - accuracy: 0.2012 - val_loss: nan - val_accuracy: 0.2153\n",
      "Epoch 75/100\n",
      "323/323 [==============================] - 2s 6ms/step - loss: nan - accuracy: 0.2012 - val_loss: nan - val_accuracy: 0.2153\n",
      "Epoch 76/100\n",
      "323/323 [==============================] - 2s 6ms/step - loss: nan - accuracy: 0.2012 - val_loss: nan - val_accuracy: 0.2153\n",
      "Epoch 77/100\n",
      "323/323 [==============================] - 2s 6ms/step - loss: nan - accuracy: 0.2012 - val_loss: nan - val_accuracy: 0.2153\n",
      "Epoch 78/100\n",
      "323/323 [==============================] - 2s 6ms/step - loss: nan - accuracy: 0.2012 - val_loss: nan - val_accuracy: 0.2153\n",
      "Epoch 79/100\n",
      "323/323 [==============================] - 2s 6ms/step - loss: nan - accuracy: 0.2012 - val_loss: nan - val_accuracy: 0.2153\n",
      "Epoch 80/100\n",
      "323/323 [==============================] - 2s 6ms/step - loss: nan - accuracy: 0.2012 - val_loss: nan - val_accuracy: 0.2153\n",
      "Epoch 81/100\n",
      "323/323 [==============================] - 2s 6ms/step - loss: nan - accuracy: 0.2012 - val_loss: nan - val_accuracy: 0.2153\n",
      "Epoch 82/100\n",
      "323/323 [==============================] - 2s 6ms/step - loss: nan - accuracy: 0.2012 - val_loss: nan - val_accuracy: 0.2153\n",
      "Epoch 83/100\n",
      "323/323 [==============================] - 2s 6ms/step - loss: nan - accuracy: 0.2012 - val_loss: nan - val_accuracy: 0.2153\n",
      "Epoch 84/100\n",
      "323/323 [==============================] - 2s 6ms/step - loss: nan - accuracy: 0.2012 - val_loss: nan - val_accuracy: 0.2153\n",
      "Epoch 85/100\n",
      "323/323 [==============================] - 2s 6ms/step - loss: nan - accuracy: 0.2012 - val_loss: nan - val_accuracy: 0.2153\n",
      "Epoch 86/100\n",
      "323/323 [==============================] - 2s 6ms/step - loss: nan - accuracy: 0.2012 - val_loss: nan - val_accuracy: 0.2153\n",
      "Epoch 87/100\n",
      "323/323 [==============================] - 2s 6ms/step - loss: nan - accuracy: 0.2012 - val_loss: nan - val_accuracy: 0.2153\n",
      "Epoch 88/100\n",
      "323/323 [==============================] - 2s 6ms/step - loss: nan - accuracy: 0.2012 - val_loss: nan - val_accuracy: 0.2153\n",
      "Epoch 89/100\n",
      "323/323 [==============================] - 2s 6ms/step - loss: nan - accuracy: 0.2012 - val_loss: nan - val_accuracy: 0.2153\n",
      "Epoch 90/100\n",
      "323/323 [==============================] - 2s 6ms/step - loss: nan - accuracy: 0.2012 - val_loss: nan - val_accuracy: 0.2153\n",
      "Epoch 91/100\n",
      "323/323 [==============================] - 2s 6ms/step - loss: nan - accuracy: 0.2012 - val_loss: nan - val_accuracy: 0.2153\n",
      "Epoch 92/100\n",
      "323/323 [==============================] - 2s 6ms/step - loss: nan - accuracy: 0.2012 - val_loss: nan - val_accuracy: 0.2153\n",
      "Epoch 93/100\n",
      "323/323 [==============================] - 2s 6ms/step - loss: nan - accuracy: 0.2012 - val_loss: nan - val_accuracy: 0.2153\n",
      "Epoch 94/100\n",
      "323/323 [==============================] - 2s 6ms/step - loss: nan - accuracy: 0.2012 - val_loss: nan - val_accuracy: 0.2153\n",
      "Epoch 95/100\n",
      "323/323 [==============================] - 2s 6ms/step - loss: nan - accuracy: 0.2012 - val_loss: nan - val_accuracy: 0.2153\n",
      "Epoch 96/100\n",
      "323/323 [==============================] - 2s 6ms/step - loss: nan - accuracy: 0.2012 - val_loss: nan - val_accuracy: 0.2153\n",
      "Epoch 97/100\n",
      "323/323 [==============================] - 2s 6ms/step - loss: nan - accuracy: 0.2012 - val_loss: nan - val_accuracy: 0.2153\n",
      "Epoch 98/100\n",
      "323/323 [==============================] - 2s 6ms/step - loss: nan - accuracy: 0.2012 - val_loss: nan - val_accuracy: 0.2153\n",
      "Epoch 99/100\n",
      "323/323 [==============================] - 2s 6ms/step - loss: nan - accuracy: 0.2012 - val_loss: nan - val_accuracy: 0.2153\n",
      "Epoch 100/100\n",
      "323/323 [==============================] - 2s 6ms/step - loss: nan - accuracy: 0.2012 - val_loss: nan - val_accuracy: 0.2153\n"
     ]
    },
    {
     "data": {
      "image/png": "[encoded data removed]",
      "text/plain": [
       "<Figure size 640x480 with 1 Axes>"
      ]
     },
     "metadata": {},
     "output_type": "display_data"
    }
   ],
   "source": [
    "from matplotlib import pyplot as plt\n",
    "history = MLP3.fit(x_train, y_train,validation_split = 0.1, epochs=100, batch_size=4)\n",
    "plt.plot(history.history['accuracy'])\n",
    "plt.plot(history.history['val_accuracy'])\n",
    "plt.title('Third MLP accuracy')\n",
    "plt.ylabel('accuracy')\n",
    "plt.xlabel('epoch')\n",
    "plt.legend(['train', 'val'], loc='upper left')\n",
    "plt.show()"
   ]
  },
  {
   "cell_type": "markdown",
   "metadata": {},
   "source": [
    "Loss against epochs"
   ]
  },
  {
   "cell_type": "code",
   "execution_count": 42,
   "metadata": {},
   "outputs": [
    {
     "data": {
      "image/png": "[encoded data removed]",
      "text/plain": [
       "<Figure size 640x480 with 1 Axes>"
      ]
     },
     "metadata": {},
     "output_type": "display_data"
    }
   ],
   "source": [
    "plt.plot(history.history['loss'])\n",
    "plt.plot(history.history['val_loss'])\n",
    "plt.title('Third MLP loss')\n",
    "plt.ylabel('loss')\n",
    "plt.xlabel('epoch')\n",
    "plt.legend(['train', 'val'], loc='upper left')\n",
    "plt.show()"
   ]
  },
  {
   "cell_type": "markdown",
   "metadata": {},
   "source": [
    "Confusion matrix:"
   ]
  },
  {
   "cell_type": "code",
   "execution_count": 55,
   "metadata": {},
   "outputs": [
    {
     "ename": "ValueError",
     "evalue": "Input y_pred contains NaN.",
     "output_type": "error",
     "traceback": [
      "\u001b[1;31m---------------------------------------------------------------------------\u001b[0m",
      "\u001b[1;31mValueError\u001b[0m                                Traceback (most recent call last)",
      "Cell \u001b[1;32mIn [55], line 1\u001b[0m\n\u001b[1;32m----> 1\u001b[0m conf \u001b[39m=\u001b[39m confusion_matrix(y_test, y_pred3)\n",
      "File \u001b[1;32md:\\CS\\projects\\DBN-HF-MLP-Models\\.conda\\lib\\site-packages\\sklearn\\metrics\\_classification.py:307\u001b[0m, in \u001b[0;36mconfusion_matrix\u001b[1;34m(y_true, y_pred, labels, sample_weight, normalize)\u001b[0m\n\u001b[0;32m    222\u001b[0m \u001b[39mdef\u001b[39;00m \u001b[39mconfusion_matrix\u001b[39m(\n\u001b[0;32m    223\u001b[0m     y_true, y_pred, \u001b[39m*\u001b[39m, labels\u001b[39m=\u001b[39m\u001b[39mNone\u001b[39;00m, sample_weight\u001b[39m=\u001b[39m\u001b[39mNone\u001b[39;00m, normalize\u001b[39m=\u001b[39m\u001b[39mNone\u001b[39;00m\n\u001b[0;32m    224\u001b[0m ):\n\u001b[0;32m    225\u001b[0m     \u001b[39m\"\"\"Compute confusion matrix to evaluate the accuracy of a classification.\u001b[39;00m\n\u001b[0;32m    226\u001b[0m \n\u001b[0;32m    227\u001b[0m \u001b[39m    By definition a confusion matrix :math:`C` is such that :math:`C_{i, j}`\u001b[39;00m\n\u001b[1;32m   (...)\u001b[0m\n\u001b[0;32m    305\u001b[0m \u001b[39m    (0, 2, 1, 1)\u001b[39;00m\n\u001b[0;32m    306\u001b[0m \u001b[39m    \"\"\"\u001b[39;00m\n\u001b[1;32m--> 307\u001b[0m     y_type, y_true, y_pred \u001b[39m=\u001b[39m _check_targets(y_true, y_pred)\n\u001b[0;32m    308\u001b[0m     \u001b[39mif\u001b[39;00m y_type \u001b[39mnot\u001b[39;00m \u001b[39min\u001b[39;00m (\u001b[39m\"\u001b[39m\u001b[39mbinary\u001b[39m\u001b[39m\"\u001b[39m, \u001b[39m\"\u001b[39m\u001b[39mmulticlass\u001b[39m\u001b[39m\"\u001b[39m):\n\u001b[0;32m    309\u001b[0m         \u001b[39mraise\u001b[39;00m \u001b[39mValueError\u001b[39;00m(\u001b[39m\"\u001b[39m\u001b[39m%s\u001b[39;00m\u001b[39m is not supported\u001b[39m\u001b[39m\"\u001b[39m \u001b[39m%\u001b[39m y_type)\n",
      "File \u001b[1;32md:\\CS\\projects\\DBN-HF-MLP-Models\\.conda\\lib\\site-packages\\sklearn\\metrics\\_classification.py:86\u001b[0m, in \u001b[0;36m_check_targets\u001b[1;34m(y_true, y_pred)\u001b[0m\n\u001b[0;32m     84\u001b[0m check_consistent_length(y_true, y_pred)\n\u001b[0;32m     85\u001b[0m type_true \u001b[39m=\u001b[39m type_of_target(y_true, input_name\u001b[39m=\u001b[39m\u001b[39m\"\u001b[39m\u001b[39my_true\u001b[39m\u001b[39m\"\u001b[39m)\n\u001b[1;32m---> 86\u001b[0m type_pred \u001b[39m=\u001b[39m type_of_target(y_pred, input_name\u001b[39m=\u001b[39;49m\u001b[39m\"\u001b[39;49m\u001b[39my_pred\u001b[39;49m\u001b[39m\"\u001b[39;49m)\n\u001b[0;32m     88\u001b[0m y_type \u001b[39m=\u001b[39m {type_true, type_pred}\n\u001b[0;32m     89\u001b[0m \u001b[39mif\u001b[39;00m y_type \u001b[39m==\u001b[39m {\u001b[39m\"\u001b[39m\u001b[39mbinary\u001b[39m\u001b[39m\"\u001b[39m, \u001b[39m\"\u001b[39m\u001b[39mmulticlass\u001b[39m\u001b[39m\"\u001b[39m}:\n",
      "File \u001b[1;32md:\\CS\\projects\\DBN-HF-MLP-Models\\.conda\\lib\\site-packages\\sklearn\\utils\\multiclass.py:332\u001b[0m, in \u001b[0;36mtype_of_target\u001b[1;34m(y, input_name)\u001b[0m\n\u001b[0;32m    329\u001b[0m \u001b[39m# check float and contains non-integer float values\u001b[39;00m\n\u001b[0;32m    330\u001b[0m \u001b[39mif\u001b[39;00m y\u001b[39m.\u001b[39mdtype\u001b[39m.\u001b[39mkind \u001b[39m==\u001b[39m \u001b[39m\"\u001b[39m\u001b[39mf\u001b[39m\u001b[39m\"\u001b[39m \u001b[39mand\u001b[39;00m np\u001b[39m.\u001b[39many(y \u001b[39m!=\u001b[39m y\u001b[39m.\u001b[39mastype(\u001b[39mint\u001b[39m)):\n\u001b[0;32m    331\u001b[0m     \u001b[39m# [.1, .2, 3] or [[.1, .2, 3]] or [[1., .2]] and not [1., 2., 3.]\u001b[39;00m\n\u001b[1;32m--> 332\u001b[0m     _assert_all_finite(y, input_name\u001b[39m=\u001b[39;49minput_name)\n\u001b[0;32m    333\u001b[0m     \u001b[39mreturn\u001b[39;00m \u001b[39m\"\u001b[39m\u001b[39mcontinuous\u001b[39m\u001b[39m\"\u001b[39m \u001b[39m+\u001b[39m suffix\n\u001b[0;32m    335\u001b[0m \u001b[39mif\u001b[39;00m (\u001b[39mlen\u001b[39m(np\u001b[39m.\u001b[39munique(y)) \u001b[39m>\u001b[39m \u001b[39m2\u001b[39m) \u001b[39mor\u001b[39;00m (y\u001b[39m.\u001b[39mndim \u001b[39m>\u001b[39m\u001b[39m=\u001b[39m \u001b[39m2\u001b[39m \u001b[39mand\u001b[39;00m \u001b[39mlen\u001b[39m(y[\u001b[39m0\u001b[39m]) \u001b[39m>\u001b[39m \u001b[39m1\u001b[39m):\n",
      "File \u001b[1;32md:\\CS\\projects\\DBN-HF-MLP-Models\\.conda\\lib\\site-packages\\sklearn\\utils\\validation.py:146\u001b[0m, in \u001b[0;36m_assert_all_finite\u001b[1;34m(X, allow_nan, msg_dtype, estimator_name, input_name)\u001b[0m\n\u001b[0;32m    124\u001b[0m         \u001b[39mif\u001b[39;00m (\n\u001b[0;32m    125\u001b[0m             \u001b[39mnot\u001b[39;00m allow_nan\n\u001b[0;32m    126\u001b[0m             \u001b[39mand\u001b[39;00m estimator_name\n\u001b[1;32m   (...)\u001b[0m\n\u001b[0;32m    130\u001b[0m             \u001b[39m# Improve the error message on how to handle missing values in\u001b[39;00m\n\u001b[0;32m    131\u001b[0m             \u001b[39m# scikit-learn.\u001b[39;00m\n\u001b[0;32m    132\u001b[0m             msg_err \u001b[39m+\u001b[39m\u001b[39m=\u001b[39m (\n\u001b[0;32m    133\u001b[0m                 \u001b[39mf\u001b[39m\u001b[39m\"\u001b[39m\u001b[39m\\n\u001b[39;00m\u001b[39m{\u001b[39;00mestimator_name\u001b[39m}\u001b[39;00m\u001b[39m does not accept missing values\u001b[39m\u001b[39m\"\u001b[39m\n\u001b[0;32m    134\u001b[0m                 \u001b[39m\"\u001b[39m\u001b[39m encoded as NaN natively. For supervised learning, you might want\u001b[39m\u001b[39m\"\u001b[39m\n\u001b[1;32m   (...)\u001b[0m\n\u001b[0;32m    144\u001b[0m                 \u001b[39m\"\u001b[39m\u001b[39m#estimators-that-handle-nan-values\u001b[39m\u001b[39m\"\u001b[39m\n\u001b[0;32m    145\u001b[0m             )\n\u001b[1;32m--> 146\u001b[0m         \u001b[39mraise\u001b[39;00m \u001b[39mValueError\u001b[39;00m(msg_err)\n\u001b[0;32m    148\u001b[0m \u001b[39m# for object dtype data, we only check for NaNs (GH-13254)\u001b[39;00m\n\u001b[0;32m    149\u001b[0m \u001b[39melif\u001b[39;00m X\u001b[39m.\u001b[39mdtype \u001b[39m==\u001b[39m np\u001b[39m.\u001b[39mdtype(\u001b[39m\"\u001b[39m\u001b[39mobject\u001b[39m\u001b[39m\"\u001b[39m) \u001b[39mand\u001b[39;00m \u001b[39mnot\u001b[39;00m allow_nan:\n",
      "\u001b[1;31mValueError\u001b[0m: Input y_pred contains NaN."
     ]
    }
   ],
   "source": [
    "conf = confusion_matrix(y_test, y_pred3)"
   ]
  },
  {
   "cell_type": "markdown",
   "metadata": {},
   "source": [
    "## Training model on the images of size 64x64"
   ]
  },
  {
   "cell_type": "code",
   "execution_count": 47,
   "metadata": {},
   "outputs": [],
   "source": [
    "x = pklLoad('../x64.pkl', convertToNumpyArray=True)\n",
    "y = pklLoad('../y.pkl', convertToNumpyArray=True)\n",
    "x_train, x_test, y_train, y_test = train_test_split(x, y, test_size=0.2, random_state=42)\n",
    "x_train = np.array(x_train)\n",
    "x_test = np.array(x_test)\n",
    "y_train = np.array(y_train)\n",
    "y_test = np.array(y_test)"
   ]
  },
  {
   "cell_type": "markdown",
   "metadata": {},
   "source": [
    "### First MLP model"
   ]
  },
  {
   "cell_type": "markdown",
   "metadata": {},
   "source": [
    "Model Hyperparameters:\n",
    "<ul>\n",
    "    <li> Input layers: 1 </li>\n",
    "    <li> Hidden layer: 2, 50 layers each </li>\n",
    "    <li> Activation function in the hidden layer: \"relu\" </li>\n",
    "    <li> output activation function: \"sigmoid\" </li>\n",
    "    <li> opitimizer: \"Adam\" </li>\n",
    "    <li>batch size= 32</li>\n",
    "    <li>epochs= 100 </li>\n",
    "<ul>"
   ]
  },
  {
   "cell_type": "code",
   "execution_count": 48,
   "metadata": {},
   "outputs": [],
   "source": [
    "MLP1_2 = tf.keras.models.Sequential(layers = None, name= None)"
   ]
  },
  {
   "cell_type": "code",
   "execution_count": 49,
   "metadata": {},
   "outputs": [],
   "source": [
    "MLP1_2.add(tf.keras.layers.Dense(units= 50, activation= 'relu'))"
   ]
  },
  {
   "cell_type": "code",
   "execution_count": 50,
   "metadata": {},
   "outputs": [],
   "source": [
    "MLP1_2.add(tf.keras.layers.Dense(units= 50, activation= 'relu'))"
   ]
  },
  {
   "cell_type": "code",
   "execution_count": 51,
   "metadata": {},
   "outputs": [],
   "source": [
    "MLP1_2.add(tf.keras.layers.Dense(units= 1, activation= 'relu'))"
   ]
  },
  {
   "cell_type": "code",
   "execution_count": 52,
   "metadata": {},
   "outputs": [],
   "source": [
    "MLP1_2.compile(optimizer= 'adam', loss= 'binary_crossentropy', metrics=['accuracy'])"
   ]
  },
  {
   "cell_type": "code",
   "execution_count": 53,
   "metadata": {},
   "outputs": [
    {
     "name": "stdout",
     "output_type": "stream",
     "text": [
      "Epoch 1/100\n",
      "45/45 [==============================] - 2s 35ms/step - loss: -14.4330 - accuracy: 0.1922\n",
      "Epoch 2/100\n",
      "45/45 [==============================] - 2s 37ms/step - loss: -15.1324 - accuracy: 0.1915\n",
      "Epoch 3/100\n",
      "45/45 [==============================] - 2s 35ms/step - loss: -15.1324 - accuracy: 0.1915\n",
      "Epoch 4/100\n",
      "45/45 [==============================] - 2s 35ms/step - loss: -15.1324 - accuracy: 0.1915\n",
      "Epoch 5/100\n",
      "45/45 [==============================] - 2s 38ms/step - loss: -15.1324 - accuracy: 0.1915\n",
      "Epoch 6/100\n",
      "45/45 [==============================] - 2s 37ms/step - loss: -15.1324 - accuracy: 0.1915\n",
      "Epoch 7/100\n",
      "45/45 [==============================] - 2s 37ms/step - loss: -15.1324 - accuracy: 0.1915\n",
      "Epoch 8/100\n",
      "45/45 [==============================] - 2s 37ms/step - loss: -15.1324 - accuracy: 0.1915\n",
      "Epoch 9/100\n",
      "45/45 [==============================] - 2s 35ms/step - loss: -15.1324 - accuracy: 0.1915\n",
      "Epoch 10/100\n",
      "45/45 [==============================] - 2s 36ms/step - loss: -15.1324 - accuracy: 0.1915\n",
      "Epoch 11/100\n",
      "45/45 [==============================] - 2s 38ms/step - loss: -15.1324 - accuracy: 0.1915\n",
      "Epoch 12/100\n",
      "45/45 [==============================] - 2s 36ms/step - loss: -15.1324 - accuracy: 0.1915\n",
      "Epoch 13/100\n",
      "45/45 [==============================] - 2s 37ms/step - loss: -15.1324 - accuracy: 0.1915\n",
      "Epoch 14/100\n",
      "45/45 [==============================] - 2s 38ms/step - loss: -15.1324 - accuracy: 0.1915\n",
      "Epoch 15/100\n",
      "45/45 [==============================] - 2s 37ms/step - loss: -15.1324 - accuracy: 0.1915\n",
      "Epoch 16/100\n",
      "45/45 [==============================] - 2s 37ms/step - loss: -15.1324 - accuracy: 0.1915\n",
      "Epoch 17/100\n",
      "45/45 [==============================] - 2s 38ms/step - loss: -15.1324 - accuracy: 0.1915\n",
      "Epoch 18/100\n",
      "45/45 [==============================] - 2s 37ms/step - loss: -15.1324 - accuracy: 0.1915\n",
      "Epoch 19/100\n",
      "45/45 [==============================] - 2s 38ms/step - loss: -15.1324 - accuracy: 0.1915\n",
      "Epoch 20/100\n",
      "45/45 [==============================] - 2s 37ms/step - loss: -15.1324 - accuracy: 0.1915\n",
      "Epoch 21/100\n",
      "45/45 [==============================] - 2s 37ms/step - loss: -15.1324 - accuracy: 0.1915\n",
      "Epoch 22/100\n",
      "45/45 [==============================] - 2s 38ms/step - loss: -15.1324 - accuracy: 0.1915\n",
      "Epoch 23/100\n",
      "45/45 [==============================] - 2s 38ms/step - loss: -15.1324 - accuracy: 0.1915\n",
      "Epoch 24/100\n",
      "45/45 [==============================] - 2s 35ms/step - loss: -15.1324 - accuracy: 0.1915\n",
      "Epoch 25/100\n",
      "45/45 [==============================] - 2s 37ms/step - loss: -15.1324 - accuracy: 0.1915\n",
      "Epoch 26/100\n",
      "45/45 [==============================] - 2s 39ms/step - loss: -15.1324 - accuracy: 0.1915\n",
      "Epoch 27/100\n",
      "45/45 [==============================] - 2s 38ms/step - loss: -15.1324 - accuracy: 0.1915\n",
      "Epoch 28/100\n",
      "45/45 [==============================] - 2s 38ms/step - loss: -15.1324 - accuracy: 0.1915\n",
      "Epoch 29/100\n",
      "45/45 [==============================] - 2s 36ms/step - loss: -15.1324 - accuracy: 0.1915\n",
      "Epoch 30/100\n",
      "45/45 [==============================] - 2s 37ms/step - loss: -15.1324 - accuracy: 0.1915\n",
      "Epoch 31/100\n",
      "45/45 [==============================] - 2s 37ms/step - loss: -15.1324 - accuracy: 0.1915\n",
      "Epoch 32/100\n",
      "45/45 [==============================] - 2s 36ms/step - loss: -15.1324 - accuracy: 0.1915\n",
      "Epoch 33/100\n",
      "45/45 [==============================] - 2s 38ms/step - loss: -15.1324 - accuracy: 0.1915\n",
      "Epoch 34/100\n",
      "45/45 [==============================] - 2s 36ms/step - loss: -15.1324 - accuracy: 0.1915\n",
      "Epoch 35/100\n",
      "45/45 [==============================] - 2s 37ms/step - loss: -15.1324 - accuracy: 0.1915\n",
      "Epoch 36/100\n",
      "45/45 [==============================] - 2s 39ms/step - loss: -15.1324 - accuracy: 0.1915\n",
      "Epoch 37/100\n",
      "45/45 [==============================] - 2s 37ms/step - loss: -15.1324 - accuracy: 0.1915\n",
      "Epoch 38/100\n",
      "45/45 [==============================] - 2s 39ms/step - loss: -15.1324 - accuracy: 0.1915\n",
      "Epoch 39/100\n",
      "45/45 [==============================] - 2s 37ms/step - loss: -15.1324 - accuracy: 0.1915\n",
      "Epoch 40/100\n",
      "45/45 [==============================] - 2s 39ms/step - loss: -15.1324 - accuracy: 0.1915\n",
      "Epoch 41/100\n",
      "45/45 [==============================] - 2s 37ms/step - loss: -15.1324 - accuracy: 0.1915\n",
      "Epoch 42/100\n",
      "45/45 [==============================] - 2s 40ms/step - loss: -15.1324 - accuracy: 0.1915\n",
      "Epoch 43/100\n",
      "45/45 [==============================] - 2s 38ms/step - loss: -15.1324 - accuracy: 0.1915\n",
      "Epoch 44/100\n",
      "45/45 [==============================] - 2s 38ms/step - loss: -15.1324 - accuracy: 0.1915\n",
      "Epoch 45/100\n",
      "45/45 [==============================] - 2s 37ms/step - loss: -15.1324 - accuracy: 0.1915\n",
      "Epoch 46/100\n",
      "45/45 [==============================] - 2s 38ms/step - loss: -15.1324 - accuracy: 0.1915\n",
      "Epoch 47/100\n",
      "45/45 [==============================] - 2s 38ms/step - loss: -15.1324 - accuracy: 0.1915\n",
      "Epoch 48/100\n",
      "45/45 [==============================] - 2s 37ms/step - loss: -15.1324 - accuracy: 0.1915\n",
      "Epoch 49/100\n",
      "45/45 [==============================] - 2s 38ms/step - loss: -15.1324 - accuracy: 0.1915\n",
      "Epoch 50/100\n",
      "45/45 [==============================] - 2s 38ms/step - loss: -15.1324 - accuracy: 0.1915\n",
      "Epoch 51/100\n",
      "45/45 [==============================] - 2s 37ms/step - loss: -15.1324 - accuracy: 0.1915\n",
      "Epoch 52/100\n",
      "45/45 [==============================] - 2s 37ms/step - loss: -15.1324 - accuracy: 0.1915\n",
      "Epoch 53/100\n",
      "45/45 [==============================] - 2s 37ms/step - loss: -15.1324 - accuracy: 0.1915\n",
      "Epoch 54/100\n",
      "45/45 [==============================] - 2s 39ms/step - loss: -15.1324 - accuracy: 0.1915\n",
      "Epoch 55/100\n",
      "45/45 [==============================] - 2s 37ms/step - loss: -15.1324 - accuracy: 0.1915\n",
      "Epoch 56/100\n",
      "45/45 [==============================] - 2s 39ms/step - loss: -15.1324 - accuracy: 0.1915\n",
      "Epoch 57/100\n",
      "45/45 [==============================] - 2s 38ms/step - loss: -15.1324 - accuracy: 0.1915\n",
      "Epoch 58/100\n",
      "45/45 [==============================] - 2s 37ms/step - loss: -15.1324 - accuracy: 0.1915\n",
      "Epoch 59/100\n",
      "45/45 [==============================] - 2s 37ms/step - loss: -15.1324 - accuracy: 0.1915\n",
      "Epoch 60/100\n",
      "45/45 [==============================] - 2s 38ms/step - loss: -15.1324 - accuracy: 0.1915\n",
      "Epoch 61/100\n",
      "45/45 [==============================] - 2s 38ms/step - loss: -15.1324 - accuracy: 0.1915\n",
      "Epoch 62/100\n",
      "45/45 [==============================] - 2s 39ms/step - loss: -15.1324 - accuracy: 0.1915\n",
      "Epoch 63/100\n",
      "45/45 [==============================] - 2s 37ms/step - loss: -15.1324 - accuracy: 0.1915\n",
      "Epoch 64/100\n",
      "45/45 [==============================] - 2s 37ms/step - loss: -15.1324 - accuracy: 0.1915\n",
      "Epoch 65/100\n",
      "45/45 [==============================] - 2s 37ms/step - loss: -15.1324 - accuracy: 0.1915\n",
      "Epoch 66/100\n",
      "45/45 [==============================] - 2s 40ms/step - loss: -15.1324 - accuracy: 0.1915\n",
      "Epoch 67/100\n",
      "45/45 [==============================] - 2s 38ms/step - loss: -15.1324 - accuracy: 0.1915\n",
      "Epoch 68/100\n",
      "45/45 [==============================] - 2s 38ms/step - loss: -15.1324 - accuracy: 0.1915\n",
      "Epoch 69/100\n",
      "45/45 [==============================] - 2s 37ms/step - loss: -15.1324 - accuracy: 0.1915\n",
      "Epoch 70/100\n",
      "45/45 [==============================] - 2s 39ms/step - loss: -15.1324 - accuracy: 0.1915\n",
      "Epoch 71/100\n",
      "45/45 [==============================] - 2s 38ms/step - loss: -15.1324 - accuracy: 0.1915\n",
      "Epoch 72/100\n",
      "45/45 [==============================] - 2s 38ms/step - loss: -15.1324 - accuracy: 0.1915\n",
      "Epoch 73/100\n",
      "45/45 [==============================] - 2s 36ms/step - loss: -15.1324 - accuracy: 0.1915\n",
      "Epoch 74/100\n",
      "45/45 [==============================] - 2s 35ms/step - loss: -15.1324 - accuracy: 0.1915\n",
      "Epoch 75/100\n",
      "45/45 [==============================] - 2s 38ms/step - loss: -15.1324 - accuracy: 0.1915\n",
      "Epoch 76/100\n",
      "45/45 [==============================] - 2s 37ms/step - loss: -15.1324 - accuracy: 0.1915\n",
      "Epoch 77/100\n",
      "45/45 [==============================] - 2s 38ms/step - loss: -15.1324 - accuracy: 0.1915\n",
      "Epoch 78/100\n",
      "45/45 [==============================] - 2s 37ms/step - loss: -15.1324 - accuracy: 0.1915\n",
      "Epoch 79/100\n",
      "45/45 [==============================] - 2s 36ms/step - loss: -15.1324 - accuracy: 0.1915\n",
      "Epoch 80/100\n",
      "45/45 [==============================] - 2s 40ms/step - loss: -15.1324 - accuracy: 0.1915\n",
      "Epoch 81/100\n",
      "45/45 [==============================] - 2s 36ms/step - loss: -15.1324 - accuracy: 0.1915\n",
      "Epoch 82/100\n",
      "45/45 [==============================] - 2s 42ms/step - loss: -15.1324 - accuracy: 0.1915\n",
      "Epoch 83/100\n",
      "45/45 [==============================] - 2s 41ms/step - loss: -15.1324 - accuracy: 0.1915\n",
      "Epoch 84/100\n",
      "45/45 [==============================] - 2s 38ms/step - loss: -15.1324 - accuracy: 0.1915\n",
      "Epoch 85/100\n",
      "45/45 [==============================] - 2s 38ms/step - loss: -15.1324 - accuracy: 0.1915\n",
      "Epoch 86/100\n",
      "45/45 [==============================] - 2s 35ms/step - loss: -15.1324 - accuracy: 0.1915\n",
      "Epoch 87/100\n",
      "45/45 [==============================] - 2s 36ms/step - loss: -15.1324 - accuracy: 0.1915\n",
      "Epoch 88/100\n",
      "45/45 [==============================] - 2s 35ms/step - loss: -15.1324 - accuracy: 0.1915\n",
      "Epoch 89/100\n",
      "45/45 [==============================] - 2s 37ms/step - loss: -15.1324 - accuracy: 0.1915\n",
      "Epoch 90/100\n",
      "45/45 [==============================] - 2s 38ms/step - loss: -15.1324 - accuracy: 0.1915\n",
      "Epoch 91/100\n",
      "45/45 [==============================] - 2s 37ms/step - loss: -15.1324 - accuracy: 0.1915\n",
      "Epoch 92/100\n",
      "45/45 [==============================] - 2s 36ms/step - loss: -15.1324 - accuracy: 0.1915\n",
      "Epoch 93/100\n",
      "45/45 [==============================] - 2s 38ms/step - loss: -15.1324 - accuracy: 0.1915\n",
      "Epoch 94/100\n",
      "45/45 [==============================] - 2s 37ms/step - loss: -15.1324 - accuracy: 0.1915\n",
      "Epoch 95/100\n",
      "45/45 [==============================] - 2s 35ms/step - loss: -15.1324 - accuracy: 0.1915\n",
      "Epoch 96/100\n",
      "45/45 [==============================] - 2s 36ms/step - loss: -15.1324 - accuracy: 0.1915\n",
      "Epoch 97/100\n",
      "45/45 [==============================] - 2s 38ms/step - loss: -15.1324 - accuracy: 0.1915\n",
      "Epoch 98/100\n",
      "45/45 [==============================] - 2s 38ms/step - loss: -15.1324 - accuracy: 0.1915\n",
      "Epoch 99/100\n",
      "45/45 [==============================] - 2s 38ms/step - loss: -15.1324 - accuracy: 0.1915\n",
      "Epoch 100/100\n",
      "45/45 [==============================] - 2s 35ms/step - loss: -15.1324 - accuracy: 0.1915\n"
     ]
    },
    {
     "data": {
      "text/plain": [
       "<keras.callbacks.History at 0x174d8e0cd00>"
      ]
     },
     "execution_count": 53,
     "metadata": {},
     "output_type": "execute_result"
    }
   ],
   "source": [
    "MLP1_2.fit(x_train, y_train, batch_size= 32, epochs= 100)"
   ]
  },
  {
   "cell_type": "code",
   "execution_count": 54,
   "metadata": {},
   "outputs": [
    {
     "name": "stdout",
     "output_type": "stream",
     "text": [
      "12/12 [==============================] - 0s 36ms/step\n"
     ]
    }
   ],
   "source": [
    "y_pred1_2= MLP1_2.predict(x_test)"
   ]
  }
 ],
 "metadata": {
  "kernelspec": {
   "display_name": "Python 3 (ipykernel)",
   "language": "python",
   "name": "python3"
  },
  "language_info": {
   "codemirror_mode": {
    "name": "ipython",
    "version": 3
   },
   "file_extension": ".py",
   "mimetype": "text/x-python",
   "name": "python",
   "nbconvert_exporter": "python",
   "pygments_lexer": "ipython3",
   "version": "3.8.15"
  },
  "vscode": {
   "interpreter": {
    "hash": "a820c38c0c6998d5531b30a72abed1c849220b8ccc9e18c2545958238bc5c1c7"
   }
  }
 },
 "nbformat": 4,
 "nbformat_minor": 2
}
