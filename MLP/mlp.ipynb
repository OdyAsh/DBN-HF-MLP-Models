{
 "cells": [
  {
   "cell_type": "markdown",
   "metadata": {},
   "source": [
    "# Multilayer Perceptron "
   ]
  },
  {
   "cell_type": "markdown",
   "metadata": {},
   "source": [
    "Hanin Monir Ismail 192895"
   ]
  },
  {
   "cell_type": "code",
   "execution_count": 5,
   "metadata": {},
   "outputs": [],
   "source": [
    "# For Reproducable Code\n",
    "from numpy.random import seed\n",
    "seed(42)\n",
    "import tensorflow\n",
    "tensorflow.random.set_seed(42)\n",
    "\n",
    "# other standard imports. \"pip install -r requirements.txt\" to install dependencies and \"pip freeze > requirements.txt\" to update them\n",
    "from collections import Counter\n",
    "import pickle\n",
    "\n",
    "import PIL\n",
    "import scipy\n",
    "import matplotlib.pyplot as plt\n",
    "import numpy as np\n",
    "from keras.preprocessing.image import ImageDataGenerator\n",
    "from sklearn.model_selection import train_test_split\n",
    "import tensorflow as tf\n"
   ]
  },
  {
   "cell_type": "code",
   "execution_count": 6,
   "metadata": {},
   "outputs": [],
   "source": [
    "# Useful Functions\n",
    "def pklSave(contentToBeSaved, fullPath):\n",
    "    with open(fullPath, 'wb') as f:\n",
    "        pickle.dump(contentToBeSaved, f)\n",
    "\n",
    "def pklLoad(fullPath, convertToNumpyArray=False):\n",
    "    with open(fullPath, 'rb') as f:\n",
    "        content = pickle.load(f)\n",
    "    if convertToNumpyArray:\n",
    "        content = np.array(content)\n",
    "    return content\n",
    "\n",
    "def train_val_test_split(x, y, tr, va, te, **kwargs):\n",
    "    x_train, x_test_val, y_train, y_test_val = train_test_split(x, y, test_size=1-tr)\n",
    "    x_val, x_test, y_val, y_test = train_test_split(x_test_val, y_test_val, test_size=te/(te+va), **kwargs)\n",
    "    return (x_train, x_val, x_test, y_train, y_val, y_test)"
   ]
  },
  {
   "cell_type": "markdown",
   "metadata": {},
   "source": [
    "Spliting the dataset to training and testing"
   ]
  },
  {
   "cell_type": "code",
   "execution_count": 9,
   "metadata": {},
   "outputs": [],
   "source": [
    "x = pklLoad('../x128.pkl', convertToNumpyArray=True)\n",
    "y = pklLoad('../y.pkl', convertToNumpyArray=True)\n",
    "x_train, x_test, y_train, y_test = train_test_split(x, y, test_size=0.2, random_state=42)\n",
    "x_train = np.array(x_train)\n",
    "x_test = np.array(x_test)\n",
    "y_train = np.array(y_train)\n",
    "y_test = np.array(y_test)"
   ]
  },
  {
   "cell_type": "markdown",
   "metadata": {},
   "source": [
    "### First MLP model"
   ]
  },
  {
   "cell_type": "markdown",
   "metadata": {},
   "source": [
    "model Hyperparameters:\n",
    "    "
   ]
  },
  {
   "cell_type": "markdown",
   "metadata": {},
   "source": [
    "Initializing the network:"
   ]
  },
  {
   "cell_type": "code",
   "execution_count": 10,
   "metadata": {},
   "outputs": [],
   "source": [
    "MLP1 = tf.keras.models.Sequential(layers = None, name= None)"
   ]
  },
  {
   "cell_type": "markdown",
   "metadata": {},
   "source": [
    "Adding layers to the network:"
   ]
  },
  {
   "cell_type": "markdown",
   "metadata": {},
   "source": [
    " Input and 1st hidden layer:"
   ]
  },
  {
   "cell_type": "code",
   "execution_count": 15,
   "metadata": {},
   "outputs": [],
   "source": [
    "MLP1.add(tf.keras.layers.Dense(units= 6, activation= 'relu'))"
   ]
  },
  {
   "cell_type": "markdown",
   "metadata": {},
   "source": [
    "Second hidden layer:"
   ]
  },
  {
   "cell_type": "code",
   "execution_count": 13,
   "metadata": {},
   "outputs": [],
   "source": [
    "MLP1.add(tf.keras.layers.Dense(units= 6, activation= 'relu')) "
   ]
  },
  {
   "cell_type": "markdown",
   "metadata": {},
   "source": [
    "Output layer:"
   ]
  },
  {
   "cell_type": "code",
   "execution_count": 14,
   "metadata": {},
   "outputs": [],
   "source": [
    "MLP1.add(tf.keras.layers.Dense(units= 6, activation= 'sigmoid'))"
   ]
  },
  {
   "cell_type": "markdown",
   "metadata": {},
   "source": [
    "Compilation of the model using \"Adam\" optimizer"
   ]
  },
  {
   "cell_type": "code",
   "execution_count": 18,
   "metadata": {},
   "outputs": [],
   "source": [
    "MLP1.compile(optimizer= 'adam', loss= 'binary_crossentropy', metrics=['accuracy'])"
   ]
  },
  {
   "cell_type": "code",
   "execution_count": 19,
   "metadata": {},
   "outputs": [
    {
     "name": "stdout",
     "output_type": "stream",
     "text": [
      "Epoch 1/100\n",
      "45/45 [==============================] - 1s 4ms/step - loss: 2.1859 - accuracy: 0.1602\n",
      "Epoch 2/100\n",
      "45/45 [==============================] - 0s 4ms/step - loss: 3.6337 - accuracy: 0.2026\n",
      "Epoch 3/100\n",
      "45/45 [==============================] - 0s 4ms/step - loss: 2.8840 - accuracy: 0.2026\n",
      "Epoch 4/100\n",
      "45/45 [==============================] - 0s 4ms/step - loss: 2.7462 - accuracy: 0.2026\n",
      "Epoch 5/100\n",
      "45/45 [==============================] - 0s 4ms/step - loss: 2.6130 - accuracy: 0.2026\n",
      "Epoch 6/100\n",
      "45/45 [==============================] - 0s 4ms/step - loss: 2.4201 - accuracy: 0.2026\n",
      "Epoch 7/100\n",
      "45/45 [==============================] - 0s 4ms/step - loss: 0.4278 - accuracy: 0.2026\n",
      "Epoch 8/100\n",
      "45/45 [==============================] - 0s 4ms/step - loss: 0.1485 - accuracy: 0.2026\n",
      "Epoch 9/100\n",
      "45/45 [==============================] - 0s 4ms/step - loss: 0.1484 - accuracy: 0.2026\n",
      "Epoch 10/100\n",
      "45/45 [==============================] - 0s 4ms/step - loss: 0.1484 - accuracy: 0.2026\n",
      "Epoch 11/100\n",
      "45/45 [==============================] - 0s 4ms/step - loss: 0.1484 - accuracy: 0.2026\n",
      "Epoch 12/100\n",
      "45/45 [==============================] - 0s 4ms/step - loss: 0.1483 - accuracy: 0.2026\n",
      "Epoch 13/100\n",
      "45/45 [==============================] - 0s 3ms/step - loss: 0.1483 - accuracy: 0.2026\n",
      "Epoch 14/100\n",
      "45/45 [==============================] - 0s 3ms/step - loss: 0.1459 - accuracy: 0.2026\n",
      "Epoch 15/100\n",
      "45/45 [==============================] - 0s 3ms/step - loss: 0.1400 - accuracy: 0.2026\n",
      "Epoch 16/100\n",
      "45/45 [==============================] - 0s 3ms/step - loss: 0.1404 - accuracy: 0.2026\n",
      "Epoch 17/100\n",
      "45/45 [==============================] - 0s 3ms/step - loss: 0.1380 - accuracy: 0.2026\n",
      "Epoch 18/100\n",
      "45/45 [==============================] - 0s 3ms/step - loss: 0.1382 - accuracy: 0.2026\n",
      "Epoch 19/100\n",
      "45/45 [==============================] - 0s 2ms/step - loss: 0.1396 - accuracy: 0.2026\n",
      "Epoch 20/100\n",
      "45/45 [==============================] - 0s 3ms/step - loss: 0.1392 - accuracy: 0.2026\n",
      "Epoch 21/100\n",
      "45/45 [==============================] - 0s 3ms/step - loss: 0.1389 - accuracy: 0.2026\n",
      "Epoch 22/100\n",
      "45/45 [==============================] - 0s 4ms/step - loss: 0.1374 - accuracy: 0.2026\n",
      "Epoch 23/100\n",
      "45/45 [==============================] - 0s 4ms/step - loss: 0.1350 - accuracy: 0.2026\n",
      "Epoch 24/100\n",
      "45/45 [==============================] - 0s 3ms/step - loss: 0.1344 - accuracy: 0.2026\n",
      "Epoch 25/100\n",
      "45/45 [==============================] - 0s 3ms/step - loss: 0.1260 - accuracy: 0.2026\n",
      "Epoch 26/100\n",
      "45/45 [==============================] - 0s 3ms/step - loss: 0.1181 - accuracy: 0.2026\n",
      "Epoch 27/100\n",
      "45/45 [==============================] - 0s 3ms/step - loss: 0.1332 - accuracy: 0.2026\n",
      "Epoch 28/100\n",
      "45/45 [==============================] - 0s 2ms/step - loss: 0.1388 - accuracy: 0.2026\n",
      "Epoch 29/100\n",
      "45/45 [==============================] - 0s 3ms/step - loss: 0.1377 - accuracy: 0.2026\n",
      "Epoch 30/100\n",
      "45/45 [==============================] - 0s 3ms/step - loss: 0.1241 - accuracy: 0.2026\n",
      "Epoch 31/100\n",
      "45/45 [==============================] - 0s 2ms/step - loss: 0.1159 - accuracy: 0.2026\n",
      "Epoch 32/100\n",
      "45/45 [==============================] - 0s 3ms/step - loss: 0.1361 - accuracy: 0.2026\n",
      "Epoch 33/100\n",
      "45/45 [==============================] - 0s 3ms/step - loss: 0.1556 - accuracy: 0.2026\n",
      "Epoch 34/100\n",
      "45/45 [==============================] - 0s 3ms/step - loss: 0.1556 - accuracy: 0.2026\n",
      "Epoch 35/100\n",
      "45/45 [==============================] - 0s 3ms/step - loss: 0.1556 - accuracy: 0.2026\n",
      "Epoch 36/100\n",
      "45/45 [==============================] - 0s 3ms/step - loss: 0.1556 - accuracy: 0.2026\n",
      "Epoch 37/100\n",
      "45/45 [==============================] - 0s 3ms/step - loss: 0.1556 - accuracy: 0.2026\n",
      "Epoch 38/100\n",
      "45/45 [==============================] - 0s 3ms/step - loss: 0.1556 - accuracy: 0.2026\n",
      "Epoch 39/100\n",
      "45/45 [==============================] - 0s 3ms/step - loss: 0.1556 - accuracy: 0.2026\n",
      "Epoch 40/100\n",
      "45/45 [==============================] - 0s 3ms/step - loss: 0.1556 - accuracy: 0.2026\n",
      "Epoch 41/100\n",
      "45/45 [==============================] - 0s 4ms/step - loss: 0.1556 - accuracy: 0.2026\n",
      "Epoch 42/100\n",
      "45/45 [==============================] - 0s 4ms/step - loss: 0.1556 - accuracy: 0.2026\n",
      "Epoch 43/100\n",
      "45/45 [==============================] - 0s 4ms/step - loss: 0.1556 - accuracy: 0.2026\n",
      "Epoch 44/100\n",
      "45/45 [==============================] - 0s 4ms/step - loss: 0.1556 - accuracy: 0.2026\n",
      "Epoch 45/100\n",
      "45/45 [==============================] - 0s 4ms/step - loss: 0.1556 - accuracy: 0.2026\n",
      "Epoch 46/100\n",
      "45/45 [==============================] - 0s 4ms/step - loss: 0.1556 - accuracy: 0.2026\n",
      "Epoch 47/100\n",
      "45/45 [==============================] - 0s 4ms/step - loss: 0.1556 - accuracy: 0.2026\n",
      "Epoch 48/100\n",
      "45/45 [==============================] - 0s 4ms/step - loss: 0.1556 - accuracy: 0.2026\n",
      "Epoch 49/100\n",
      "45/45 [==============================] - 0s 4ms/step - loss: 0.1556 - accuracy: 0.2026\n",
      "Epoch 50/100\n",
      "45/45 [==============================] - 0s 4ms/step - loss: 0.1556 - accuracy: 0.2026\n",
      "Epoch 51/100\n",
      "45/45 [==============================] - 0s 4ms/step - loss: 0.1556 - accuracy: 0.2026\n",
      "Epoch 52/100\n",
      "45/45 [==============================] - 0s 4ms/step - loss: 0.1556 - accuracy: 0.2026\n",
      "Epoch 53/100\n",
      "45/45 [==============================] - 0s 4ms/step - loss: 0.1556 - accuracy: 0.2026\n",
      "Epoch 54/100\n",
      "45/45 [==============================] - 0s 4ms/step - loss: 0.1556 - accuracy: 0.2026\n",
      "Epoch 55/100\n",
      "45/45 [==============================] - 0s 4ms/step - loss: 0.1556 - accuracy: 0.2026\n",
      "Epoch 56/100\n",
      "45/45 [==============================] - 0s 3ms/step - loss: 0.1556 - accuracy: 0.2026\n",
      "Epoch 57/100\n",
      "45/45 [==============================] - 0s 4ms/step - loss: 0.1556 - accuracy: 0.2026\n",
      "Epoch 58/100\n",
      "45/45 [==============================] - 0s 4ms/step - loss: 0.1556 - accuracy: 0.2026\n",
      "Epoch 59/100\n",
      "45/45 [==============================] - 0s 3ms/step - loss: 0.1556 - accuracy: 0.2026\n",
      "Epoch 60/100\n",
      "45/45 [==============================] - 0s 4ms/step - loss: 0.1556 - accuracy: 0.2026\n",
      "Epoch 61/100\n",
      "45/45 [==============================] - 0s 4ms/step - loss: 0.1556 - accuracy: 0.2026\n",
      "Epoch 62/100\n",
      "45/45 [==============================] - 0s 4ms/step - loss: 0.1556 - accuracy: 0.2026\n",
      "Epoch 63/100\n",
      "45/45 [==============================] - 0s 4ms/step - loss: 0.1556 - accuracy: 0.2026\n",
      "Epoch 64/100\n",
      "45/45 [==============================] - 0s 4ms/step - loss: 0.1556 - accuracy: 0.2026\n",
      "Epoch 65/100\n",
      "45/45 [==============================] - 0s 4ms/step - loss: 0.1556 - accuracy: 0.2026\n",
      "Epoch 66/100\n",
      "45/45 [==============================] - 0s 4ms/step - loss: 0.1556 - accuracy: 0.2026\n",
      "Epoch 67/100\n",
      "45/45 [==============================] - 0s 4ms/step - loss: 0.1556 - accuracy: 0.2026\n",
      "Epoch 68/100\n",
      "45/45 [==============================] - 0s 4ms/step - loss: 0.1556 - accuracy: 0.2026\n",
      "Epoch 69/100\n",
      "45/45 [==============================] - 0s 4ms/step - loss: 0.1556 - accuracy: 0.2026\n",
      "Epoch 70/100\n",
      "45/45 [==============================] - 0s 4ms/step - loss: 0.1556 - accuracy: 0.2026\n",
      "Epoch 71/100\n",
      "45/45 [==============================] - 0s 4ms/step - loss: 0.1556 - accuracy: 0.2026\n",
      "Epoch 72/100\n",
      "45/45 [==============================] - 0s 4ms/step - loss: 0.1556 - accuracy: 0.2026\n",
      "Epoch 73/100\n",
      "45/45 [==============================] - 0s 4ms/step - loss: 0.1556 - accuracy: 0.2026\n",
      "Epoch 74/100\n",
      "45/45 [==============================] - 0s 4ms/step - loss: 0.1556 - accuracy: 0.2026\n",
      "Epoch 75/100\n",
      "45/45 [==============================] - 0s 4ms/step - loss: 0.1556 - accuracy: 0.2026\n",
      "Epoch 76/100\n",
      "45/45 [==============================] - 0s 4ms/step - loss: 0.1556 - accuracy: 0.2026\n",
      "Epoch 77/100\n",
      "45/45 [==============================] - 0s 4ms/step - loss: 0.1556 - accuracy: 0.2026\n",
      "Epoch 78/100\n",
      "45/45 [==============================] - 0s 4ms/step - loss: 0.1556 - accuracy: 0.2026\n",
      "Epoch 79/100\n",
      "45/45 [==============================] - 0s 4ms/step - loss: 0.1556 - accuracy: 0.2026\n",
      "Epoch 80/100\n",
      "45/45 [==============================] - 0s 4ms/step - loss: 0.1556 - accuracy: 0.2026\n",
      "Epoch 81/100\n",
      "45/45 [==============================] - 0s 4ms/step - loss: 0.1556 - accuracy: 0.2026\n",
      "Epoch 82/100\n",
      "45/45 [==============================] - 0s 3ms/step - loss: 0.1556 - accuracy: 0.2026\n",
      "Epoch 83/100\n"
     ]
    },
    {
     "name": "stdout",
     "output_type": "stream",
     "text": [
      "45/45 [==============================] - 0s 3ms/step - loss: 0.1556 - accuracy: 0.2026\n",
      "Epoch 84/100\n",
      "45/45 [==============================] - 0s 3ms/step - loss: 0.1556 - accuracy: 0.2026\n",
      "Epoch 85/100\n",
      "45/45 [==============================] - 0s 3ms/step - loss: 0.1556 - accuracy: 0.2026\n",
      "Epoch 86/100\n",
      "45/45 [==============================] - 0s 3ms/step - loss: 0.1556 - accuracy: 0.2026\n",
      "Epoch 87/100\n",
      "45/45 [==============================] - 0s 3ms/step - loss: 0.1556 - accuracy: 0.2026\n",
      "Epoch 88/100\n",
      "45/45 [==============================] - 0s 3ms/step - loss: 0.1556 - accuracy: 0.2026\n",
      "Epoch 89/100\n",
      "45/45 [==============================] - 0s 3ms/step - loss: 0.1556 - accuracy: 0.2026\n",
      "Epoch 90/100\n",
      "45/45 [==============================] - 0s 3ms/step - loss: 0.1556 - accuracy: 0.2026\n",
      "Epoch 91/100\n",
      "45/45 [==============================] - 0s 3ms/step - loss: 0.1556 - accuracy: 0.2026\n",
      "Epoch 92/100\n",
      "45/45 [==============================] - 0s 3ms/step - loss: 0.1556 - accuracy: 0.2026\n",
      "Epoch 93/100\n",
      "45/45 [==============================] - 0s 3ms/step - loss: 0.1556 - accuracy: 0.2026\n",
      "Epoch 94/100\n",
      "45/45 [==============================] - 0s 3ms/step - loss: 0.1556 - accuracy: 0.2026\n",
      "Epoch 95/100\n",
      "45/45 [==============================] - 0s 4ms/step - loss: 0.1556 - accuracy: 0.2026\n",
      "Epoch 96/100\n",
      "45/45 [==============================] - 0s 3ms/step - loss: 0.1556 - accuracy: 0.2026\n",
      "Epoch 97/100\n",
      "45/45 [==============================] - 0s 3ms/step - loss: 0.1556 - accuracy: 0.2026\n",
      "Epoch 98/100\n",
      "45/45 [==============================] - 0s 3ms/step - loss: 0.1556 - accuracy: 0.2026\n",
      "Epoch 99/100\n",
      "45/45 [==============================] - 0s 3ms/step - loss: 0.1556 - accuracy: 0.2026\n",
      "Epoch 100/100\n",
      "45/45 [==============================] - 0s 3ms/step - loss: 0.1556 - accuracy: 0.2026\n"
     ]
    },
    {
     "data": {
      "text/plain": [
       "<keras.callbacks.History at 0x255a4a38d30>"
      ]
     },
     "execution_count": 19,
     "metadata": {},
     "output_type": "execute_result"
    }
   ],
   "source": [
    "MLP1.fit(x_train, y_train, batch_size= 32, epochs= 100)"
   ]
  },
  {
   "cell_type": "code",
   "execution_count": null,
   "metadata": {},
   "outputs": [],
   "source": []
  }
 ],
 "metadata": {
  "kernelspec": {
   "display_name": "Python 3 (ipykernel)",
   "language": "python",
   "name": "python3"
  },
  "language_info": {
   "codemirror_mode": {
    "name": "ipython",
    "version": 3
   },
   "file_extension": ".py",
   "mimetype": "text/x-python",
   "name": "python",
   "nbconvert_exporter": "python",
   "pygments_lexer": "ipython3",
   "version": "3.9.7"
  },
  "vscode": {
   "interpreter": {
    "hash": "a820c38c0c6998d5531b30a72abed1c849220b8ccc9e18c2545958238bc5c1c7"
   }
  }
 },
 "nbformat": 4,
 "nbformat_minor": 2
}
