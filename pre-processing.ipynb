{
 "cells": [
  {
   "cell_type": "code",
   "execution_count": 2,
   "metadata": {},
   "outputs": [],
   "source": [
    "# For Reproducable Code\n",
    "from numpy.random import seed\n",
    "seed(42)\n",
    "import tensorflow\n",
    "tensorflow.random.set_seed(42)\n",
    "\n",
    "# other standard imports. \"pip install -r requirements.txt\" to install dependencies and \"pip freeze > requirements.txt\" to update them\n",
    "from collections import Counter\n",
    "import pickle\n",
    "\n",
    "import PIL\n",
    "import scipy\n",
    "import matplotlib.pyplot as plt\n",
    "import numpy as np\n",
    "from keras.preprocessing.image import ImageDataGenerator\n",
    "from sklearn.model_selection import train_test_split"
   ]
  },
  {
   "cell_type": "code",
   "execution_count": 3,
   "metadata": {},
   "outputs": [],
   "source": [
    "# Useful Functions\n",
    "def pklSave(contentToBeSaved, fullPath):\n",
    "    with open(fullPath, 'wb') as f:\n",
    "        pickle.dump(contentToBeSaved, f)\n",
    "\n",
    "def pklLoad(fullPath, convertToNumpyArray=False):\n",
    "    with open(fullPath, 'rb') as f:\n",
    "        content = pickle.load(f)\n",
    "    if convertToNumpyArray:\n",
    "        content = np.array(content)\n",
    "    return content\n",
    "\n",
    "def train_val_test_split(x, y, tr, va, te, **kwargs):\n",
    "    x_train, x_test_val, y_train, y_test_val = train_test_split(x, y, test_size=1-tr)\n",
    "    x_val, x_test, y_val, y_test = train_test_split(x_test_val, y_test_val, test_size=te/(te+va), **kwargs)\n",
    "    return (x_train, x_val, x_test, y_train, y_val, y_test)"
   ]
  },
  {
   "cell_type": "markdown",
   "metadata": {},
   "source": [
    "# Importing The Dataset"
   ]
  },
  {
   "cell_type": "code",
   "execution_count": 4,
   "metadata": {},
   "outputs": [
    {
     "name": "stdout",
     "output_type": "stream",
     "text": [
      "Found 3846 images belonging to 12 classes.\n",
      "Batch shape=(32, 256, 256, 3), min=0.0, max=255.0\n"
     ]
    }
   ],
   "source": [
    "# create generator\n",
    "datagen = ImageDataGenerator()\n",
    "# prepare an iterator for the dataset\n",
    "data_iterator = datagen.flow_from_directory('Dataset/', class_mode='categorical')\n",
    "# confirming the iterator works\n",
    "batchX, batchy = data_iterator.next()\n",
    "print(f'Batch shape={batchX.shape}, min={batchX.min()}, max={batchX.max()}')"
   ]
  },
  {
   "cell_type": "code",
   "execution_count": 5,
   "metadata": {},
   "outputs": [
    {
     "data": {
      "text/plain": [
       "{'burj_khalifa': 0,\n",
       " 'chichen_itza': 1,\n",
       " 'christ_the_reedemer': 2,\n",
       " 'eiffel_tower': 3,\n",
       " 'great_wall_of_china': 4,\n",
       " 'machu_pichu': 5,\n",
       " 'pyramids_of_giza': 6,\n",
       " 'roman_colosseum': 7,\n",
       " 'statue_of_liberty': 8,\n",
       " 'stonehenge': 9,\n",
       " 'taj_mahal': 10,\n",
       " 'venezuela_angel_falls': 11}"
      ]
     },
     "execution_count": 5,
     "metadata": {},
     "output_type": "execute_result"
    }
   ],
   "source": [
    "data_iterator.class_indices"
   ]
  },
  {
   "cell_type": "markdown",
   "metadata": {},
   "source": [
    "# Cleaning Irrelevant Images\n",
    "Since there are images that barely resembles the actual landmark that we're trying to detect, we'll remove these images and put them in `removed_images` folder <br>\n",
    "Example of such irrelevant images:\n",
    "<img src='notebook_media/irrelevant images.png' />\n",
    "<br><br>\n",
    "side note: only images in sepecific folders are removed, as in later cells, we'll only consider specific classes"
   ]
  },
  {
   "cell_type": "code",
   "execution_count": 6,
   "metadata": {},
   "outputs": [
    {
     "data": {
      "text/plain": [
       "(array([ 0,  0,  0, ..., 11, 11, 11]), 3846)"
      ]
     },
     "execution_count": 6,
     "metadata": {},
     "output_type": "execute_result"
    }
   ],
   "source": [
    "data_iterator.classes, len(data_iterator.classes)"
   ]
  },
  {
   "cell_type": "code",
   "execution_count": 7,
   "metadata": {},
   "outputs": [
    {
     "name": "stdout",
     "output_type": "stream",
     "text": [
      "dict_items([(0, 390), (1, 340), (2, 323), (3, 391), (4, 392), (5, 393), (6, 372), (7, 394), (8, 238), (9, 204), (10, 158), (11, 251)])\n"
     ]
    }
   ],
   "source": [
    "imgsPerClass = Counter(data_iterator.classes)\n",
    "print(imgsPerClass.items())"
   ]
  },
  {
   "cell_type": "code",
   "execution_count": 8,
   "metadata": {},
   "outputs": [
    {
     "name": "stdout",
     "output_type": "stream",
     "text": [
      "(0, 390) (1, 340) (2, 323) (3, 391) (4, 392) (5, 393) (6, 372) (7, 394) (8, 238) (9, 204) (10, 158) (11, 251)\n"
     ]
    }
   ],
   "source": [
    "print(*imgsPerClass.items())"
   ]
  },
  {
   "cell_type": "code",
   "execution_count": 9,
   "metadata": {},
   "outputs": [
    {
     "name": "stdout",
     "output_type": "stream",
     "text": [
      "(0, 1, 2, 3, 4, 5, 6, 7, 8, 9, 10, 11) (390, 340, 323, 391, 392, 393, 372, 394, 238, 204, 158, 251)\n"
     ]
    }
   ],
   "source": [
    "labels, freq = zip(*imgsPerClass.items())\n",
    "print(labels, freq)"
   ]
  },
  {
   "cell_type": "code",
   "execution_count": 10,
   "metadata": {},
   "outputs": [
    {
     "data": {
      "image/png": "[encoded data removed]",
      "text/plain": [
       "<Figure size 640x480 with 1 Axes>"
      ]
     },
     "metadata": {},
     "output_type": "display_data"
    }
   ],
   "source": [
    "indexes = np.arange(len(labels))\n",
    "width = 0.4\n",
    "\n",
    "plt.bar(indexes, freq, width)\n",
    "plt.xticks(indexes + width * 0.5, labels)\n",
    "plt.show()"
   ]
  },
  {
   "cell_type": "markdown",
   "metadata": {},
   "source": [
    "Due to the class imbalance shown in the bar plot above and due to the limitation of our chosen models (especially the capacity limitation of the HopeField Network), we'll focus only on classes 0, and 3 to 7. <br>\n",
    "Also, we'll convert the images to grayscale instead of RGB, and naturally, one-hot encode the image classes "
   ]
  },
  {
   "cell_type": "code",
   "execution_count": 11,
   "metadata": {},
   "outputs": [
    {
     "data": {
      "text/plain": [
       "{'burj_khalifa': 0,\n",
       " 'chichen_itza': 1,\n",
       " 'christ_the_reedemer': 2,\n",
       " 'eiffel_tower': 3,\n",
       " 'great_wall_of_china': 4,\n",
       " 'machu_pichu': 5,\n",
       " 'pyramids_of_giza': 6,\n",
       " 'roman_colosseum': 7,\n",
       " 'statue_of_liberty': 8,\n",
       " 'stonehenge': 9,\n",
       " 'taj_mahal': 10,\n",
       " 'venezuela_angel_falls': 11}"
      ]
     },
     "execution_count": 11,
     "metadata": {},
     "output_type": "execute_result"
    }
   ],
   "source": [
    "data_iterator.class_indices"
   ]
  },
  {
   "cell_type": "code",
   "execution_count": 12,
   "metadata": {},
   "outputs": [
    {
     "data": {
      "text/plain": [
       "['burj_khalifa',\n",
       " 'eiffel_tower',\n",
       " 'great_wall_of_china',\n",
       " 'machu_pichu',\n",
       " 'pyramids_of_giza',\n",
       " 'roman_colosseum']"
      ]
     },
     "execution_count": 12,
     "metadata": {},
     "output_type": "execute_result"
    }
   ],
   "source": [
    "newClasses = []\n",
    "for key, val in data_iterator.class_indices.items():\n",
    "    if val == 0 or (val >= 3 and val <= 7):\n",
    "        newClasses.append(key)\n",
    "newClasses"
   ]
  },
  {
   "cell_type": "code",
   "execution_count": 13,
   "metadata": {},
   "outputs": [
    {
     "name": "stdout",
     "output_type": "stream",
     "text": [
      "Found 2332 images belonging to 6 classes.\n"
     ]
    }
   ],
   "source": [
    "# could use image_dataset_from_directory instead of ImageDataGenerator and flow_from_directory, but since we can't take certain folders (classes) using its arguments, we'll use the depracted method\n",
    "# ds = image_dataset_from_directory('Dataset/', labels='inferred', label_mode='categorical')\n",
    "datagen = ImageDataGenerator(rescale=1/255.0) # rescaling the data to convert pixels from range of [0, 255] to [0, 1]\n",
    "# prepare an iterators for each dataset\n",
    "data_iterator = datagen.flow_from_directory('Dataset/', classes=newClasses, class_mode='categorical', # 'categorical' will one-hot encode the classes\n",
    "                                            target_size=(256,256), seed=42, batch_size=2332, color_mode='grayscale') # batch_size was set to 2332, but because we got the X, y lists, we can make the batch_size smaller to run the for loop code below"
   ]
  },
  {
   "cell_type": "code",
   "execution_count": 14,
   "metadata": {},
   "outputs": [
    {
     "name": "stdout",
     "output_type": "stream",
     "text": [
      "(0, 390) (1, 391) (2, 392) (3, 393) (4, 372) (5, 394)\n"
     ]
    }
   ],
   "source": [
    "imgsPerClass = Counter(data_iterator.classes)\n",
    "print(*imgsPerClass.items())"
   ]
  },
  {
   "cell_type": "code",
   "execution_count": 15,
   "metadata": {},
   "outputs": [
    {
     "data": {
      "image/png": "[encoded data removed]",
      "text/plain": [
       "<Figure size 640x480 with 1 Axes>"
      ]
     },
     "metadata": {},
     "output_type": "display_data"
    }
   ],
   "source": [
    "labels, freq = zip(*imgsPerClass.items())\n",
    "indexes = np.arange(len(labels))\n",
    "width = 0.4\n",
    "\n",
    "plt.bar(indexes, freq, width)\n",
    "plt.xticks(indexes + width * 0.5, labels)\n",
    "plt.show()"
   ]
  },
  {
   "cell_type": "code",
   "execution_count": 16,
   "metadata": {},
   "outputs": [
    {
     "name": "stdout",
     "output_type": "stream",
     "text": [
      "value of 1st image: [[[0.39607847]\n",
      "  [0.4039216 ]\n",
      "  [0.427451  ]\n",
      "  ...\n",
      "  [0.38823533]\n",
      "  [0.4039216 ]\n",
      "  [0.4431373 ]]\n",
      "\n",
      " [[0.39607847]\n",
      "  [0.4039216 ]\n",
      "  [0.427451  ]\n",
      "  ...\n",
      "  [0.38823533]\n",
      "  [0.4039216 ]\n",
      "  [0.4431373 ]]\n",
      "\n",
      " [[0.5686275 ]\n",
      "  [0.58431375]\n",
      "  [0.6039216 ]\n",
      "  ...\n",
      "  [0.48235297]\n",
      "  [0.5058824 ]\n",
      "  [0.5411765 ]]\n",
      "\n",
      " ...\n",
      "\n",
      " [[0.09411766]\n",
      "  [0.09019608]\n",
      "  [0.07843138]\n",
      "  ...\n",
      "  [0.21568629]\n",
      "  [0.22352943]\n",
      "  [0.16862746]]\n",
      "\n",
      " [[0.09803922]\n",
      "  [0.09411766]\n",
      "  [0.08235294]\n",
      "  ...\n",
      "  [0.31764707]\n",
      "  [0.1254902 ]\n",
      "  [0.18431373]]\n",
      "\n",
      " [[0.09803922]\n",
      "  [0.09411766]\n",
      "  [0.08235294]\n",
      "  ...\n",
      "  [0.31764707]\n",
      "  [0.1254902 ]\n",
      "  [0.18431373]]]\n",
      "value of 1st label: [0. 1. 0. 0. 0. 0.]\n"
     ]
    }
   ],
   "source": [
    "for batch in data_iterator: # just for visualizing\n",
    "    batchofXs = batch[0]\n",
    "    batchofYs = batch[1]\n",
    "    print('value of 1st image:', batchofXs[0])\n",
    "    print('value of 1st label:', batchofYs[0])\n",
    "    break"
   ]
  },
  {
   "cell_type": "code",
   "execution_count": 17,
   "metadata": {},
   "outputs": [
    {
     "data": {
      "text/plain": [
       "(2332, 2332)"
      ]
     },
     "execution_count": 17,
     "metadata": {},
     "output_type": "execute_result"
    }
   ],
   "source": [
    "x = []\n",
    "y = []\n",
    "for batch in data_iterator: # just for visualizing\n",
    "    x.extend(batch[0])\n",
    "    y.extend(batch[1])\n",
    "    break\n",
    "len(x), len(y)"
   ]
  },
  {
   "cell_type": "code",
   "execution_count": 18,
   "metadata": {},
   "outputs": [],
   "source": [
    "pklSave(x, 'x.pkl')\n",
    "pklSave(y, 'y.pkl')"
   ]
  },
  {
   "cell_type": "code",
   "execution_count": 19,
   "metadata": {},
   "outputs": [],
   "source": [
    "x = pklLoad('x.pkl', convertToNumpyArray=True)\n",
    "y = pklLoad('y.pkl', convertToNumpyArray=True)"
   ]
  },
  {
   "cell_type": "code",
   "execution_count": 20,
   "metadata": {},
   "outputs": [
    {
     "data": {
      "text/plain": [
       "((2332, 256, 256, 1), (2332, 6))"
      ]
     },
     "execution_count": 20,
     "metadata": {},
     "output_type": "execute_result"
    }
   ],
   "source": [
    "x.shape, y.shape"
   ]
  },
  {
   "cell_type": "markdown",
   "metadata": {},
   "source": [
    "The following code will be at the start of each of the models' .ipynb files"
   ]
  },
  {
   "cell_type": "code",
   "execution_count": 21,
   "metadata": {},
   "outputs": [],
   "source": [
    "# x = pklLoad('../x.pkl', convertToNumpyArray=True)\n",
    "# y = pklLoad('../y.pkl', convertToNumpyArray=True)\n",
    "x_train, x_val, x_test, y_train, y_val, y_test = train_val_test_split(x, y, tr=0.70, va=0.15, te=0.15, random_state=42)\n",
    "x_train = np.array(x_train)\n",
    "x_val = np.array(x_val)\n",
    "x_test = np.array(x_test)\n",
    "y_train = np.array(y_train)\n",
    "y_val = np.array(y_val)\n",
    "y_test = np.array(y_test)"
   ]
  },
  {
   "cell_type": "code",
   "execution_count": 22,
   "metadata": {},
   "outputs": [
    {
     "data": {
      "text/plain": [
       "(1632, 350, 350, 1632, 350, 350)"
      ]
     },
     "execution_count": 22,
     "metadata": {},
     "output_type": "execute_result"
    }
   ],
   "source": [
    "len(x_train), len(x_val), len(x_test), len(y_train), len(y_val), len(y_test)"
   ]
  }
 ],
 "metadata": {
  "kernelspec": {
   "display_name": "Python 3.10.8 (conda)",
   "language": "python",
   "name": "python3"
  },
  "language_info": {
   "codemirror_mode": {
    "name": "ipython",
    "version": 3
   },
   "file_extension": ".py",
   "mimetype": "text/x-python",
   "name": "python",
   "nbconvert_exporter": "python",
   "pygments_lexer": "ipython3",
   "version": "3.10.8"
  },
  "orig_nbformat": 4,
  "vscode": {
   "interpreter": {
    "hash": "a820c38c0c6998d5531b30a72abed1c849220b8ccc9e18c2545958238bc5c1c7"
   }
  }
 },
 "nbformat": 4,
 "nbformat_minor": 2
}
