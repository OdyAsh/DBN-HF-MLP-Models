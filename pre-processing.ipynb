{
 "cells": [
  {
   "cell_type": "code",
   "execution_count": 57,
   "metadata": {},
   "outputs": [],
   "source": [
    "# For Reproducable Code\n",
    "from numpy.random import seed\n",
    "seed(42)\n",
    "import tensorflow\n",
    "tensorflow.random.set_seed(42)\n",
    "\n",
    "# other standard imports. \"pip install -r requirements.txt\" to install dependencies and \"pip freeze > requirements.txt\" to update them\n",
    "from collections import Counter\n",
    "import pickle\n",
    "\n",
    "import PIL\n",
    "import scipy\n",
    "import matplotlib.pyplot as plt\n",
    "import numpy as np\n",
    "from keras.preprocessing.image import ImageDataGenerator\n",
    "from sklearn.model_selection import train_test_split\n",
    "from sklearn.decomposition import PCA\n",
    "from sklearn.preprocessing import MinMaxScaler, StandardScaler"
   ]
  },
  {
   "cell_type": "code",
   "execution_count": 58,
   "metadata": {},
   "outputs": [],
   "source": [
    "# Useful Functions\n",
    "def pklSave(contentToBeSaved, fullPath):\n",
    "    with open(fullPath, 'wb') as f:\n",
    "        pickle.dump(contentToBeSaved, f)\n",
    "\n",
    "def pklLoad(fullPath, convertToNumpyArray=False):\n",
    "    with open(fullPath, 'rb') as f:\n",
    "        content = pickle.load(f)\n",
    "    if convertToNumpyArray:\n",
    "        content = np.array(content)\n",
    "    return content\n",
    "\n",
    "def train_val_test_split(x, y, tr, va, te, **kwargs):\n",
    "    x_train, x_test_val, y_train, y_test_val = train_test_split(x, y, test_size=1-tr)\n",
    "    x_val, x_test, y_val, y_test = train_test_split(x_test_val, y_test_val, test_size=te/(te+va), **kwargs)\n",
    "    return (x_train, x_val, x_test, y_train, y_val, y_test)"
   ]
  },
  {
   "cell_type": "markdown",
   "metadata": {},
   "source": [
    "# Importing The Dataset"
   ]
  },
  {
   "cell_type": "code",
   "execution_count": 59,
   "metadata": {},
   "outputs": [
    {
     "name": "stdout",
     "output_type": "stream",
     "text": [
      "Found 3846 images belonging to 12 classes.\n",
      "Batch shape=(32, 256, 256, 3), min=0.0, max=255.0\n"
     ]
    }
   ],
   "source": [
    "# create generator\n",
    "datagen = ImageDataGenerator()\n",
    "# prepare an iterator for the dataset\n",
    "data_iterator = datagen.flow_from_directory('DatasetOriginal/', class_mode='categorical')\n",
    "# confirming the iterator works\n",
    "batchX, batchy = data_iterator.next()\n",
    "print(f'Batch shape={batchX.shape}, min={batchX.min()}, max={batchX.max()}')"
   ]
  },
  {
   "cell_type": "code",
   "execution_count": 60,
   "metadata": {},
   "outputs": [
    {
     "data": {
      "text/plain": [
       "{'burj_khalifa': 0,\n",
       " 'chichen_itza': 1,\n",
       " 'christ_the_reedemer': 2,\n",
       " 'eiffel_tower': 3,\n",
       " 'great_wall_of_china': 4,\n",
       " 'machu_pichu': 5,\n",
       " 'pyramids_of_giza': 6,\n",
       " 'roman_colosseum': 7,\n",
       " 'statue_of_liberty': 8,\n",
       " 'stonehenge': 9,\n",
       " 'taj_mahal': 10,\n",
       " 'venezuela_angel_falls': 11}"
      ]
     },
     "execution_count": 60,
     "metadata": {},
     "output_type": "execute_result"
    }
   ],
   "source": [
    "data_iterator.class_indices"
   ]
  },
  {
   "cell_type": "code",
   "execution_count": 61,
   "metadata": {},
   "outputs": [
    {
     "data": {
      "text/plain": [
       "(array([ 0,  0,  0, ..., 11, 11, 11]), 3846)"
      ]
     },
     "execution_count": 61,
     "metadata": {},
     "output_type": "execute_result"
    }
   ],
   "source": [
    "data_iterator.classes, len(data_iterator.classes)"
   ]
  },
  {
   "cell_type": "code",
   "execution_count": 62,
   "metadata": {},
   "outputs": [
    {
     "name": "stdout",
     "output_type": "stream",
     "text": [
      "dict_items([(0, 390), (1, 340), (2, 323), (3, 391), (4, 392), (5, 393), (6, 372), (7, 394), (8, 238), (9, 204), (10, 158), (11, 251)])\n"
     ]
    }
   ],
   "source": [
    "imgsPerClass = Counter(data_iterator.classes)\n",
    "print(imgsPerClass.items())"
   ]
  },
  {
   "cell_type": "code",
   "execution_count": 63,
   "metadata": {},
   "outputs": [
    {
     "name": "stdout",
     "output_type": "stream",
     "text": [
      "(0, 390) (1, 340) (2, 323) (3, 391) (4, 392) (5, 393) (6, 372) (7, 394) (8, 238) (9, 204) (10, 158) (11, 251)\n"
     ]
    }
   ],
   "source": [
    "print(*imgsPerClass.items())"
   ]
  },
  {
   "cell_type": "code",
   "execution_count": 64,
   "metadata": {},
   "outputs": [
    {
     "name": "stdout",
     "output_type": "stream",
     "text": [
      "(0, 1, 2, 3, 4, 5, 6, 7, 8, 9, 10, 11) (390, 340, 323, 391, 392, 393, 372, 394, 238, 204, 158, 251)\n"
     ]
    }
   ],
   "source": [
    "labels, freq = zip(*imgsPerClass.items())\n",
    "print(labels, freq)"
   ]
  },
  {
   "cell_type": "code",
   "execution_count": 65,
   "metadata": {},
   "outputs": [
    {
     "data": {
      "image/png": "[encoded data removed]",
      "text/plain": [
       "<Figure size 640x480 with 1 Axes>"
      ]
     },
     "metadata": {},
     "output_type": "display_data"
    }
   ],
   "source": [
    "indexes = np.arange(len(labels))\n",
    "width = 0.4\n",
    "\n",
    "plt.bar(indexes, freq, width)\n",
    "plt.xticks(indexes + width * 0.5, labels)\n",
    "plt.show()"
   ]
  },
  {
   "cell_type": "markdown",
   "metadata": {},
   "source": [
    "Due to the class imbalance shown in the bar plot above and due to the limitation of our chosen models (especially the capacity limitation of the HopeField Network), we'll focus only on classes 0, and 3 to 7. <br>\n",
    "Also, we'll convert the images to grayscale instead of RGB."
   ]
  },
  {
   "cell_type": "code",
   "execution_count": 66,
   "metadata": {},
   "outputs": [
    {
     "data": {
      "text/plain": [
       "{'burj_khalifa': 0,\n",
       " 'chichen_itza': 1,\n",
       " 'christ_the_reedemer': 2,\n",
       " 'eiffel_tower': 3,\n",
       " 'great_wall_of_china': 4,\n",
       " 'machu_pichu': 5,\n",
       " 'pyramids_of_giza': 6,\n",
       " 'roman_colosseum': 7,\n",
       " 'statue_of_liberty': 8,\n",
       " 'stonehenge': 9,\n",
       " 'taj_mahal': 10,\n",
       " 'venezuela_angel_falls': 11}"
      ]
     },
     "execution_count": 66,
     "metadata": {},
     "output_type": "execute_result"
    }
   ],
   "source": [
    "data_iterator.class_indices"
   ]
  },
  {
   "cell_type": "code",
   "execution_count": 67,
   "metadata": {},
   "outputs": [
    {
     "data": {
      "text/plain": [
       "['burj_khalifa',\n",
       " 'eiffel_tower',\n",
       " 'great_wall_of_china',\n",
       " 'machu_pichu',\n",
       " 'pyramids_of_giza',\n",
       " 'roman_colosseum']"
      ]
     },
     "execution_count": 67,
     "metadata": {},
     "output_type": "execute_result"
    }
   ],
   "source": [
    "newClasses = []\n",
    "for key, val in data_iterator.class_indices.items():\n",
    "    if val == 0 or (val >= 3 and val <= 7):\n",
    "        newClasses.append(key)\n",
    "newClasses"
   ]
  },
  {
   "cell_type": "markdown",
   "metadata": {},
   "source": [
    "# Cleaning Irrelevant Images\n",
    "Since there are images that barely resembles the actual landmark that we're trying to detect, we'll remove these images and put them in `removed_images` folder <br>\n",
    "Example of such irrelevant images:\n",
    "<img src='notebook_media/irrelevant images.png' />\n",
    "<br><br>\n",
    "side note: only images in sepecific folders are removed, as in later cells, we'll only consider specific classes"
   ]
  },
  {
   "cell_type": "code",
   "execution_count": 68,
   "metadata": {},
   "outputs": [
    {
     "name": "stdout",
     "output_type": "stream",
     "text": [
      "Found 2081 images belonging to 6 classes.\n"
     ]
    }
   ],
   "source": [
    "# could use image_dataset_from_directory instead of ImageDataGenerator and flow_from_directory, but since we can't take certain folders (classes) using its arguments, we'll use the depracted method\n",
    "# ds = image_dataset_from_directory('Dataset/', labels='inferred', label_mode='categorical')\n",
    "datagen = ImageDataGenerator(rescale=1/255.0) # rescaling the data to convert pixels from range of [0, 255] to [0, 1]\n",
    "# prepare an iterators for each dataset\n",
    "data_iterator = datagen.flow_from_directory('Dataset/', classes=newClasses, class_mode='binary', \n",
    "                                        target_size=(128,128), seed=42, batch_size=1, color_mode='grayscale', shuffle=False)\n",
    "# even though our classification problem is not \"binary\", we're putting it as an argument \n",
    "# because we want the labels as they are, as the models will have the task of one-hot encoding them\n",
    "# batch_size is set to 1, as we want to iterate over each image to flatten it to be used as input for the models\n",
    "# shuffle is set to False, as we don't want to randomize sampled images in each batch"
   ]
  },
  {
   "cell_type": "code",
   "execution_count": 69,
   "metadata": {},
   "outputs": [
    {
     "name": "stdout",
     "output_type": "stream",
     "text": [
      "(0, 285) (1, 360) (2, 356) (3, 360) (4, 360) (5, 360)\n"
     ]
    }
   ],
   "source": [
    "imgsPerClass = Counter(data_iterator.classes)\n",
    "print(*imgsPerClass.items())"
   ]
  },
  {
   "cell_type": "code",
   "execution_count": 70,
   "metadata": {},
   "outputs": [
    {
     "data": {
      "image/png": "[encoded data removed]",
      "text/plain": [
       "<Figure size 640x480 with 1 Axes>"
      ]
     },
     "metadata": {},
     "output_type": "display_data"
    }
   ],
   "source": [
    "labels, freq = zip(*imgsPerClass.items())\n",
    "indexes = np.arange(len(labels))\n",
    "width = 0.4\n",
    "\n",
    "plt.bar(indexes, freq, width)\n",
    "plt.xticks(indexes + width * 0.5, labels)\n",
    "plt.show()"
   ]
  },
  {
   "attachments": {},
   "cell_type": "markdown",
   "metadata": {},
   "source": [
    "Due to the relatively high difference in class 0 than the other classes, we'll also remove this class and limit our classification problem to 5 classes"
   ]
  },
  {
   "cell_type": "code",
   "execution_count": 71,
   "metadata": {},
   "outputs": [
    {
     "data": {
      "text/plain": [
       "['eiffel_tower',\n",
       " 'great_wall_of_china',\n",
       " 'machu_pichu',\n",
       " 'pyramids_of_giza',\n",
       " 'roman_colosseum']"
      ]
     },
     "execution_count": 71,
     "metadata": {},
     "output_type": "execute_result"
    }
   ],
   "source": [
    "newClasses = []\n",
    "for key, val in data_iterator.class_indices.items():\n",
    "    if not val == 0:\n",
    "        newClasses.append(key)\n",
    "newClasses"
   ]
  },
  {
   "cell_type": "code",
   "execution_count": 72,
   "metadata": {},
   "outputs": [
    {
     "name": "stdout",
     "output_type": "stream",
     "text": [
      "Found 1796 images belonging to 5 classes.\n"
     ]
    }
   ],
   "source": [
    "data_iterator = datagen.flow_from_directory('Dataset/', classes=newClasses, class_mode='binary', \n",
    "                                        target_size=(128,128), seed=42, batch_size=1, color_mode='grayscale', shuffle=False)"
   ]
  },
  {
   "cell_type": "code",
   "execution_count": 73,
   "metadata": {},
   "outputs": [
    {
     "name": "stdout",
     "output_type": "stream",
     "text": [
      "(0, 360) (1, 356) (2, 360) (3, 360) (4, 360)\n"
     ]
    },
    {
     "data": {
      "image/png": "[encoded data removed]",
      "text/plain": [
       "<Figure size 640x480 with 1 Axes>"
      ]
     },
     "metadata": {},
     "output_type": "display_data"
    }
   ],
   "source": [
    "imgsPerClass = Counter(data_iterator.classes)\n",
    "print(*imgsPerClass.items())\n",
    "\n",
    "labels, freq = zip(*imgsPerClass.items())\n",
    "indexes = np.arange(len(labels))\n",
    "width = 0.4\n",
    "\n",
    "plt.bar(indexes, freq, width)\n",
    "plt.xticks(indexes + width * 0.5, labels)\n",
    "plt.show()"
   ]
  },
  {
   "cell_type": "code",
   "execution_count": 74,
   "metadata": {},
   "outputs": [
    {
     "name": "stdout",
     "output_type": "stream",
     "text": [
      "shape of 1st image: (128, 128, 1)\n",
      "when flattened: (16384,)\n",
      "value of 1st label: 0.0\n",
      "value of 1st image:\n",
      " [[[0.78823537]\n",
      "  [0.7960785 ]\n",
      "  [0.7960785 ]\n",
      "  ...\n",
      "  [0.7686275 ]\n",
      "  [0.77647066]\n",
      "  [0.76470596]]\n",
      "\n",
      " [[0.7803922 ]\n",
      "  [0.78823537]\n",
      "  [0.78823537]\n",
      "  ...\n",
      "  [0.78823537]\n",
      "  [0.78823537]\n",
      "  [0.7725491 ]]\n",
      "\n",
      " [[0.7803922 ]\n",
      "  [0.7803922 ]\n",
      "  [0.7803922 ]\n",
      "  ...\n",
      "  [0.78823537]\n",
      "  [0.7803922 ]\n",
      "  [0.7686275 ]]\n",
      "\n",
      " ...\n",
      "\n",
      " [[0.4039216 ]\n",
      "  [0.3921569 ]\n",
      "  [0.3254902 ]\n",
      "  ...\n",
      "  [0.13725491]\n",
      "  [0.1254902 ]\n",
      "  [0.09411766]]\n",
      "\n",
      " [[0.37254903]\n",
      "  [0.29411766]\n",
      "  [0.38431376]\n",
      "  ...\n",
      "  [0.14901961]\n",
      "  [0.08627451]\n",
      "  [0.08235294]]\n",
      "\n",
      " [[0.32156864]\n",
      "  [0.25882354]\n",
      "  [0.23137257]\n",
      "  ...\n",
      "  [0.09411766]\n",
      "  [0.07058824]\n",
      "  [0.0509804 ]]]\n"
     ]
    }
   ],
   "source": [
    "for batch in data_iterator: # just for visualizing\n",
    "    batchofXs = batch[0]\n",
    "    batchofYs = batch[1]\n",
    "    print('shape of 1st image:', np.array(batchofXs[0]).shape) \n",
    "    print('when flattened:', np.array(batchofXs[0]).flatten().shape)\n",
    "    print('value of 1st label:', batchofYs[0])\n",
    "    print('value of 1st image:\\n', batchofXs[0])\n",
    "    break"
   ]
  },
  {
   "cell_type": "code",
   "execution_count": 75,
   "metadata": {},
   "outputs": [
    {
     "data": {
      "text/plain": [
       "(1796, 1796)"
      ]
     },
     "execution_count": 75,
     "metadata": {},
     "output_type": "execute_result"
    }
   ],
   "source": [
    "x = []\n",
    "y = []\n",
    "for i, batch in enumerate(data_iterator):\n",
    "    if i == data_iterator.samples: # break when all images in the folders are processed\n",
    "        break\n",
    "    x.append(np.array(batch[0]).flatten()) # flattening the image\n",
    "    y.append(int(batch[1])) # converting labels to int instead of float\n",
    "len(x), len(y)"
   ]
  },
  {
   "cell_type": "code",
   "execution_count": 76,
   "metadata": {},
   "outputs": [],
   "source": [
    "pklSave(x, 'x128.pkl')\n",
    "pklSave(y, 'y.pkl')"
   ]
  },
  {
   "cell_type": "code",
   "execution_count": 77,
   "metadata": {},
   "outputs": [],
   "source": [
    "x = pklLoad('x128.pkl', convertToNumpyArray=True)\n",
    "y = pklLoad('y.pkl', convertToNumpyArray=True)"
   ]
  },
  {
   "cell_type": "code",
   "execution_count": 78,
   "metadata": {},
   "outputs": [
    {
     "data": {
      "text/plain": [
       "((1796, 16384), (1796,))"
      ]
     },
     "execution_count": 78,
     "metadata": {},
     "output_type": "execute_result"
    }
   ],
   "source": [
    "x.shape, y.shape"
   ]
  },
  {
   "cell_type": "markdown",
   "metadata": {},
   "source": [
    "The following code will be at the start of each of the models' .ipynb files"
   ]
  },
  {
   "cell_type": "code",
   "execution_count": 79,
   "metadata": {},
   "outputs": [],
   "source": [
    "# x = pklLoad('../x128.pkl', convertToNumpyArray=True)\n",
    "# y = pklLoad('../y.pkl', convertToNumpyArray=True)\n",
    "x_train, x_test, y_train, y_test = train_test_split(x, y, test_size=0.2, random_state=42)\n",
    "x_train = np.array(x_train)\n",
    "x_test = np.array(x_test)\n",
    "y_train = np.array(y_train)\n",
    "y_test = np.array(y_test)"
   ]
  },
  {
   "cell_type": "code",
   "execution_count": 80,
   "metadata": {},
   "outputs": [
    {
     "data": {
      "text/plain": [
       "(1436, 360, 1436, 360)"
      ]
     },
     "execution_count": 80,
     "metadata": {},
     "output_type": "execute_result"
    }
   ],
   "source": [
    "len(x_train), len(x_test), len(y_train), len(y_test)"
   ]
  },
  {
   "cell_type": "markdown",
   "metadata": {},
   "source": [
    "# Feature Extraction using PCA\n",
    "due to the used models' limitation, we'll also use PCA to extract the most important features from each image and store that in another pickle file"
   ]
  },
  {
   "cell_type": "markdown",
   "metadata": {},
   "source": [
    "On 128x128 version"
   ]
  },
  {
   "cell_type": "code",
   "execution_count": 81,
   "metadata": {},
   "outputs": [
    {
     "data": {
      "text/plain": [
       "(1796, 16384)"
      ]
     },
     "execution_count": 81,
     "metadata": {},
     "output_type": "execute_result"
    }
   ],
   "source": [
    "x.shape"
   ]
  },
  {
   "cell_type": "code",
   "execution_count": 82,
   "metadata": {},
   "outputs": [
    {
     "data": {
      "text/html": [
       "<style>#sk-container-id-3 {color: black;background-color: white;}#sk-container-id-3 pre{padding: 0;}#sk-container-id-3 div.sk-toggleable {background-color: white;}#sk-container-id-3 label.sk-toggleable__label {cursor: pointer;display: block;width: 100%;margin-bottom: 0;padding: 0.3em;box-sizing: border-box;text-align: center;}#sk-container-id-3 label.sk-toggleable__label-arrow:before {content: \"▸\";float: left;margin-right: 0.25em;color: #696969;}#sk-container-id-3 label.sk-toggleable__label-arrow:hover:before {color: black;}#sk-container-id-3 div.sk-estimator:hover label.sk-toggleable__label-arrow:before {color: black;}#sk-container-id-3 div.sk-toggleable__content {max-height: 0;max-width: 0;overflow: hidden;text-align: left;background-color: #f0f8ff;}#sk-container-id-3 div.sk-toggleable__content pre {margin: 0.2em;color: black;border-radius: 0.25em;background-color: #f0f8ff;}#sk-container-id-3 input.sk-toggleable__control:checked~div.sk-toggleable__content {max-height: 200px;max-width: 100%;overflow: auto;}#sk-container-id-3 input.sk-toggleable__control:checked~label.sk-toggleable__label-arrow:before {content: \"▾\";}#sk-container-id-3 div.sk-estimator input.sk-toggleable__control:checked~label.sk-toggleable__label {background-color: #d4ebff;}#sk-container-id-3 div.sk-label input.sk-toggleable__control:checked~label.sk-toggleable__label {background-color: #d4ebff;}#sk-container-id-3 input.sk-hidden--visually {border: 0;clip: rect(1px 1px 1px 1px);clip: rect(1px, 1px, 1px, 1px);height: 1px;margin: -1px;overflow: hidden;padding: 0;position: absolute;width: 1px;}#sk-container-id-3 div.sk-estimator {font-family: monospace;background-color: #f0f8ff;border: 1px dotted black;border-radius: 0.25em;box-sizing: border-box;margin-bottom: 0.5em;}#sk-container-id-3 div.sk-estimator:hover {background-color: #d4ebff;}#sk-container-id-3 div.sk-parallel-item::after {content: \"\";width: 100%;border-bottom: 1px solid gray;flex-grow: 1;}#sk-container-id-3 div.sk-label:hover label.sk-toggleable__label {background-color: #d4ebff;}#sk-container-id-3 div.sk-serial::before {content: \"\";position: absolute;border-left: 1px solid gray;box-sizing: border-box;top: 0;bottom: 0;left: 50%;z-index: 0;}#sk-container-id-3 div.sk-serial {display: flex;flex-direction: column;align-items: center;background-color: white;padding-right: 0.2em;padding-left: 0.2em;position: relative;}#sk-container-id-3 div.sk-item {position: relative;z-index: 1;}#sk-container-id-3 div.sk-parallel {display: flex;align-items: stretch;justify-content: center;background-color: white;position: relative;}#sk-container-id-3 div.sk-item::before, #sk-container-id-3 div.sk-parallel-item::before {content: \"\";position: absolute;border-left: 1px solid gray;box-sizing: border-box;top: 0;bottom: 0;left: 50%;z-index: -1;}#sk-container-id-3 div.sk-parallel-item {display: flex;flex-direction: column;z-index: 1;position: relative;background-color: white;}#sk-container-id-3 div.sk-parallel-item:first-child::after {align-self: flex-end;width: 50%;}#sk-container-id-3 div.sk-parallel-item:last-child::after {align-self: flex-start;width: 50%;}#sk-container-id-3 div.sk-parallel-item:only-child::after {width: 0;}#sk-container-id-3 div.sk-dashed-wrapped {border: 1px dashed gray;margin: 0 0.4em 0.5em 0.4em;box-sizing: border-box;padding-bottom: 0.4em;background-color: white;}#sk-container-id-3 div.sk-label label {font-family: monospace;font-weight: bold;display: inline-block;line-height: 1.2em;}#sk-container-id-3 div.sk-label-container {text-align: center;}#sk-container-id-3 div.sk-container {/* jupyter's `normalize.less` sets `[hidden] { display: none; }` but bootstrap.min.css set `[hidden] { display: none !important; }` so we also need the `!important` here to be able to override the default hidden behavior on the sphinx rendered scikit-learn.org. See: https://github.com/scikit-learn/scikit-learn/issues/21755 */display: inline-block !important;position: relative;}#sk-container-id-3 div.sk-text-repr-fallback {display: none;}</style><div id=\"sk-container-id-3\" class=\"sk-top-container\"><div class=\"sk-text-repr-fallback\"><pre>PCA(n_components=1796, random_state=42)</pre><b>In a Jupyter environment, please rerun this cell to show the HTML representation or trust the notebook. <br />On GitHub, the HTML representation is unable to render, please try loading this page with nbviewer.org.</b></div><div class=\"sk-container\" hidden><div class=\"sk-item\"><div class=\"sk-estimator sk-toggleable\"><input class=\"sk-toggleable__control sk-hidden--visually\" id=\"sk-estimator-id-3\" type=\"checkbox\" checked><label for=\"sk-estimator-id-3\" class=\"sk-toggleable__label sk-toggleable__label-arrow\">PCA</label><div class=\"sk-toggleable__content\"><pre>PCA(n_components=1796, random_state=42)</pre></div></div></div></div></div>"
      ],
      "text/plain": [
       "PCA(n_components=1796, random_state=42)"
      ]
     },
     "execution_count": 82,
     "metadata": {},
     "output_type": "execute_result"
    }
   ],
   "source": [
    "# apply PCA once to\n",
    "# select the best number of components\n",
    "pca = PCA(n_components=min(data_iterator.samples, x.shape[1]), random_state=42)\n",
    "pca.fit(x)"
   ]
  },
  {
   "cell_type": "code",
   "execution_count": 83,
   "metadata": {},
   "outputs": [
    {
     "data": {
      "text/plain": [
       "Text(0, 0.5, 'Explained variance')"
      ]
     },
     "execution_count": 83,
     "metadata": {},
     "output_type": "execute_result"
    },
    {
     "data": {
      "image/png": "[encoded data removed]",
      "text/plain": [
       "<Figure size 640x480 with 1 Axes>"
      ]
     },
     "metadata": {},
     "output_type": "display_data"
    }
   ],
   "source": [
    "# source: https://towardsdatascience.com/using-pca-to-reduce-number-of-parameters-in-a-neural-network-by-30x-times-fcc737159282\n",
    "plt.grid()\n",
    "plt.plot(np.cumsum(pca.explained_variance_ratio_ * 100))\n",
    "plt.xlabel('Number of components')\n",
    "plt.ylabel('Explained variance')"
   ]
  },
  {
   "attachments": {},
   "cell_type": "markdown",
   "metadata": {},
   "source": [
    "As we can see, around 1.4k features make up most of the variance for the images. Therefore, we can only use those features as input to our models!"
   ]
  },
  {
   "cell_type": "code",
   "execution_count": 84,
   "metadata": {},
   "outputs": [],
   "source": [
    "pca = PCA(n_components=1400, random_state=42)\n",
    "xfNotNorm = pca.fit_transform(x)"
   ]
  },
  {
   "cell_type": "code",
   "execution_count": 85,
   "metadata": {},
   "outputs": [
    {
     "name": "stdout",
     "output_type": "stream",
     "text": [
      "8.782328 14.069367 -58.454586 59.002167\n"
     ]
    }
   ],
   "source": [
    "print(xfNotNorm[0][0], xfNotNorm[0][1], np.min(xfNotNorm), np.max(xfNotNorm))"
   ]
  },
  {
   "cell_type": "markdown",
   "metadata": {},
   "source": [
    "Since the resulted values are not range-bound, they have to be normalized to be from 0 to 1"
   ]
  },
  {
   "cell_type": "code",
   "execution_count": 86,
   "metadata": {},
   "outputs": [],
   "source": [
    "mmScaler = MinMaxScaler()\n",
    "xf = mmScaler.fit_transform(xfNotNorm)"
   ]
  },
  {
   "cell_type": "code",
   "execution_count": 87,
   "metadata": {},
   "outputs": [],
   "source": [
    "# stScaler = StandardScaler()\n",
    "# xf = stScaler.fit_transform(xfNotNorm)"
   ]
  },
  {
   "cell_type": "code",
   "execution_count": 88,
   "metadata": {},
   "outputs": [
    {
     "data": {
      "text/plain": [
       "array([0.57243973, 0.61189944, 0.35332477, ..., 0.6476613 , 0.60316896,\n",
       "       0.42092118], dtype=float32)"
      ]
     },
     "execution_count": 88,
     "metadata": {},
     "output_type": "execute_result"
    }
   ],
   "source": [
    "xf[0]"
   ]
  },
  {
   "cell_type": "code",
   "execution_count": 89,
   "metadata": {},
   "outputs": [],
   "source": [
    "pklSave(xf, 'x128f.pkl')"
   ]
  },
  {
   "cell_type": "code",
   "execution_count": 90,
   "metadata": {},
   "outputs": [],
   "source": [
    "xf = pklLoad('x128f.pkl', convertToNumpyArray=True)"
   ]
  },
  {
   "cell_type": "markdown",
   "metadata": {},
   "source": [
    "The following code will be at the start of each of the models' .ipynb files"
   ]
  },
  {
   "cell_type": "code",
   "execution_count": 91,
   "metadata": {},
   "outputs": [],
   "source": [
    "# xf = pklLoad('../x128f.pkl', convertToNumpyArray=True)\n",
    "# y = pklLoad('../y.pkl', convertToNumpyArray=True)\n",
    "x_train, x_test, y_train, y_test = train_test_split(xf, y, test_size=0.2, random_state=42)\n",
    "x_train = np.array(x_train)\n",
    "x_test = np.array(x_test)\n",
    "y_train = np.array(y_train)\n",
    "y_test = np.array(y_test)"
   ]
  },
  {
   "cell_type": "markdown",
   "metadata": {},
   "source": [
    "## on 64x64 version\n",
    "Due to the severe loss in information (realized from score on dbn model) that happened when we transformed largely dispersed data to be in [0, 1] scale, we'll try feature extraction on 64x64 version of the dataset"
   ]
  },
  {
   "cell_type": "code",
   "execution_count": 92,
   "metadata": {},
   "outputs": [
    {
     "name": "stdout",
     "output_type": "stream",
     "text": [
      "Found 1796 images belonging to 5 classes.\n"
     ]
    }
   ],
   "source": [
    "datagen = ImageDataGenerator(rescale=1/255.0)\n",
    "data_iterator = datagen.flow_from_directory('Dataset/', classes=newClasses, class_mode='binary', \n",
    "                                        target_size=(64,64), seed=42, batch_size=1, color_mode='grayscale', shuffle=False)"
   ]
  },
  {
   "cell_type": "code",
   "execution_count": 93,
   "metadata": {},
   "outputs": [
    {
     "data": {
      "text/plain": [
       "(1796, 1796)"
      ]
     },
     "execution_count": 93,
     "metadata": {},
     "output_type": "execute_result"
    }
   ],
   "source": [
    "x64 = []\n",
    "for i, batch in enumerate(data_iterator):\n",
    "    if i == data_iterator.samples: # break when all images in the folders are processed\n",
    "        break\n",
    "    x64.append(np.array(batch[0]).flatten()) # flattening the image\n",
    "    # no need to store y values, as shuffle=False in flow_from_directory\n",
    "len(x64), len(y)"
   ]
  },
  {
   "cell_type": "code",
   "execution_count": 94,
   "metadata": {},
   "outputs": [],
   "source": [
    "pklSave(x64, 'x64.pkl')"
   ]
  },
  {
   "cell_type": "code",
   "execution_count": 95,
   "metadata": {},
   "outputs": [],
   "source": [
    "x64 = pklLoad('x64.pkl', convertToNumpyArray=True)"
   ]
  },
  {
   "cell_type": "code",
   "execution_count": 96,
   "metadata": {},
   "outputs": [
    {
     "data": {
      "text/plain": [
       "((1796, 4096), (1796,))"
      ]
     },
     "execution_count": 96,
     "metadata": {},
     "output_type": "execute_result"
    }
   ],
   "source": [
    "x64.shape, y.shape"
   ]
  },
  {
   "cell_type": "code",
   "execution_count": 97,
   "metadata": {},
   "outputs": [
    {
     "data": {
      "text/html": [
       "<style>#sk-container-id-4 {color: black;background-color: white;}#sk-container-id-4 pre{padding: 0;}#sk-container-id-4 div.sk-toggleable {background-color: white;}#sk-container-id-4 label.sk-toggleable__label {cursor: pointer;display: block;width: 100%;margin-bottom: 0;padding: 0.3em;box-sizing: border-box;text-align: center;}#sk-container-id-4 label.sk-toggleable__label-arrow:before {content: \"▸\";float: left;margin-right: 0.25em;color: #696969;}#sk-container-id-4 label.sk-toggleable__label-arrow:hover:before {color: black;}#sk-container-id-4 div.sk-estimator:hover label.sk-toggleable__label-arrow:before {color: black;}#sk-container-id-4 div.sk-toggleable__content {max-height: 0;max-width: 0;overflow: hidden;text-align: left;background-color: #f0f8ff;}#sk-container-id-4 div.sk-toggleable__content pre {margin: 0.2em;color: black;border-radius: 0.25em;background-color: #f0f8ff;}#sk-container-id-4 input.sk-toggleable__control:checked~div.sk-toggleable__content {max-height: 200px;max-width: 100%;overflow: auto;}#sk-container-id-4 input.sk-toggleable__control:checked~label.sk-toggleable__label-arrow:before {content: \"▾\";}#sk-container-id-4 div.sk-estimator input.sk-toggleable__control:checked~label.sk-toggleable__label {background-color: #d4ebff;}#sk-container-id-4 div.sk-label input.sk-toggleable__control:checked~label.sk-toggleable__label {background-color: #d4ebff;}#sk-container-id-4 input.sk-hidden--visually {border: 0;clip: rect(1px 1px 1px 1px);clip: rect(1px, 1px, 1px, 1px);height: 1px;margin: -1px;overflow: hidden;padding: 0;position: absolute;width: 1px;}#sk-container-id-4 div.sk-estimator {font-family: monospace;background-color: #f0f8ff;border: 1px dotted black;border-radius: 0.25em;box-sizing: border-box;margin-bottom: 0.5em;}#sk-container-id-4 div.sk-estimator:hover {background-color: #d4ebff;}#sk-container-id-4 div.sk-parallel-item::after {content: \"\";width: 100%;border-bottom: 1px solid gray;flex-grow: 1;}#sk-container-id-4 div.sk-label:hover label.sk-toggleable__label {background-color: #d4ebff;}#sk-container-id-4 div.sk-serial::before {content: \"\";position: absolute;border-left: 1px solid gray;box-sizing: border-box;top: 0;bottom: 0;left: 50%;z-index: 0;}#sk-container-id-4 div.sk-serial {display: flex;flex-direction: column;align-items: center;background-color: white;padding-right: 0.2em;padding-left: 0.2em;position: relative;}#sk-container-id-4 div.sk-item {position: relative;z-index: 1;}#sk-container-id-4 div.sk-parallel {display: flex;align-items: stretch;justify-content: center;background-color: white;position: relative;}#sk-container-id-4 div.sk-item::before, #sk-container-id-4 div.sk-parallel-item::before {content: \"\";position: absolute;border-left: 1px solid gray;box-sizing: border-box;top: 0;bottom: 0;left: 50%;z-index: -1;}#sk-container-id-4 div.sk-parallel-item {display: flex;flex-direction: column;z-index: 1;position: relative;background-color: white;}#sk-container-id-4 div.sk-parallel-item:first-child::after {align-self: flex-end;width: 50%;}#sk-container-id-4 div.sk-parallel-item:last-child::after {align-self: flex-start;width: 50%;}#sk-container-id-4 div.sk-parallel-item:only-child::after {width: 0;}#sk-container-id-4 div.sk-dashed-wrapped {border: 1px dashed gray;margin: 0 0.4em 0.5em 0.4em;box-sizing: border-box;padding-bottom: 0.4em;background-color: white;}#sk-container-id-4 div.sk-label label {font-family: monospace;font-weight: bold;display: inline-block;line-height: 1.2em;}#sk-container-id-4 div.sk-label-container {text-align: center;}#sk-container-id-4 div.sk-container {/* jupyter's `normalize.less` sets `[hidden] { display: none; }` but bootstrap.min.css set `[hidden] { display: none !important; }` so we also need the `!important` here to be able to override the default hidden behavior on the sphinx rendered scikit-learn.org. See: https://github.com/scikit-learn/scikit-learn/issues/21755 */display: inline-block !important;position: relative;}#sk-container-id-4 div.sk-text-repr-fallback {display: none;}</style><div id=\"sk-container-id-4\" class=\"sk-top-container\"><div class=\"sk-text-repr-fallback\"><pre>PCA(n_components=1796, random_state=42)</pre><b>In a Jupyter environment, please rerun this cell to show the HTML representation or trust the notebook. <br />On GitHub, the HTML representation is unable to render, please try loading this page with nbviewer.org.</b></div><div class=\"sk-container\" hidden><div class=\"sk-item\"><div class=\"sk-estimator sk-toggleable\"><input class=\"sk-toggleable__control sk-hidden--visually\" id=\"sk-estimator-id-4\" type=\"checkbox\" checked><label for=\"sk-estimator-id-4\" class=\"sk-toggleable__label sk-toggleable__label-arrow\">PCA</label><div class=\"sk-toggleable__content\"><pre>PCA(n_components=1796, random_state=42)</pre></div></div></div></div></div>"
      ],
      "text/plain": [
       "PCA(n_components=1796, random_state=42)"
      ]
     },
     "execution_count": 97,
     "metadata": {},
     "output_type": "execute_result"
    }
   ],
   "source": [
    "# apply PCA once to\n",
    "# select the best number of components\n",
    "pca = PCA(n_components=min(data_iterator.samples, x64.shape[1]), random_state=42)\n",
    "pca.fit(x64)"
   ]
  },
  {
   "cell_type": "code",
   "execution_count": 98,
   "metadata": {},
   "outputs": [
    {
     "data": {
      "text/plain": [
       "Text(0, 0.5, 'Explained variance')"
      ]
     },
     "execution_count": 98,
     "metadata": {},
     "output_type": "execute_result"
    },
    {
     "data": {
      "image/png": "[encoded data removed]",
      "text/plain": [
       "<Figure size 640x480 with 1 Axes>"
      ]
     },
     "metadata": {},
     "output_type": "display_data"
    }
   ],
   "source": [
    "# source: https://towardsdatascience.com/using-pca-to-reduce-number-of-parameters-in-a-neural-network-by-30x-times-fcc737159282\n",
    "plt.grid()\n",
    "plt.plot(np.cumsum(pca.explained_variance_ratio_ * 100))\n",
    "plt.xlabel('Number of components')\n",
    "plt.ylabel('Explained variance')"
   ]
  },
  {
   "attachments": {},
   "cell_type": "markdown",
   "metadata": {},
   "source": [
    "As we can see, around 1250 features make up most of the variance for the images. Therefore, we can only use those features as input to our models!"
   ]
  },
  {
   "cell_type": "code",
   "execution_count": 99,
   "metadata": {},
   "outputs": [],
   "source": [
    "pca = PCA(n_components=1250, random_state=42)\n",
    "xfNotNorm = pca.fit_transform(x64)"
   ]
  },
  {
   "cell_type": "code",
   "execution_count": 100,
   "metadata": {},
   "outputs": [
    {
     "name": "stdout",
     "output_type": "stream",
     "text": [
      "-7.4185038 -0.13402538 -29.328178 29.49172\n"
     ]
    }
   ],
   "source": [
    "print(xfNotNorm[0][0], xfNotNorm[0][1], np.min(xfNotNorm), np.max(xfNotNorm))"
   ]
  },
  {
   "cell_type": "code",
   "execution_count": 101,
   "metadata": {},
   "outputs": [],
   "source": [
    "mmScaler = MinMaxScaler()\n",
    "x64f = mmScaler.fit_transform(xfNotNorm)"
   ]
  },
  {
   "cell_type": "code",
   "execution_count": 102,
   "metadata": {},
   "outputs": [],
   "source": [
    "pklSave(x64f, 'x64f.pkl')"
   ]
  },
  {
   "cell_type": "code",
   "execution_count": 103,
   "metadata": {},
   "outputs": [],
   "source": [
    "x64f = pklLoad('x64f.pkl', convertToNumpyArray=True)"
   ]
  },
  {
   "cell_type": "code",
   "execution_count": 104,
   "metadata": {},
   "outputs": [
    {
     "name": "stdout",
     "output_type": "stream",
     "text": [
      "0.37248746 0.41806513 0.0 1.0000001\n"
     ]
    }
   ],
   "source": [
    "print(x64f[0][0], x64f[0][1], np.min(x64f), np.max(x64f))"
   ]
  },
  {
   "cell_type": "markdown",
   "metadata": {},
   "source": [
    "# Trying Data Augmentation\n",
    "Insufficient data is the main cuase of underfitting that occurred when training the models. Therefore, we'll try augmenting the data"
   ]
  },
  {
   "cell_type": "code",
   "execution_count": 105,
   "metadata": {},
   "outputs": [
    {
     "name": "stdout",
     "output_type": "stream",
     "text": [
      "Found 1796 images belonging to 5 classes.\n",
      "Found 1796 images belonging to 5 classes.\n",
      "Found 1796 images belonging to 5 classes.\n",
      "Found 1796 images belonging to 5 classes.\n"
     ]
    }
   ],
   "source": [
    "datagen_orig = ImageDataGenerator(rescale=1/255.0)\n",
    "datagen_flipped = ImageDataGenerator(rescale=1/255.0, horizontal_flip=True)\n",
    "datagen_zoom = ImageDataGenerator(rescale=1/255.0, zoom_range=0.3)\n",
    "datagen_shift = ImageDataGenerator(rescale=1/2550.0, width_shift_range=0.2, height_shift_range=0.2)\n",
    "\n",
    "data_iterator_orig = datagen_orig.flow_from_directory('Dataset/', classes=newClasses, class_mode='binary', \n",
    "                                        target_size=(128,128), seed=42, batch_size=1, color_mode='grayscale', shuffle=False)\n",
    "\n",
    "data_iterator_flipped = datagen_flipped.flow_from_directory('Dataset/', classes=newClasses, class_mode='binary', \n",
    "                                        target_size=(128,128), seed=42, batch_size=1, color_mode='grayscale', shuffle=False) \n",
    "\n",
    "data_iterator_zoom = datagen_zoom.flow_from_directory('Dataset/', classes=newClasses, class_mode='binary', \n",
    "                                        target_size=(128,128), seed=42, batch_size=1, color_mode='grayscale', shuffle=False)\n",
    "\n",
    "data_iterator_shift = datagen_shift.flow_from_directory('Dataset/', classes=newClasses, class_mode='binary', \n",
    "                                        target_size=(128,128), seed=42, batch_size=1, color_mode='grayscale', shuffle=False)                                     "
   ]
  },
  {
   "cell_type": "code",
   "execution_count": 106,
   "metadata": {},
   "outputs": [],
   "source": [
    "xaug = []\n",
    "yaug = []\n",
    "for i, batch in enumerate(data_iterator_orig):\n",
    "    if i == data_iterator_orig.samples:\n",
    "        break\n",
    "    xaug.append(np.array(batch[0]).flatten()) \n",
    "    yaug.append(int(batch[1])) \n",
    "for i, batch in enumerate(data_iterator_flipped):\n",
    "    if i == data_iterator_flipped.samples:\n",
    "        break\n",
    "    xaug.append(np.array(batch[0]).flatten()) \n",
    "    yaug.append(int(batch[1])) \n",
    "for i, batch in enumerate(data_iterator_zoom):\n",
    "    if i == data_iterator_zoom.samples:\n",
    "        break\n",
    "    xaug.append(np.array(batch[0]).flatten()) \n",
    "    yaug.append(int(batch[1])) \n",
    "for i, batch in enumerate(data_iterator_shift):\n",
    "    if i == data_iterator_zoom.samples:\n",
    "        break\n",
    "    xaug.append(np.array(batch[0]).flatten()) \n",
    "    yaug.append(int(batch[1])) "
   ]
  },
  {
   "cell_type": "code",
   "execution_count": 107,
   "metadata": {},
   "outputs": [
    {
     "data": {
      "text/plain": [
       "(7184, 7184)"
      ]
     },
     "execution_count": 107,
     "metadata": {},
     "output_type": "execute_result"
    }
   ],
   "source": [
    "len(xaug), len(yaug)"
   ]
  },
  {
   "cell_type": "code",
   "execution_count": 108,
   "metadata": {},
   "outputs": [
    {
     "name": "stdout",
     "output_type": "stream",
     "text": [
      "(0, 360) (1, 356) (2, 360) (3, 360) (4, 360)\n",
      "[360. 356. 360. 360. 360.]\n",
      "[1440 1424 1440 1440 1440]\n"
     ]
    }
   ],
   "source": [
    "# sanity check that the exact dataset was passed by 4 times, and therefore classes are distributed properly\n",
    "imgsPerClass = Counter(data_iterator_orig.classes)\n",
    "print(*imgsPerClass.items())\n",
    "print(np.bincount(np.array(yaug)) / 4)\n",
    "print(np.bincount(np.array(yaug)))"
   ]
  },
  {
   "cell_type": "code",
   "execution_count": 109,
   "metadata": {},
   "outputs": [],
   "source": [
    "pklSave(xaug, 'x128aug.pkl')\n",
    "pklSave(yaug, 'yaug.pkl')"
   ]
  },
  {
   "cell_type": "code",
   "execution_count": 110,
   "metadata": {},
   "outputs": [],
   "source": [
    "x128aug = pklLoad('x128aug.pkl', convertToNumpyArray=True)\n",
    "yaug = pklLoad('yaug.pkl', convertToNumpyArray=True)"
   ]
  },
  {
   "cell_type": "code",
   "execution_count": null,
   "metadata": {},
   "outputs": [],
   "source": []
  }
 ],
 "metadata": {
  "kernelspec": {
   "display_name": "Python 3.10.8 (conda)",
   "language": "python",
   "name": "python3"
  },
  "language_info": {
   "codemirror_mode": {
    "name": "ipython",
    "version": 3
   },
   "file_extension": ".py",
   "mimetype": "text/x-python",
   "name": "python",
   "nbconvert_exporter": "python",
   "pygments_lexer": "ipython3",
   "version": "3.8.15 (default, Nov 24 2022, 14:38:14) [MSC v.1916 64 bit (AMD64)]"
  },
  "orig_nbformat": 4,
  "vscode": {
   "interpreter": {
    "hash": "a820c38c0c6998d5531b30a72abed1c849220b8ccc9e18c2545958238bc5c1c7"
   }
  }
 },
 "nbformat": 4,
 "nbformat_minor": 2
}
