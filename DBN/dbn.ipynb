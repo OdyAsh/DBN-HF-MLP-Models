{
 "cells": [
  {
   "cell_type": "code",
   "execution_count": 102,
   "metadata": {},
   "outputs": [],
   "source": [
    "# For Reproducable Code\n",
    "from numpy.random import seed\n",
    "seed(42)\n",
    "import tensorflow\n",
    "tensorflow.random.set_seed(42)\n",
    "from cupy.random import seed\n",
    "seed(42)\n",
    "\n",
    "# other standard imports. \"pip install -r requirements.txt\" to install dependencies and \"pip freeze > requirements.txt\" to update them\n",
    "from collections import Counter\n",
    "import pickle\n",
    "\n",
    "import PIL\n",
    "import scipy\n",
    "import matplotlib.pyplot as plt\n",
    "import numpy as np\n",
    "import cupy as cp\n",
    "from sklearn.model_selection import train_test_split\n",
    "\n",
    "from sklearn.metrics import accuracy_score\n",
    "from dbn import SupervisedDBNClassification"
   ]
  },
  {
   "cell_type": "code",
   "execution_count": 103,
   "metadata": {},
   "outputs": [],
   "source": [
    "# Useful Functions\n",
    "def pklSave(contentToBeSaved, fullPath):\n",
    "    with open(fullPath, 'wb') as f:\n",
    "        pickle.dump(contentToBeSaved, f)\n",
    "\n",
    "def pklLoad(fullPath, convertToNumpyArray=False):\n",
    "    with open(fullPath, 'rb') as f:\n",
    "        content = pickle.load(f)\n",
    "    if convertToNumpyArray:\n",
    "        content = np.array(content)\n",
    "    return content\n",
    "\n",
    "def train_val_test_split(x, y, tr, va, te, **kwargs):\n",
    "    x_train, x_test_val, y_train, y_test_val = train_test_split(x, y, test_size=1-tr)\n",
    "    x_val, x_test, y_val, y_test = train_test_split(x_test_val, y_test_val, test_size=te/(te+va), **kwargs)\n",
    "    return (x_train, x_val, x_test, y_train, y_val, y_test)"
   ]
  },
  {
   "cell_type": "code",
   "execution_count": 104,
   "metadata": {},
   "outputs": [],
   "source": [
    "def custom_learning_curve(estimator, x, y, train_sizes = None, test_sizes = None): # pass x, y as lists or nparrays\n",
    "    if train_sizes is None:\n",
    "        train_sizes = [0.2,0.4,0.6,0.8,1]\n",
    "    if test_sizes is None:\n",
    "        test_sizes = [0.2,0.2,0.2,0.2,0.2]\n",
    "    \n",
    "    train_accs = []\n",
    "    test_accs = []\n",
    "\n",
    "    if type(estimator) == SupervisedDBNClassification:\n",
    "        for i in range(len(train_sizes)):\n",
    "            if train_sizes[i] == 1:\n",
    "                x_new, y_new = x, y\n",
    "            else:\n",
    "                x_new, _, y_new, _ = train_test_split(x, y, test_size=1-train_sizes[i], random_state=42)\n",
    "\n",
    "            x_train, x_test, y_train, y_test = train_test_split(x_new, y_new, test_size=test_sizes[i], random_state=42)\n",
    "            x_train = cp.array(x_train)\n",
    "            x_test = cp.array(x_test)\n",
    "            y_train = cp.array(y_train) \n",
    "            y_test = cp.array(y_test)\n",
    "\n",
    "            estimator.fit(x_train, y_train)\n",
    "\n",
    "            y_pred_train = np.array(estimator.predict(x_train))\n",
    "            y_pred_test = np.array(estimator.predict(x_test))\n",
    "            y_train = np.array(y_train.get()) #converts cp array to np array to be compatible with accuracy_score\n",
    "            y_test = np.array(y_test.get())\n",
    "\n",
    "            train_accs.append(accuracy_score(y_train, y_pred_train))\n",
    "            test_accs.append(accuracy_score(y_test, y_pred_test))\n",
    "        return (train_sizes, train_accs, test_accs)"
   ]
  },
  {
   "cell_type": "markdown",
   "metadata": {},
   "source": [
    "# Fitting the model on Rescaled Images"
   ]
  },
  {
   "cell_type": "code",
   "execution_count": 23,
   "metadata": {},
   "outputs": [],
   "source": [
    "x = pklLoad('../x128.pkl', convertToNumpyArray=True)\n",
    "y = pklLoad('../y.pkl', convertToNumpyArray=True)\n",
    "x_train, x_test, y_train, y_test = train_test_split(x, y, test_size=0.2, random_state=42)\n",
    "x_train = cp.array(x_train)\n",
    "x_test = cp.array(x_test)\n",
    "y_train = cp.array(y_train)\n",
    "y_test = cp.array(y_test)"
   ]
  },
  {
   "cell_type": "code",
   "execution_count": 24,
   "metadata": {},
   "outputs": [
    {
     "data": {
      "text/plain": [
       "(1865, 467, 1865, 467)"
      ]
     },
     "execution_count": 24,
     "metadata": {},
     "output_type": "execute_result"
    }
   ],
   "source": [
    "len(x_train), len(x_test), len(y_train), len(y_test)"
   ]
  },
  {
   "cell_type": "code",
   "execution_count": 25,
   "metadata": {},
   "outputs": [
    {
     "data": {
      "text/plain": [
       "(1865, 16384)"
      ]
     },
     "execution_count": 25,
     "metadata": {},
     "output_type": "execute_result"
    }
   ],
   "source": [
    "x_train.shape"
   ]
  },
  {
   "cell_type": "code",
   "execution_count": 101,
   "metadata": {},
   "outputs": [],
   "source": [
    "classifier = SupervisedDBNClassification(hidden_layers_structure=[128, 128],\n",
    "                                         learning_rate_rbm=0.1, #0.05 with 100 epochs == 0.1 with 50 epochs\n",
    "                                         learning_rate=0.1,\n",
    "                                         n_epochs_rbm=50,\n",
    "                                         n_iter_backprop=10, # loss was found to be stagnating after this value\n",
    "                                         batch_size=32,\n",
    "                                         activation_function='sigmoid',\n",
    "                                         dropout_p=0.1) # low drop-out value, as model is underfitting"
   ]
  },
  {
   "cell_type": "code",
   "execution_count": 34,
   "metadata": {},
   "outputs": [
    {
     "name": "stdout",
     "output_type": "stream",
     "text": [
      "[START] Pre-training step:\n",
      ">> Epoch 1 finished \tRBM Reconstruction error 1022.598978\n",
      ">> Epoch 2 finished \tRBM Reconstruction error 979.957077\n",
      ">> Epoch 3 finished \tRBM Reconstruction error 923.329255\n",
      ">> Epoch 4 finished \tRBM Reconstruction error 896.948039\n",
      ">> Epoch 5 finished \tRBM Reconstruction error 870.936445\n",
      ">> Epoch 6 finished \tRBM Reconstruction error 859.639396\n",
      ">> Epoch 7 finished \tRBM Reconstruction error 841.492790\n",
      ">> Epoch 8 finished \tRBM Reconstruction error 836.304946\n",
      ">> Epoch 9 finished \tRBM Reconstruction error 828.798921\n",
      ">> Epoch 10 finished \tRBM Reconstruction error 820.018319\n",
      ">> Epoch 11 finished \tRBM Reconstruction error 815.087342\n",
      ">> Epoch 12 finished \tRBM Reconstruction error 808.531551\n",
      ">> Epoch 13 finished \tRBM Reconstruction error 805.963824\n",
      ">> Epoch 14 finished \tRBM Reconstruction error 800.518216\n",
      ">> Epoch 15 finished \tRBM Reconstruction error 795.104386\n",
      ">> Epoch 16 finished \tRBM Reconstruction error 789.508972\n",
      ">> Epoch 17 finished \tRBM Reconstruction error 787.110101\n",
      ">> Epoch 18 finished \tRBM Reconstruction error 786.306478\n",
      ">> Epoch 19 finished \tRBM Reconstruction error 780.033118\n",
      ">> Epoch 20 finished \tRBM Reconstruction error 781.984083\n",
      ">> Epoch 21 finished \tRBM Reconstruction error 779.543548\n",
      ">> Epoch 22 finished \tRBM Reconstruction error 778.330968\n",
      ">> Epoch 23 finished \tRBM Reconstruction error 775.861791\n",
      ">> Epoch 24 finished \tRBM Reconstruction error 775.725594\n",
      ">> Epoch 25 finished \tRBM Reconstruction error 774.604703\n",
      ">> Epoch 26 finished \tRBM Reconstruction error 776.152621\n",
      ">> Epoch 27 finished \tRBM Reconstruction error 770.906623\n",
      ">> Epoch 28 finished \tRBM Reconstruction error 772.064988\n",
      ">> Epoch 29 finished \tRBM Reconstruction error 774.251904\n",
      ">> Epoch 30 finished \tRBM Reconstruction error 773.679782\n",
      ">> Epoch 31 finished \tRBM Reconstruction error 767.793747\n",
      ">> Epoch 32 finished \tRBM Reconstruction error 771.446457\n",
      ">> Epoch 33 finished \tRBM Reconstruction error 775.008720\n",
      ">> Epoch 34 finished \tRBM Reconstruction error 769.667463\n",
      ">> Epoch 35 finished \tRBM Reconstruction error 771.845809\n",
      ">> Epoch 36 finished \tRBM Reconstruction error 770.119776\n",
      ">> Epoch 37 finished \tRBM Reconstruction error 764.856279\n",
      ">> Epoch 38 finished \tRBM Reconstruction error 767.219776\n",
      ">> Epoch 39 finished \tRBM Reconstruction error 761.654906\n",
      ">> Epoch 40 finished \tRBM Reconstruction error 764.151683\n",
      ">> Epoch 41 finished \tRBM Reconstruction error 763.200313\n",
      ">> Epoch 42 finished \tRBM Reconstruction error 760.428928\n",
      ">> Epoch 43 finished \tRBM Reconstruction error 763.844617\n",
      ">> Epoch 44 finished \tRBM Reconstruction error 761.604191\n",
      ">> Epoch 45 finished \tRBM Reconstruction error 764.210239\n",
      ">> Epoch 46 finished \tRBM Reconstruction error 760.825512\n",
      ">> Epoch 47 finished \tRBM Reconstruction error 758.287133\n",
      ">> Epoch 48 finished \tRBM Reconstruction error 763.221101\n",
      ">> Epoch 49 finished \tRBM Reconstruction error 763.322609\n",
      ">> Epoch 50 finished \tRBM Reconstruction error 765.697877\n",
      ">> Epoch 1 finished \tRBM Reconstruction error 4.460211\n",
      ">> Epoch 2 finished \tRBM Reconstruction error 3.298863\n",
      ">> Epoch 3 finished \tRBM Reconstruction error 2.631481\n",
      ">> Epoch 4 finished \tRBM Reconstruction error 2.323254\n",
      ">> Epoch 5 finished \tRBM Reconstruction error 1.963552\n",
      ">> Epoch 6 finished \tRBM Reconstruction error 1.772161\n",
      ">> Epoch 7 finished \tRBM Reconstruction error 1.582661\n",
      ">> Epoch 8 finished \tRBM Reconstruction error 1.430711\n",
      ">> Epoch 9 finished \tRBM Reconstruction error 1.324019\n",
      ">> Epoch 10 finished \tRBM Reconstruction error 1.176365\n",
      ">> Epoch 11 finished \tRBM Reconstruction error 1.073865\n",
      ">> Epoch 12 finished \tRBM Reconstruction error 0.981864\n",
      ">> Epoch 13 finished \tRBM Reconstruction error 0.908626\n",
      ">> Epoch 14 finished \tRBM Reconstruction error 0.840892\n",
      ">> Epoch 15 finished \tRBM Reconstruction error 0.766269\n",
      ">> Epoch 16 finished \tRBM Reconstruction error 0.727238\n",
      ">> Epoch 17 finished \tRBM Reconstruction error 0.691372\n",
      ">> Epoch 18 finished \tRBM Reconstruction error 0.637019\n",
      ">> Epoch 19 finished \tRBM Reconstruction error 0.600380\n",
      ">> Epoch 20 finished \tRBM Reconstruction error 0.572192\n",
      ">> Epoch 21 finished \tRBM Reconstruction error 0.532260\n",
      ">> Epoch 22 finished \tRBM Reconstruction error 0.496127\n",
      ">> Epoch 23 finished \tRBM Reconstruction error 0.475373\n",
      ">> Epoch 24 finished \tRBM Reconstruction error 0.461846\n",
      ">> Epoch 25 finished \tRBM Reconstruction error 0.459020\n",
      ">> Epoch 26 finished \tRBM Reconstruction error 0.408416\n",
      ">> Epoch 27 finished \tRBM Reconstruction error 0.408294\n",
      ">> Epoch 28 finished \tRBM Reconstruction error 0.381883\n",
      ">> Epoch 29 finished \tRBM Reconstruction error 0.367199\n",
      ">> Epoch 30 finished \tRBM Reconstruction error 0.353037\n",
      ">> Epoch 31 finished \tRBM Reconstruction error 0.347162\n",
      ">> Epoch 32 finished \tRBM Reconstruction error 0.341515\n",
      ">> Epoch 33 finished \tRBM Reconstruction error 0.305015\n",
      ">> Epoch 34 finished \tRBM Reconstruction error 0.299824\n",
      ">> Epoch 35 finished \tRBM Reconstruction error 0.297561\n",
      ">> Epoch 36 finished \tRBM Reconstruction error 0.285727\n",
      ">> Epoch 37 finished \tRBM Reconstruction error 0.273852\n",
      ">> Epoch 38 finished \tRBM Reconstruction error 0.272041\n",
      ">> Epoch 39 finished \tRBM Reconstruction error 0.257907\n",
      ">> Epoch 40 finished \tRBM Reconstruction error 0.250530\n",
      ">> Epoch 41 finished \tRBM Reconstruction error 0.233826\n",
      ">> Epoch 42 finished \tRBM Reconstruction error 0.232450\n",
      ">> Epoch 43 finished \tRBM Reconstruction error 0.224127\n",
      ">> Epoch 44 finished \tRBM Reconstruction error 0.228292\n",
      ">> Epoch 45 finished \tRBM Reconstruction error 0.214019\n",
      ">> Epoch 46 finished \tRBM Reconstruction error 0.203488\n",
      ">> Epoch 47 finished \tRBM Reconstruction error 0.194153\n",
      ">> Epoch 48 finished \tRBM Reconstruction error 0.193278\n",
      ">> Epoch 49 finished \tRBM Reconstruction error 0.189212\n",
      ">> Epoch 50 finished \tRBM Reconstruction error 0.182978\n",
      "[END] Pre-training step\n",
      "[START] Fine tuning step:\n",
      ">> Epoch 1 finished \tANN training loss 10.015443\n",
      ">> Epoch 2 finished \tANN training loss 9.363681\n",
      ">> Epoch 3 finished \tANN training loss 9.206125\n",
      ">> Epoch 4 finished \tANN training loss 9.080578\n",
      ">> Epoch 5 finished \tANN training loss 9.035800\n",
      ">> Epoch 6 finished \tANN training loss 9.064032\n",
      ">> Epoch 7 finished \tANN training loss 8.933650\n",
      ">> Epoch 8 finished \tANN training loss 8.891698\n",
      ">> Epoch 9 finished \tANN training loss 8.890995\n",
      ">> Epoch 10 finished \tANN training loss 8.856925\n",
      "[END] Fine tuning step\n"
     ]
    },
    {
     "data": {
      "text/html": [
       "<style>#sk-container-id-5 {color: black;background-color: white;}#sk-container-id-5 pre{padding: 0;}#sk-container-id-5 div.sk-toggleable {background-color: white;}#sk-container-id-5 label.sk-toggleable__label {cursor: pointer;display: block;width: 100%;margin-bottom: 0;padding: 0.3em;box-sizing: border-box;text-align: center;}#sk-container-id-5 label.sk-toggleable__label-arrow:before {content: \"▸\";float: left;margin-right: 0.25em;color: #696969;}#sk-container-id-5 label.sk-toggleable__label-arrow:hover:before {color: black;}#sk-container-id-5 div.sk-estimator:hover label.sk-toggleable__label-arrow:before {color: black;}#sk-container-id-5 div.sk-toggleable__content {max-height: 0;max-width: 0;overflow: hidden;text-align: left;background-color: #f0f8ff;}#sk-container-id-5 div.sk-toggleable__content pre {margin: 0.2em;color: black;border-radius: 0.25em;background-color: #f0f8ff;}#sk-container-id-5 input.sk-toggleable__control:checked~div.sk-toggleable__content {max-height: 200px;max-width: 100%;overflow: auto;}#sk-container-id-5 input.sk-toggleable__control:checked~label.sk-toggleable__label-arrow:before {content: \"▾\";}#sk-container-id-5 div.sk-estimator input.sk-toggleable__control:checked~label.sk-toggleable__label {background-color: #d4ebff;}#sk-container-id-5 div.sk-label input.sk-toggleable__control:checked~label.sk-toggleable__label {background-color: #d4ebff;}#sk-container-id-5 input.sk-hidden--visually {border: 0;clip: rect(1px 1px 1px 1px);clip: rect(1px, 1px, 1px, 1px);height: 1px;margin: -1px;overflow: hidden;padding: 0;position: absolute;width: 1px;}#sk-container-id-5 div.sk-estimator {font-family: monospace;background-color: #f0f8ff;border: 1px dotted black;border-radius: 0.25em;box-sizing: border-box;margin-bottom: 0.5em;}#sk-container-id-5 div.sk-estimator:hover {background-color: #d4ebff;}#sk-container-id-5 div.sk-parallel-item::after {content: \"\";width: 100%;border-bottom: 1px solid gray;flex-grow: 1;}#sk-container-id-5 div.sk-label:hover label.sk-toggleable__label {background-color: #d4ebff;}#sk-container-id-5 div.sk-serial::before {content: \"\";position: absolute;border-left: 1px solid gray;box-sizing: border-box;top: 0;bottom: 0;left: 50%;z-index: 0;}#sk-container-id-5 div.sk-serial {display: flex;flex-direction: column;align-items: center;background-color: white;padding-right: 0.2em;padding-left: 0.2em;position: relative;}#sk-container-id-5 div.sk-item {position: relative;z-index: 1;}#sk-container-id-5 div.sk-parallel {display: flex;align-items: stretch;justify-content: center;background-color: white;position: relative;}#sk-container-id-5 div.sk-item::before, #sk-container-id-5 div.sk-parallel-item::before {content: \"\";position: absolute;border-left: 1px solid gray;box-sizing: border-box;top: 0;bottom: 0;left: 50%;z-index: -1;}#sk-container-id-5 div.sk-parallel-item {display: flex;flex-direction: column;z-index: 1;position: relative;background-color: white;}#sk-container-id-5 div.sk-parallel-item:first-child::after {align-self: flex-end;width: 50%;}#sk-container-id-5 div.sk-parallel-item:last-child::after {align-self: flex-start;width: 50%;}#sk-container-id-5 div.sk-parallel-item:only-child::after {width: 0;}#sk-container-id-5 div.sk-dashed-wrapped {border: 1px dashed gray;margin: 0 0.4em 0.5em 0.4em;box-sizing: border-box;padding-bottom: 0.4em;background-color: white;}#sk-container-id-5 div.sk-label label {font-family: monospace;font-weight: bold;display: inline-block;line-height: 1.2em;}#sk-container-id-5 div.sk-label-container {text-align: center;}#sk-container-id-5 div.sk-container {/* jupyter's `normalize.less` sets `[hidden] { display: none; }` but bootstrap.min.css set `[hidden] { display: none !important; }` so we also need the `!important` here to be able to override the default hidden behavior on the sphinx rendered scikit-learn.org. See: https://github.com/scikit-learn/scikit-learn/issues/21755 */display: inline-block !important;position: relative;}#sk-container-id-5 div.sk-text-repr-fallback {display: none;}</style><div id=\"sk-container-id-5\" class=\"sk-top-container\"><div class=\"sk-text-repr-fallback\"><pre>SupervisedDBNClassification()</pre><b>In a Jupyter environment, please rerun this cell to show the HTML representation or trust the notebook. <br />On GitHub, the HTML representation is unable to render, please try loading this page with nbviewer.org.</b></div><div class=\"sk-container\" hidden><div class=\"sk-item\"><div class=\"sk-estimator sk-toggleable\"><input class=\"sk-toggleable__control sk-hidden--visually\" id=\"sk-estimator-id-5\" type=\"checkbox\" checked><label for=\"sk-estimator-id-5\" class=\"sk-toggleable__label sk-toggleable__label-arrow\">SupervisedDBNClassification</label><div class=\"sk-toggleable__content\"><pre>SupervisedDBNClassification()</pre></div></div></div></div></div>"
      ],
      "text/plain": [
       "SupervisedDBNClassification()"
      ]
     },
     "execution_count": 34,
     "metadata": {},
     "output_type": "execute_result"
    }
   ],
   "source": [
    "classifier.fit(x_train, y_train)"
   ]
  },
  {
   "cell_type": "markdown",
   "metadata": {},
   "source": [
    "Output of the fitting: <br>\n",
    "<img src='notebook_media/' width=400 />"
   ]
  },
  {
   "cell_type": "code",
   "execution_count": 83,
   "metadata": {},
   "outputs": [],
   "source": [
    "classifier.save('dbnModel1.pkl')"
   ]
  },
  {
   "cell_type": "code",
   "execution_count": 84,
   "metadata": {},
   "outputs": [],
   "source": [
    "classifier = SupervisedDBNClassification.load('dbnModel1.pkl')"
   ]
  },
  {
   "cell_type": "code",
   "execution_count": 35,
   "metadata": {},
   "outputs": [
    {
     "name": "stdout",
     "output_type": "stream",
     "text": [
      "Training Accuracy: 0.4584450402144772\n",
      "Testing Accuracy: 0.4068522483940043\n"
     ]
    }
   ],
   "source": [
    "y_pred = classifier.predict(x_train) # predict returns a list\n",
    "y_pred = np.array(y_pred) # converting to nparray to be compatible with accuracy_score\n",
    "y_train_np = np.array(y_train.get())\n",
    "y_test_np = np.array(y_test.get())\n",
    "print(f'Training Accuracy: {accuracy_score(y_train_np, y_pred)}')\n",
    "y_pred = classifier.predict(x_test)\n",
    "y_pred = np.array(y_pred)\n",
    "print(f'Testing Accuracy: {accuracy_score(y_test_np, y_pred)}')"
   ]
  },
  {
   "cell_type": "markdown",
   "metadata": {},
   "source": [
    "# Fitting the model on Features Extracted From the Images"
   ]
  },
  {
   "cell_type": "code",
   "execution_count": 72,
   "metadata": {},
   "outputs": [],
   "source": [
    "xf = pklLoad('../x128f.pkl', convertToNumpyArray=True)\n",
    "y = pklLoad('../y.pkl', convertToNumpyArray=True)\n",
    "x_train, x_test, y_train, y_test = train_test_split(xf, y, test_size=0.2, random_state=42)\n",
    "x_train = cp.array(x_train)\n",
    "x_test = cp.array(x_test)\n",
    "y_train = cp.array(y_train)\n",
    "y_test = cp.array(y_test)"
   ]
  },
  {
   "cell_type": "code",
   "execution_count": 61,
   "metadata": {},
   "outputs": [],
   "source": [
    "classifier = SupervisedDBNClassification(hidden_layers_structure=[128, 128],\n",
    "                                         learning_rate_rbm=0.05,\n",
    "                                         learning_rate=0.1,\n",
    "                                         n_epochs_rbm=1,\n",
    "                                         n_iter_backprop=1,\n",
    "                                         batch_size=32,\n",
    "                                         activation_function='sigmoid',\n",
    "                                         dropout_p=0.2)"
   ]
  },
  {
   "cell_type": "code",
   "execution_count": 62,
   "metadata": {},
   "outputs": [
    {
     "name": "stdout",
     "output_type": "stream",
     "text": [
      "[START] Pre-training step:\n",
      ">> Epoch 1 finished \tRBM Reconstruction error 17.862259\n",
      ">> Epoch 1 finished \tRBM Reconstruction error 0.039180\n",
      "[END] Pre-training step\n",
      "[START] Fine tuning step:\n",
      ">> Epoch 1 finished \tANN training loss 10.851956\n",
      "[END] Fine tuning step\n"
     ]
    },
    {
     "data": {
      "text/html": [
       "<style>#sk-container-id-10 {color: black;background-color: white;}#sk-container-id-10 pre{padding: 0;}#sk-container-id-10 div.sk-toggleable {background-color: white;}#sk-container-id-10 label.sk-toggleable__label {cursor: pointer;display: block;width: 100%;margin-bottom: 0;padding: 0.3em;box-sizing: border-box;text-align: center;}#sk-container-id-10 label.sk-toggleable__label-arrow:before {content: \"▸\";float: left;margin-right: 0.25em;color: #696969;}#sk-container-id-10 label.sk-toggleable__label-arrow:hover:before {color: black;}#sk-container-id-10 div.sk-estimator:hover label.sk-toggleable__label-arrow:before {color: black;}#sk-container-id-10 div.sk-toggleable__content {max-height: 0;max-width: 0;overflow: hidden;text-align: left;background-color: #f0f8ff;}#sk-container-id-10 div.sk-toggleable__content pre {margin: 0.2em;color: black;border-radius: 0.25em;background-color: #f0f8ff;}#sk-container-id-10 input.sk-toggleable__control:checked~div.sk-toggleable__content {max-height: 200px;max-width: 100%;overflow: auto;}#sk-container-id-10 input.sk-toggleable__control:checked~label.sk-toggleable__label-arrow:before {content: \"▾\";}#sk-container-id-10 div.sk-estimator input.sk-toggleable__control:checked~label.sk-toggleable__label {background-color: #d4ebff;}#sk-container-id-10 div.sk-label input.sk-toggleable__control:checked~label.sk-toggleable__label {background-color: #d4ebff;}#sk-container-id-10 input.sk-hidden--visually {border: 0;clip: rect(1px 1px 1px 1px);clip: rect(1px, 1px, 1px, 1px);height: 1px;margin: -1px;overflow: hidden;padding: 0;position: absolute;width: 1px;}#sk-container-id-10 div.sk-estimator {font-family: monospace;background-color: #f0f8ff;border: 1px dotted black;border-radius: 0.25em;box-sizing: border-box;margin-bottom: 0.5em;}#sk-container-id-10 div.sk-estimator:hover {background-color: #d4ebff;}#sk-container-id-10 div.sk-parallel-item::after {content: \"\";width: 100%;border-bottom: 1px solid gray;flex-grow: 1;}#sk-container-id-10 div.sk-label:hover label.sk-toggleable__label {background-color: #d4ebff;}#sk-container-id-10 div.sk-serial::before {content: \"\";position: absolute;border-left: 1px solid gray;box-sizing: border-box;top: 0;bottom: 0;left: 50%;z-index: 0;}#sk-container-id-10 div.sk-serial {display: flex;flex-direction: column;align-items: center;background-color: white;padding-right: 0.2em;padding-left: 0.2em;position: relative;}#sk-container-id-10 div.sk-item {position: relative;z-index: 1;}#sk-container-id-10 div.sk-parallel {display: flex;align-items: stretch;justify-content: center;background-color: white;position: relative;}#sk-container-id-10 div.sk-item::before, #sk-container-id-10 div.sk-parallel-item::before {content: \"\";position: absolute;border-left: 1px solid gray;box-sizing: border-box;top: 0;bottom: 0;left: 50%;z-index: -1;}#sk-container-id-10 div.sk-parallel-item {display: flex;flex-direction: column;z-index: 1;position: relative;background-color: white;}#sk-container-id-10 div.sk-parallel-item:first-child::after {align-self: flex-end;width: 50%;}#sk-container-id-10 div.sk-parallel-item:last-child::after {align-self: flex-start;width: 50%;}#sk-container-id-10 div.sk-parallel-item:only-child::after {width: 0;}#sk-container-id-10 div.sk-dashed-wrapped {border: 1px dashed gray;margin: 0 0.4em 0.5em 0.4em;box-sizing: border-box;padding-bottom: 0.4em;background-color: white;}#sk-container-id-10 div.sk-label label {font-family: monospace;font-weight: bold;display: inline-block;line-height: 1.2em;}#sk-container-id-10 div.sk-label-container {text-align: center;}#sk-container-id-10 div.sk-container {/* jupyter's `normalize.less` sets `[hidden] { display: none; }` but bootstrap.min.css set `[hidden] { display: none !important; }` so we also need the `!important` here to be able to override the default hidden behavior on the sphinx rendered scikit-learn.org. See: https://github.com/scikit-learn/scikit-learn/issues/21755 */display: inline-block !important;position: relative;}#sk-container-id-10 div.sk-text-repr-fallback {display: none;}</style><div id=\"sk-container-id-10\" class=\"sk-top-container\"><div class=\"sk-text-repr-fallback\"><pre>SupervisedDBNClassification()</pre><b>In a Jupyter environment, please rerun this cell to show the HTML representation or trust the notebook. <br />On GitHub, the HTML representation is unable to render, please try loading this page with nbviewer.org.</b></div><div class=\"sk-container\" hidden><div class=\"sk-item\"><div class=\"sk-estimator sk-toggleable\"><input class=\"sk-toggleable__control sk-hidden--visually\" id=\"sk-estimator-id-10\" type=\"checkbox\" checked><label for=\"sk-estimator-id-10\" class=\"sk-toggleable__label sk-toggleable__label-arrow\">SupervisedDBNClassification</label><div class=\"sk-toggleable__content\"><pre>SupervisedDBNClassification()</pre></div></div></div></div></div>"
      ],
      "text/plain": [
       "SupervisedDBNClassification()"
      ]
     },
     "execution_count": 62,
     "metadata": {},
     "output_type": "execute_result"
    }
   ],
   "source": [
    "classifier.fit(x_train, y_train)"
   ]
  },
  {
   "cell_type": "markdown",
   "metadata": {},
   "source": [
    "Output of the fitting: <br>\n",
    "<img src='notebook_media/' width=400 />"
   ]
  },
  {
   "cell_type": "code",
   "execution_count": null,
   "metadata": {},
   "outputs": [],
   "source": [
    "classifier.save('dbnModel128f.pkl')"
   ]
  },
  {
   "cell_type": "code",
   "execution_count": null,
   "metadata": {},
   "outputs": [],
   "source": [
    "classifier = SupervisedDBNClassification.load('dbnModel128f.pkl')"
   ]
  },
  {
   "cell_type": "code",
   "execution_count": 66,
   "metadata": {},
   "outputs": [
    {
     "name": "stdout",
     "output_type": "stream",
     "text": [
      "Training Accuracy: 0.17158176943699732\n",
      "Testing Accuracy: 0.15417558886509636\n"
     ]
    }
   ],
   "source": [
    "y_pred = classifier.predict(x_train) # predict returns a list\n",
    "y_pred = np.array(y_pred) # converting to nparray to be compatible with accuracy_score\n",
    "y_train_np = np.array(y_train.get())\n",
    "y_test_np = np.array(y_test.get())\n",
    "print(f'Training Accuracy: {accuracy_score(y_train_np, y_pred)}')\n",
    "y_pred = classifier.predict(x_test)\n",
    "y_pred = np.array(y_pred)\n",
    "print(f'Testing Accuracy: {accuracy_score(y_test_np, y_pred)}')"
   ]
  },
  {
   "cell_type": "code",
   "execution_count": 64,
   "metadata": {},
   "outputs": [],
   "source": [
    "classifier = SupervisedDBNClassification(hidden_layers_structure=[128, 128],\n",
    "                                         learning_rate_rbm=0.05,\n",
    "                                         learning_rate=0.1,\n",
    "                                         n_epochs_rbm=1,\n",
    "                                         n_iter_backprop=1,\n",
    "                                         batch_size=32,\n",
    "                                         activation_function='sigmoid',\n",
    "                                         dropout_p=0.2,\n",
    "                                         verbose=False)"
   ]
  },
  {
   "cell_type": "markdown",
   "metadata": {},
   "source": [
    "## on 64x64"
   ]
  },
  {
   "cell_type": "code",
   "execution_count": 4,
   "metadata": {},
   "outputs": [],
   "source": [
    "xf = pklLoad('../x64f.pkl', convertToNumpyArray=True)\n",
    "y = pklLoad('../y.pkl', convertToNumpyArray=True)\n",
    "x_train, x_test, y_train, y_test = train_test_split(xf, y, test_size=0.2, random_state=42)\n",
    "x_train = np.array(x_train)\n",
    "x_test = np.array(x_test)\n",
    "y_train = np.array(y_train)\n",
    "y_test = np.array(y_test)"
   ]
  },
  {
   "cell_type": "code",
   "execution_count": 5,
   "metadata": {},
   "outputs": [],
   "source": [
    "classifier = SupervisedDBNClassification(hidden_layers_structure=[128, 128],\n",
    "                                         learning_rate_rbm=0.05,\n",
    "                                         learning_rate=0.1,\n",
    "                                         n_epochs_rbm=5,\n",
    "                                         n_iter_backprop=10,\n",
    "                                         batch_size=32,\n",
    "                                         activation_function='sigmoid',\n",
    "                                         dropout_p=0.2)"
   ]
  },
  {
   "cell_type": "code",
   "execution_count": 6,
   "metadata": {},
   "outputs": [
    {
     "name": "stdout",
     "output_type": "stream",
     "text": [
      "[START] Pre-training step:\n",
      ">> Epoch 1 finished \tRBM Reconstruction error 19.264810\n",
      ">> Epoch 2 finished \tRBM Reconstruction error 19.104714\n",
      ">> Epoch 3 finished \tRBM Reconstruction error 19.072024\n",
      ">> Epoch 4 finished \tRBM Reconstruction error 19.067058\n",
      ">> Epoch 5 finished \tRBM Reconstruction error 19.065036\n",
      ">> Epoch 1 finished \tRBM Reconstruction error 0.039559\n",
      ">> Epoch 2 finished \tRBM Reconstruction error 0.046132\n",
      ">> Epoch 3 finished \tRBM Reconstruction error 0.051636\n",
      ">> Epoch 4 finished \tRBM Reconstruction error 0.050275\n",
      ">> Epoch 5 finished \tRBM Reconstruction error 0.048225\n",
      "[END] Pre-training step\n",
      "[START] Fine tuning step:\n",
      ">> Epoch 1 finished \tANN training loss 10.922973\n",
      ">> Epoch 2 finished \tANN training loss 10.809882\n",
      ">> Epoch 3 finished \tANN training loss 10.828573\n",
      ">> Epoch 4 finished \tANN training loss 10.808350\n",
      ">> Epoch 5 finished \tANN training loss 10.827409\n",
      ">> Epoch 6 finished \tANN training loss 10.792239\n",
      ">> Epoch 7 finished \tANN training loss 10.798962\n",
      ">> Epoch 8 finished \tANN training loss 10.794127\n",
      ">> Epoch 9 finished \tANN training loss 10.786495\n",
      ">> Epoch 10 finished \tANN training loss 10.795605\n",
      "[END] Fine tuning step\n"
     ]
    },
    {
     "data": {
      "text/html": [
       "<style>#sk-container-id-1 {color: black;background-color: white;}#sk-container-id-1 pre{padding: 0;}#sk-container-id-1 div.sk-toggleable {background-color: white;}#sk-container-id-1 label.sk-toggleable__label {cursor: pointer;display: block;width: 100%;margin-bottom: 0;padding: 0.3em;box-sizing: border-box;text-align: center;}#sk-container-id-1 label.sk-toggleable__label-arrow:before {content: \"▸\";float: left;margin-right: 0.25em;color: #696969;}#sk-container-id-1 label.sk-toggleable__label-arrow:hover:before {color: black;}#sk-container-id-1 div.sk-estimator:hover label.sk-toggleable__label-arrow:before {color: black;}#sk-container-id-1 div.sk-toggleable__content {max-height: 0;max-width: 0;overflow: hidden;text-align: left;background-color: #f0f8ff;}#sk-container-id-1 div.sk-toggleable__content pre {margin: 0.2em;color: black;border-radius: 0.25em;background-color: #f0f8ff;}#sk-container-id-1 input.sk-toggleable__control:checked~div.sk-toggleable__content {max-height: 200px;max-width: 100%;overflow: auto;}#sk-container-id-1 input.sk-toggleable__control:checked~label.sk-toggleable__label-arrow:before {content: \"▾\";}#sk-container-id-1 div.sk-estimator input.sk-toggleable__control:checked~label.sk-toggleable__label {background-color: #d4ebff;}#sk-container-id-1 div.sk-label input.sk-toggleable__control:checked~label.sk-toggleable__label {background-color: #d4ebff;}#sk-container-id-1 input.sk-hidden--visually {border: 0;clip: rect(1px 1px 1px 1px);clip: rect(1px, 1px, 1px, 1px);height: 1px;margin: -1px;overflow: hidden;padding: 0;position: absolute;width: 1px;}#sk-container-id-1 div.sk-estimator {font-family: monospace;background-color: #f0f8ff;border: 1px dotted black;border-radius: 0.25em;box-sizing: border-box;margin-bottom: 0.5em;}#sk-container-id-1 div.sk-estimator:hover {background-color: #d4ebff;}#sk-container-id-1 div.sk-parallel-item::after {content: \"\";width: 100%;border-bottom: 1px solid gray;flex-grow: 1;}#sk-container-id-1 div.sk-label:hover label.sk-toggleable__label {background-color: #d4ebff;}#sk-container-id-1 div.sk-serial::before {content: \"\";position: absolute;border-left: 1px solid gray;box-sizing: border-box;top: 0;bottom: 0;left: 50%;z-index: 0;}#sk-container-id-1 div.sk-serial {display: flex;flex-direction: column;align-items: center;background-color: white;padding-right: 0.2em;padding-left: 0.2em;position: relative;}#sk-container-id-1 div.sk-item {position: relative;z-index: 1;}#sk-container-id-1 div.sk-parallel {display: flex;align-items: stretch;justify-content: center;background-color: white;position: relative;}#sk-container-id-1 div.sk-item::before, #sk-container-id-1 div.sk-parallel-item::before {content: \"\";position: absolute;border-left: 1px solid gray;box-sizing: border-box;top: 0;bottom: 0;left: 50%;z-index: -1;}#sk-container-id-1 div.sk-parallel-item {display: flex;flex-direction: column;z-index: 1;position: relative;background-color: white;}#sk-container-id-1 div.sk-parallel-item:first-child::after {align-self: flex-end;width: 50%;}#sk-container-id-1 div.sk-parallel-item:last-child::after {align-self: flex-start;width: 50%;}#sk-container-id-1 div.sk-parallel-item:only-child::after {width: 0;}#sk-container-id-1 div.sk-dashed-wrapped {border: 1px dashed gray;margin: 0 0.4em 0.5em 0.4em;box-sizing: border-box;padding-bottom: 0.4em;background-color: white;}#sk-container-id-1 div.sk-label label {font-family: monospace;font-weight: bold;display: inline-block;line-height: 1.2em;}#sk-container-id-1 div.sk-label-container {text-align: center;}#sk-container-id-1 div.sk-container {/* jupyter's `normalize.less` sets `[hidden] { display: none; }` but bootstrap.min.css set `[hidden] { display: none !important; }` so we also need the `!important` here to be able to override the default hidden behavior on the sphinx rendered scikit-learn.org. See: https://github.com/scikit-learn/scikit-learn/issues/21755 */display: inline-block !important;position: relative;}#sk-container-id-1 div.sk-text-repr-fallback {display: none;}</style><div id=\"sk-container-id-1\" class=\"sk-top-container\"><div class=\"sk-text-repr-fallback\"><pre>SupervisedDBNClassification()</pre><b>In a Jupyter environment, please rerun this cell to show the HTML representation or trust the notebook. <br />On GitHub, the HTML representation is unable to render, please try loading this page with nbviewer.org.</b></div><div class=\"sk-container\" hidden><div class=\"sk-item\"><div class=\"sk-estimator sk-toggleable\"><input class=\"sk-toggleable__control sk-hidden--visually\" id=\"sk-estimator-id-1\" type=\"checkbox\" checked><label for=\"sk-estimator-id-1\" class=\"sk-toggleable__label sk-toggleable__label-arrow\">SupervisedDBNClassification</label><div class=\"sk-toggleable__content\"><pre>SupervisedDBNClassification()</pre></div></div></div></div></div>"
      ],
      "text/plain": [
       "SupervisedDBNClassification()"
      ]
     },
     "execution_count": 6,
     "metadata": {},
     "output_type": "execute_result"
    }
   ],
   "source": [
    "classifier.fit(x_train, y_train)"
   ]
  },
  {
   "cell_type": "markdown",
   "metadata": {},
   "source": [
    "Output of the fitting: <br>\n",
    "<img src='notebook_media/' width=400 />"
   ]
  },
  {
   "cell_type": "code",
   "execution_count": null,
   "metadata": {},
   "outputs": [],
   "source": [
    "classifier.save('dbnModel64f.pkl')"
   ]
  },
  {
   "cell_type": "code",
   "execution_count": null,
   "metadata": {},
   "outputs": [],
   "source": [
    "classifier = SupervisedDBNClassification.load('dbnModel64f.pkl')"
   ]
  },
  {
   "cell_type": "code",
   "execution_count": 7,
   "metadata": {},
   "outputs": [
    {
     "name": "stdout",
     "output_type": "stream",
     "text": [
      "Done.\n",
      "Training Accuracy: 0.16836461126005361\n",
      "Done.\n",
      "Testing Accuracy: 0.16488222698072805\n"
     ]
    }
   ],
   "source": [
    "y_pred = classifier.predict(x_train)\n",
    "print(f'Training Accuracy: {accuracy_score(y_train, y_pred)}')\n",
    "y_pred = classifier.predict(x_test)\n",
    "print(f'Testing Accuracy: {accuracy_score(y_test, y_pred)}')"
   ]
  },
  {
   "cell_type": "code",
   "execution_count": null,
   "metadata": {},
   "outputs": [],
   "source": []
  }
 ],
 "metadata": {
  "kernelspec": {
   "display_name": "Python 3.8.15 (conda)",
   "language": "python",
   "name": "python3"
  },
  "language_info": {
   "codemirror_mode": {
    "name": "ipython",
    "version": 3
   },
   "file_extension": ".py",
   "mimetype": "text/x-python",
   "name": "python",
   "nbconvert_exporter": "python",
   "pygments_lexer": "ipython3",
   "version": "3.8.15"
  },
  "orig_nbformat": 4,
  "vscode": {
   "interpreter": {
    "hash": "a820c38c0c6998d5531b30a72abed1c849220b8ccc9e18c2545958238bc5c1c7"
   }
  }
 },
 "nbformat": 4,
 "nbformat_minor": 2
}
