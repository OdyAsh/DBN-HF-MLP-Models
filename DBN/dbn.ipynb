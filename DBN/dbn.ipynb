{
 "cells": [
  {
   "cell_type": "code",
   "execution_count": 40,
   "metadata": {},
   "outputs": [],
   "source": [
    "# For Reproducable Code\n",
    "from numpy.random import seed\n",
    "seed(42)\n",
    "import tensorflow\n",
    "tensorflow.random.set_seed(42)\n",
    "\n",
    "# other standard imports. \"pip install -r requirements.txt\" to install dependencies and \"pip freeze > requirements.txt\" to update them\n",
    "from collections import Counter\n",
    "import pickle\n",
    "\n",
    "import PIL\n",
    "import scipy\n",
    "import matplotlib.pyplot as plt\n",
    "import numpy as np\n",
    "from keras.preprocessing.image import ImageDataGenerator\n",
    "from keras.utils import image_dataset_from_directory\n",
    "from sklearn.model_selection import train_test_split\n",
    "\n",
    "from sklearn.metrics import accuracy_score\n",
    "from dbn import SupervisedDBNClassification"
   ]
  },
  {
   "cell_type": "code",
   "execution_count": 73,
   "metadata": {},
   "outputs": [],
   "source": [
    "# Useful Functions\n",
    "def pklSave(contentToBeSaved, fullPath):\n",
    "    with open(fullPath, 'wb') as f:\n",
    "        pickle.dump(contentToBeSaved, f)\n",
    "\n",
    "def pklLoad(fullPath, convertToNumpyArray=False):\n",
    "    with open(fullPath, 'rb') as f:\n",
    "        content = pickle.load(f)\n",
    "    if convertToNumpyArray:\n",
    "        content = np.array(content)\n",
    "    return content\n",
    "\n",
    "def train_val_test_split(x, y, tr, va, te, **kwargs):\n",
    "    x_train, x_test_val, y_train, y_test_val = train_test_split(x, y, test_size=1-tr)\n",
    "    x_val, x_test, y_val, y_test = train_test_split(x_test_val, y_test_val, test_size=te/(te+va), **kwargs)\n",
    "    return (x_train, x_val, x_test, y_train, y_val, y_test)"
   ]
  },
  {
   "cell_type": "markdown",
   "metadata": {},
   "source": [
    "# Fitting the model on Rescaled Images"
   ]
  },
  {
   "cell_type": "code",
   "execution_count": 74,
   "metadata": {},
   "outputs": [],
   "source": [
    "x = pklLoad('../x.pkl', convertToNumpyArray=True)\n",
    "y = pklLoad('../y.pkl', convertToNumpyArray=True)\n",
    "x_train, x_test, y_train, y_test = train_test_split(x, y, test_size=0.2, random_state=42)\n",
    "x_train = np.array(x_train)\n",
    "x_test = np.array(x_test)\n",
    "y_train = np.array(y_train)\n",
    "y_test = np.array(y_test)"
   ]
  },
  {
   "cell_type": "code",
   "execution_count": 75,
   "metadata": {},
   "outputs": [
    {
     "data": {
      "text/plain": [
       "(1865, 467, 1865, 467)"
      ]
     },
     "execution_count": 75,
     "metadata": {},
     "output_type": "execute_result"
    }
   ],
   "source": [
    "len(x_train), len(x_test), len(y_train), len(y_test)"
   ]
  },
  {
   "cell_type": "code",
   "execution_count": 76,
   "metadata": {},
   "outputs": [
    {
     "data": {
      "text/plain": [
       "(1865, 4096)"
      ]
     },
     "execution_count": 76,
     "metadata": {},
     "output_type": "execute_result"
    }
   ],
   "source": [
    "x_train.shape"
   ]
  },
  {
   "cell_type": "code",
   "execution_count": 91,
   "metadata": {},
   "outputs": [],
   "source": [
    "classifier = SupervisedDBNClassification(hidden_layers_structure=[100, 100],\n",
    "                                         learning_rate_rbm=0.05,\n",
    "                                         learning_rate=0.1,\n",
    "                                         n_epochs_rbm=3,\n",
    "                                         n_iter_backprop=5,\n",
    "                                         batch_size=32,\n",
    "                                         activation_function='sigmoid',\n",
    "                                         dropout_p=0.2)"
   ]
  },
  {
   "cell_type": "code",
   "execution_count": 92,
   "metadata": {},
   "outputs": [
    {
     "name": "stdout",
     "output_type": "stream",
     "text": [
      "[START] Pre-training step:\n"
     ]
    },
    {
     "ename": "KeyboardInterrupt",
     "evalue": "",
     "output_type": "error",
     "traceback": [
      "\u001b[1;31m---------------------------------------------------------------------------\u001b[0m",
      "\u001b[1;31mKeyboardInterrupt\u001b[0m                         Traceback (most recent call last)",
      "Cell \u001b[1;32mIn [92], line 1\u001b[0m\n\u001b[1;32m----> 1\u001b[0m classifier\u001b[39m.\u001b[39;49mfit(x_train, y_train)\n",
      "File \u001b[1;32md:\\CS\\projects\\DBN-HF-MLP-Models\\DBN\\dbn\\models.py:336\u001b[0m, in \u001b[0;36mAbstractSupervisedDBN.fit\u001b[1;34m(self, X, y, pre_train)\u001b[0m\n\u001b[0;32m    328\u001b[0m \u001b[39m\"\"\"\u001b[39;00m\n\u001b[0;32m    329\u001b[0m \u001b[39mFits a model given data.\u001b[39;00m\n\u001b[0;32m    330\u001b[0m \u001b[39m:param X: array-like, shape = (n_samples, n_features)\u001b[39;00m\n\u001b[1;32m   (...)\u001b[0m\n\u001b[0;32m    333\u001b[0m \u001b[39m:return:\u001b[39;00m\n\u001b[0;32m    334\u001b[0m \u001b[39m\"\"\"\u001b[39;00m\n\u001b[0;32m    335\u001b[0m \u001b[39mif\u001b[39;00m pre_train:\n\u001b[1;32m--> 336\u001b[0m     \u001b[39mself\u001b[39;49m\u001b[39m.\u001b[39;49mpre_train(X)\n\u001b[0;32m    337\u001b[0m \u001b[39mself\u001b[39m\u001b[39m.\u001b[39m_fine_tuning(X, y)\n\u001b[0;32m    338\u001b[0m \u001b[39mreturn\u001b[39;00m \u001b[39mself\u001b[39m\n",
      "File \u001b[1;32md:\\CS\\projects\\DBN-HF-MLP-Models\\DBN\\dbn\\models.py:358\u001b[0m, in \u001b[0;36mAbstractSupervisedDBN.pre_train\u001b[1;34m(self, X)\u001b[0m\n\u001b[0;32m    352\u001b[0m \u001b[39mdef\u001b[39;00m \u001b[39mpre_train\u001b[39m(\u001b[39mself\u001b[39m, X):\n\u001b[0;32m    353\u001b[0m     \u001b[39m\"\"\"\u001b[39;00m\n\u001b[0;32m    354\u001b[0m \u001b[39m    Apply unsupervised network pre-training.\u001b[39;00m\n\u001b[0;32m    355\u001b[0m \u001b[39m    :param X: array-like, shape = (n_samples, n_features)\u001b[39;00m\n\u001b[0;32m    356\u001b[0m \u001b[39m    :return:\u001b[39;00m\n\u001b[0;32m    357\u001b[0m \u001b[39m    \"\"\"\u001b[39;00m\n\u001b[1;32m--> 358\u001b[0m     \u001b[39mself\u001b[39;49m\u001b[39m.\u001b[39;49munsupervised_dbn\u001b[39m.\u001b[39;49mfit(X)\n\u001b[0;32m    359\u001b[0m     \u001b[39mreturn\u001b[39;00m \u001b[39mself\u001b[39m\n",
      "File \u001b[1;32md:\\CS\\projects\\DBN-HF-MLP-Models\\DBN\\dbn\\models.py:272\u001b[0m, in \u001b[0;36mUnsupervisedDBN.fit\u001b[1;34m(self, X, y)\u001b[0m\n\u001b[0;32m    270\u001b[0m input_data \u001b[39m=\u001b[39m X\n\u001b[0;32m    271\u001b[0m \u001b[39mfor\u001b[39;00m rbm \u001b[39min\u001b[39;00m \u001b[39mself\u001b[39m\u001b[39m.\u001b[39mrbm_layers:\n\u001b[1;32m--> 272\u001b[0m     rbm\u001b[39m.\u001b[39;49mfit(input_data)\n\u001b[0;32m    273\u001b[0m     input_data \u001b[39m=\u001b[39m rbm\u001b[39m.\u001b[39mtransform(input_data)\n\u001b[0;32m    274\u001b[0m \u001b[39mif\u001b[39;00m \u001b[39mself\u001b[39m\u001b[39m.\u001b[39mverbose:\n",
      "File \u001b[1;32md:\\CS\\projects\\DBN-HF-MLP-Models\\DBN\\dbn\\models.py:72\u001b[0m, in \u001b[0;36mBinaryRBM.fit\u001b[1;34m(self, X)\u001b[0m\n\u001b[0;32m     69\u001b[0m     \u001b[39mraise\u001b[39;00m \u001b[39mValueError\u001b[39;00m(\u001b[39m\"\u001b[39m\u001b[39mInvalid activation function.\u001b[39m\u001b[39m\"\u001b[39m)\n\u001b[0;32m     71\u001b[0m \u001b[39mif\u001b[39;00m \u001b[39mself\u001b[39m\u001b[39m.\u001b[39moptimization_algorithm \u001b[39m==\u001b[39m \u001b[39m'\u001b[39m\u001b[39msgd\u001b[39m\u001b[39m'\u001b[39m:\n\u001b[1;32m---> 72\u001b[0m     \u001b[39mself\u001b[39;49m\u001b[39m.\u001b[39;49m_stochastic_gradient_descent(X)\n\u001b[0;32m     73\u001b[0m \u001b[39melse\u001b[39;00m:\n\u001b[0;32m     74\u001b[0m     \u001b[39mraise\u001b[39;00m \u001b[39mValueError\u001b[39;00m(\u001b[39m\"\u001b[39m\u001b[39mInvalid optimization algorithm.\u001b[39m\u001b[39m\"\u001b[39m)\n",
      "File \u001b[1;32md:\\CS\\projects\\DBN-HF-MLP-Models\\DBN\\dbn\\models.py:113\u001b[0m, in \u001b[0;36mBinaryRBM._stochastic_gradient_descent\u001b[1;34m(self, _data)\u001b[0m\n\u001b[0;32m    111\u001b[0m accum_delta_c[:] \u001b[39m=\u001b[39m \u001b[39m.0\u001b[39m\n\u001b[0;32m    112\u001b[0m \u001b[39mfor\u001b[39;00m sample \u001b[39min\u001b[39;00m batch:\n\u001b[1;32m--> 113\u001b[0m     delta_W, delta_b, delta_c \u001b[39m=\u001b[39m \u001b[39mself\u001b[39;49m\u001b[39m.\u001b[39;49m_contrastive_divergence(sample)\n\u001b[0;32m    114\u001b[0m     accum_delta_W \u001b[39m+\u001b[39m\u001b[39m=\u001b[39m delta_W\n\u001b[0;32m    115\u001b[0m     accum_delta_b \u001b[39m+\u001b[39m\u001b[39m=\u001b[39m delta_b\n",
      "File \u001b[1;32md:\\CS\\projects\\DBN-HF-MLP-Models\\DBN\\dbn\\models.py:143\u001b[0m, in \u001b[0;36mBinaryRBM._contrastive_divergence\u001b[1;34m(self, vector_visible_units)\u001b[0m\n\u001b[0;32m    141\u001b[0m h_k \u001b[39m=\u001b[39m \u001b[39mself\u001b[39m\u001b[39m.\u001b[39m_compute_hidden_units(v_k)\n\u001b[0;32m    142\u001b[0m delta_W \u001b[39m=\u001b[39m np\u001b[39m.\u001b[39mouter(h_0, v_0) \u001b[39m-\u001b[39m np\u001b[39m.\u001b[39mouter(h_k, v_k)\n\u001b[1;32m--> 143\u001b[0m delta_b \u001b[39m=\u001b[39m v_0 \u001b[39m-\u001b[39;49m v_k\n\u001b[0;32m    144\u001b[0m delta_c \u001b[39m=\u001b[39m h_0 \u001b[39m-\u001b[39m h_k\n\u001b[0;32m    146\u001b[0m \u001b[39mreturn\u001b[39;00m delta_W, delta_b, delta_c\n",
      "\u001b[1;31mKeyboardInterrupt\u001b[0m: "
     ]
    }
   ],
   "source": [
    "classifier.fit(x_train, y_train)"
   ]
  },
  {
   "cell_type": "markdown",
   "metadata": {},
   "source": [
    "Output of the fitting: <br>\n",
    "<img src='notebook_media/' width=400 />"
   ]
  },
  {
   "cell_type": "code",
   "execution_count": 83,
   "metadata": {},
   "outputs": [],
   "source": [
    "classifier.save('dbnModel1.pkl')"
   ]
  },
  {
   "cell_type": "code",
   "execution_count": 84,
   "metadata": {},
   "outputs": [],
   "source": [
    "classifier = SupervisedDBNClassification.load('dbnModel1.pkl')"
   ]
  },
  {
   "cell_type": "code",
   "execution_count": 87,
   "metadata": {},
   "outputs": [],
   "source": [
    "y_pred = classifier.predict(x_train)"
   ]
  },
  {
   "cell_type": "code",
   "execution_count": 88,
   "metadata": {},
   "outputs": [
    {
     "name": "stdout",
     "output_type": "stream",
     "text": [
      "Done.\n",
      "Training Accuracy: 0.45630026809651475\n"
     ]
    }
   ],
   "source": [
    "print(f'Done.\\nTraining Accuracy: {accuracy_score(y_train, y_pred)}')"
   ]
  },
  {
   "cell_type": "code",
   "execution_count": 89,
   "metadata": {},
   "outputs": [],
   "source": [
    "y_pred = classifier.predict(x_test)"
   ]
  },
  {
   "cell_type": "code",
   "execution_count": 90,
   "metadata": {},
   "outputs": [
    {
     "name": "stdout",
     "output_type": "stream",
     "text": [
      "Done.\n",
      "Testing Accuracy: 0.4004282655246253\n"
     ]
    }
   ],
   "source": [
    "print(f'Done.\\nTesting Accuracy: {accuracy_score(y_test, y_pred)}')"
   ]
  },
  {
   "cell_type": "markdown",
   "metadata": {},
   "source": [
    "# Fitting the model on Features Extracted From the Images"
   ]
  },
  {
   "cell_type": "code",
   "execution_count": 116,
   "metadata": {},
   "outputs": [],
   "source": [
    "xf = pklLoad('../xf.pkl', convertToNumpyArray=True)\n",
    "y = pklLoad('../y.pkl', convertToNumpyArray=True)\n",
    "x_train, x_test, y_train, y_test = train_test_split(xf, y, test_size=0.2, random_state=42)\n",
    "x_train = np.array(x_train)\n",
    "x_test = np.array(x_test)\n",
    "y_train = np.array(y_train)\n",
    "y_test = np.array(y_test)"
   ]
  },
  {
   "cell_type": "code",
   "execution_count": 125,
   "metadata": {},
   "outputs": [],
   "source": [
    "classifier = SupervisedDBNClassification(hidden_layers_structure=[128, 128],\n",
    "                                         learning_rate_rbm=0.05,\n",
    "                                         learning_rate=0.1,\n",
    "                                         n_epochs_rbm=50,\n",
    "                                         n_iter_backprop=100,\n",
    "                                         batch_size=32,\n",
    "                                         activation_function='sigmoid',\n",
    "                                         dropout_p=0.2)"
   ]
  },
  {
   "cell_type": "code",
   "execution_count": 126,
   "metadata": {},
   "outputs": [
    {
     "name": "stdout",
     "output_type": "stream",
     "text": [
      "[START] Pre-training step:\n",
      ">> Epoch 1 finished \tRBM Reconstruction error 18.130906\n",
      ">> Epoch 2 finished \tRBM Reconstruction error 17.816441\n",
      ">> Epoch 3 finished \tRBM Reconstruction error 17.748854\n",
      ">> Epoch 4 finished \tRBM Reconstruction error 17.735027\n",
      ">> Epoch 5 finished \tRBM Reconstruction error 17.739290\n",
      ">> Epoch 6 finished \tRBM Reconstruction error 17.733045\n",
      ">> Epoch 7 finished \tRBM Reconstruction error 17.737525\n",
      ">> Epoch 8 finished \tRBM Reconstruction error 17.738777\n",
      ">> Epoch 9 finished \tRBM Reconstruction error 17.732712\n",
      ">> Epoch 10 finished \tRBM Reconstruction error 17.730645\n",
      ">> Epoch 11 finished \tRBM Reconstruction error 17.734566\n",
      ">> Epoch 12 finished \tRBM Reconstruction error 17.731361\n",
      ">> Epoch 13 finished \tRBM Reconstruction error 17.734524\n",
      ">> Epoch 14 finished \tRBM Reconstruction error 17.732576\n",
      ">> Epoch 15 finished \tRBM Reconstruction error 17.733493\n",
      ">> Epoch 16 finished \tRBM Reconstruction error 17.733968\n",
      ">> Epoch 17 finished \tRBM Reconstruction error 17.734246\n",
      ">> Epoch 18 finished \tRBM Reconstruction error 17.737841\n",
      ">> Epoch 19 finished \tRBM Reconstruction error 17.733316\n",
      ">> Epoch 20 finished \tRBM Reconstruction error 17.734427\n",
      ">> Epoch 21 finished \tRBM Reconstruction error 17.736027\n",
      ">> Epoch 22 finished \tRBM Reconstruction error 17.734443\n",
      ">> Epoch 23 finished \tRBM Reconstruction error 17.739503\n",
      ">> Epoch 24 finished \tRBM Reconstruction error 17.734590\n",
      ">> Epoch 25 finished \tRBM Reconstruction error 17.738884\n",
      ">> Epoch 26 finished \tRBM Reconstruction error 17.740571\n",
      ">> Epoch 27 finished \tRBM Reconstruction error 17.736663\n",
      ">> Epoch 28 finished \tRBM Reconstruction error 17.740528\n",
      ">> Epoch 29 finished \tRBM Reconstruction error 17.734843\n",
      ">> Epoch 30 finished \tRBM Reconstruction error 17.737450\n",
      ">> Epoch 31 finished \tRBM Reconstruction error 17.736014\n",
      ">> Epoch 32 finished \tRBM Reconstruction error 17.734647\n",
      ">> Epoch 33 finished \tRBM Reconstruction error 17.736980\n",
      ">> Epoch 34 finished \tRBM Reconstruction error 17.736165\n",
      ">> Epoch 35 finished \tRBM Reconstruction error 17.740480\n",
      ">> Epoch 36 finished \tRBM Reconstruction error 17.736766\n",
      ">> Epoch 37 finished \tRBM Reconstruction error 17.740211\n",
      ">> Epoch 38 finished \tRBM Reconstruction error 17.735329\n",
      ">> Epoch 39 finished \tRBM Reconstruction error 17.739068\n",
      ">> Epoch 40 finished \tRBM Reconstruction error 17.736154\n",
      ">> Epoch 41 finished \tRBM Reconstruction error 17.736280\n",
      ">> Epoch 42 finished \tRBM Reconstruction error 17.738630\n",
      ">> Epoch 43 finished \tRBM Reconstruction error 17.737547\n",
      ">> Epoch 44 finished \tRBM Reconstruction error 17.737357\n",
      ">> Epoch 45 finished \tRBM Reconstruction error 17.738377\n",
      ">> Epoch 46 finished \tRBM Reconstruction error 17.736802\n",
      ">> Epoch 47 finished \tRBM Reconstruction error 17.738631\n",
      ">> Epoch 48 finished \tRBM Reconstruction error 17.738689\n",
      ">> Epoch 49 finished \tRBM Reconstruction error 17.736753\n",
      ">> Epoch 50 finished \tRBM Reconstruction error 17.738057\n",
      ">> Epoch 1 finished \tRBM Reconstruction error 0.017455\n",
      ">> Epoch 2 finished \tRBM Reconstruction error 0.025460\n",
      ">> Epoch 3 finished \tRBM Reconstruction error 0.023612\n",
      ">> Epoch 4 finished \tRBM Reconstruction error 0.022860\n",
      ">> Epoch 5 finished \tRBM Reconstruction error 0.022460\n",
      ">> Epoch 6 finished \tRBM Reconstruction error 0.022869\n",
      ">> Epoch 7 finished \tRBM Reconstruction error 0.023817\n",
      ">> Epoch 8 finished \tRBM Reconstruction error 0.022773\n",
      ">> Epoch 9 finished \tRBM Reconstruction error 0.022652\n",
      ">> Epoch 10 finished \tRBM Reconstruction error 0.022646\n",
      ">> Epoch 11 finished \tRBM Reconstruction error 0.023041\n",
      ">> Epoch 12 finished \tRBM Reconstruction error 0.023334\n",
      ">> Epoch 13 finished \tRBM Reconstruction error 0.020938\n",
      ">> Epoch 14 finished \tRBM Reconstruction error 0.021342\n",
      ">> Epoch 15 finished \tRBM Reconstruction error 0.022741\n",
      ">> Epoch 16 finished \tRBM Reconstruction error 0.022964\n",
      ">> Epoch 17 finished \tRBM Reconstruction error 0.022923\n",
      ">> Epoch 18 finished \tRBM Reconstruction error 0.023278\n",
      ">> Epoch 19 finished \tRBM Reconstruction error 0.022709\n",
      ">> Epoch 20 finished \tRBM Reconstruction error 0.024026\n",
      ">> Epoch 21 finished \tRBM Reconstruction error 0.021687\n",
      ">> Epoch 22 finished \tRBM Reconstruction error 0.023670\n",
      ">> Epoch 23 finished \tRBM Reconstruction error 0.022410\n",
      ">> Epoch 24 finished \tRBM Reconstruction error 0.021551\n",
      ">> Epoch 25 finished \tRBM Reconstruction error 0.019907\n",
      ">> Epoch 26 finished \tRBM Reconstruction error 0.024562\n",
      ">> Epoch 27 finished \tRBM Reconstruction error 0.023622\n",
      ">> Epoch 28 finished \tRBM Reconstruction error 0.022522\n",
      ">> Epoch 29 finished \tRBM Reconstruction error 0.023415\n",
      ">> Epoch 30 finished \tRBM Reconstruction error 0.024129\n",
      ">> Epoch 31 finished \tRBM Reconstruction error 0.020292\n",
      ">> Epoch 32 finished \tRBM Reconstruction error 0.022274\n",
      ">> Epoch 33 finished \tRBM Reconstruction error 0.020139\n",
      ">> Epoch 34 finished \tRBM Reconstruction error 0.021838\n",
      ">> Epoch 35 finished \tRBM Reconstruction error 0.021178\n",
      ">> Epoch 36 finished \tRBM Reconstruction error 0.021129\n",
      ">> Epoch 37 finished \tRBM Reconstruction error 0.023018\n",
      ">> Epoch 38 finished \tRBM Reconstruction error 0.021494\n",
      ">> Epoch 39 finished \tRBM Reconstruction error 0.023173\n",
      ">> Epoch 40 finished \tRBM Reconstruction error 0.023127\n",
      ">> Epoch 41 finished \tRBM Reconstruction error 0.022065\n",
      ">> Epoch 42 finished \tRBM Reconstruction error 0.020682\n",
      ">> Epoch 43 finished \tRBM Reconstruction error 0.022710\n",
      ">> Epoch 44 finished \tRBM Reconstruction error 0.020775\n",
      ">> Epoch 45 finished \tRBM Reconstruction error 0.021001\n",
      ">> Epoch 46 finished \tRBM Reconstruction error 0.020560\n",
      ">> Epoch 47 finished \tRBM Reconstruction error 0.020821\n",
      ">> Epoch 48 finished \tRBM Reconstruction error 0.021522\n",
      ">> Epoch 49 finished \tRBM Reconstruction error 0.021024\n",
      ">> Epoch 50 finished \tRBM Reconstruction error 0.021477\n",
      "[END] Pre-training step\n",
      "[START] Fine tuning step:\n",
      ">> Epoch 1 finished \tANN training loss 10.912063\n",
      ">> Epoch 2 finished \tANN training loss 10.896031\n",
      ">> Epoch 3 finished \tANN training loss 10.867330\n",
      ">> Epoch 4 finished \tANN training loss 10.872438\n",
      ">> Epoch 5 finished \tANN training loss 10.809263\n",
      ">> Epoch 6 finished \tANN training loss 10.855950\n",
      ">> Epoch 7 finished \tANN training loss 10.847255\n",
      ">> Epoch 8 finished \tANN training loss 10.808092\n",
      ">> Epoch 9 finished \tANN training loss 10.781206\n",
      ">> Epoch 10 finished \tANN training loss 10.801318\n",
      ">> Epoch 11 finished \tANN training loss 10.805234\n",
      ">> Epoch 12 finished \tANN training loss 10.778623\n",
      ">> Epoch 13 finished \tANN training loss 10.758235\n",
      ">> Epoch 14 finished \tANN training loss 10.787190\n",
      ">> Epoch 15 finished \tANN training loss 10.783404\n",
      ">> Epoch 16 finished \tANN training loss 10.776472\n",
      ">> Epoch 17 finished \tANN training loss 10.779706\n",
      ">> Epoch 18 finished \tANN training loss 10.777958\n",
      ">> Epoch 19 finished \tANN training loss 10.771092\n",
      ">> Epoch 20 finished \tANN training loss 10.782314\n",
      ">> Epoch 21 finished \tANN training loss 10.776302\n",
      ">> Epoch 22 finished \tANN training loss 10.769705\n",
      ">> Epoch 23 finished \tANN training loss 10.777012\n",
      ">> Epoch 24 finished \tANN training loss 10.747540\n",
      ">> Epoch 25 finished \tANN training loss 10.767329\n",
      ">> Epoch 26 finished \tANN training loss 10.769543\n",
      ">> Epoch 27 finished \tANN training loss 10.758735\n",
      ">> Epoch 28 finished \tANN training loss 10.761084\n",
      ">> Epoch 29 finished \tANN training loss 10.768718\n",
      ">> Epoch 30 finished \tANN training loss 10.751791\n",
      ">> Epoch 31 finished \tANN training loss 10.763133\n",
      ">> Epoch 32 finished \tANN training loss 10.758168\n",
      ">> Epoch 33 finished \tANN training loss 10.765455\n",
      ">> Epoch 34 finished \tANN training loss 10.757227\n",
      ">> Epoch 35 finished \tANN training loss 10.761090\n",
      ">> Epoch 36 finished \tANN training loss 10.755125\n",
      ">> Epoch 37 finished \tANN training loss 10.769267\n",
      ">> Epoch 38 finished \tANN training loss 10.769754\n",
      ">> Epoch 39 finished \tANN training loss 10.766251\n",
      ">> Epoch 40 finished \tANN training loss 10.756591\n",
      ">> Epoch 41 finished \tANN training loss 10.766532\n",
      ">> Epoch 42 finished \tANN training loss 10.767481\n",
      ">> Epoch 43 finished \tANN training loss 10.768398\n",
      ">> Epoch 44 finished \tANN training loss 10.772374\n",
      ">> Epoch 45 finished \tANN training loss 10.765631\n",
      ">> Epoch 46 finished \tANN training loss 10.754135\n",
      ">> Epoch 47 finished \tANN training loss 10.764519\n",
      ">> Epoch 48 finished \tANN training loss 10.759948\n",
      ">> Epoch 49 finished \tANN training loss 10.756645\n",
      ">> Epoch 50 finished \tANN training loss 10.760123\n",
      ">> Epoch 51 finished \tANN training loss 10.759093\n",
      ">> Epoch 52 finished \tANN training loss 10.771065\n",
      ">> Epoch 53 finished \tANN training loss 10.760001\n",
      ">> Epoch 54 finished \tANN training loss 10.760039\n",
      ">> Epoch 55 finished \tANN training loss 10.763338\n",
      ">> Epoch 56 finished \tANN training loss 10.759364\n",
      ">> Epoch 57 finished \tANN training loss 10.762163\n",
      ">> Epoch 58 finished \tANN training loss 10.760792\n",
      ">> Epoch 59 finished \tANN training loss 10.757069\n",
      ">> Epoch 60 finished \tANN training loss 10.756671\n",
      ">> Epoch 61 finished \tANN training loss 10.761063\n",
      ">> Epoch 62 finished \tANN training loss 10.750646\n",
      ">> Epoch 63 finished \tANN training loss 10.757083\n",
      ">> Epoch 64 finished \tANN training loss 10.759313\n",
      ">> Epoch 65 finished \tANN training loss 10.759550\n",
      ">> Epoch 66 finished \tANN training loss 10.760843\n",
      ">> Epoch 67 finished \tANN training loss 10.759060\n",
      ">> Epoch 68 finished \tANN training loss 10.767781\n",
      ">> Epoch 69 finished \tANN training loss 10.761345\n",
      ">> Epoch 70 finished \tANN training loss 10.760112\n",
      ">> Epoch 71 finished \tANN training loss 10.766599\n",
      ">> Epoch 72 finished \tANN training loss 10.756693\n",
      ">> Epoch 73 finished \tANN training loss 10.756230\n",
      ">> Epoch 74 finished \tANN training loss 10.761212\n",
      ">> Epoch 75 finished \tANN training loss 10.761972\n",
      ">> Epoch 76 finished \tANN training loss 10.759525\n",
      ">> Epoch 77 finished \tANN training loss 10.760903\n",
      ">> Epoch 78 finished \tANN training loss 10.761625\n",
      ">> Epoch 79 finished \tANN training loss 10.757515\n",
      ">> Epoch 80 finished \tANN training loss 10.758404\n",
      ">> Epoch 81 finished \tANN training loss 10.763049\n",
      ">> Epoch 82 finished \tANN training loss 10.760694\n",
      ">> Epoch 83 finished \tANN training loss 10.761046\n",
      ">> Epoch 84 finished \tANN training loss 10.756094\n",
      ">> Epoch 85 finished \tANN training loss 10.759270\n",
      ">> Epoch 86 finished \tANN training loss 10.753970\n",
      ">> Epoch 87 finished \tANN training loss 10.752486\n",
      ">> Epoch 88 finished \tANN training loss 10.760343\n",
      ">> Epoch 89 finished \tANN training loss 10.761190\n",
      ">> Epoch 90 finished \tANN training loss 10.761064\n",
      ">> Epoch 91 finished \tANN training loss 10.756916\n",
      ">> Epoch 92 finished \tANN training loss 10.766700\n",
      ">> Epoch 93 finished \tANN training loss 10.761388\n",
      ">> Epoch 94 finished \tANN training loss 10.758581\n",
      ">> Epoch 95 finished \tANN training loss 10.756507\n",
      ">> Epoch 96 finished \tANN training loss 10.761794\n",
      ">> Epoch 97 finished \tANN training loss 10.755015\n",
      ">> Epoch 98 finished \tANN training loss 10.757227\n",
      ">> Epoch 99 finished \tANN training loss 10.763768\n",
      ">> Epoch 100 finished \tANN training loss 10.759168\n",
      "[END] Fine tuning step\n"
     ]
    },
    {
     "data": {
      "text/html": [
       "<style>#sk-container-id-10 {color: black;background-color: white;}#sk-container-id-10 pre{padding: 0;}#sk-container-id-10 div.sk-toggleable {background-color: white;}#sk-container-id-10 label.sk-toggleable__label {cursor: pointer;display: block;width: 100%;margin-bottom: 0;padding: 0.3em;box-sizing: border-box;text-align: center;}#sk-container-id-10 label.sk-toggleable__label-arrow:before {content: \"▸\";float: left;margin-right: 0.25em;color: #696969;}#sk-container-id-10 label.sk-toggleable__label-arrow:hover:before {color: black;}#sk-container-id-10 div.sk-estimator:hover label.sk-toggleable__label-arrow:before {color: black;}#sk-container-id-10 div.sk-toggleable__content {max-height: 0;max-width: 0;overflow: hidden;text-align: left;background-color: #f0f8ff;}#sk-container-id-10 div.sk-toggleable__content pre {margin: 0.2em;color: black;border-radius: 0.25em;background-color: #f0f8ff;}#sk-container-id-10 input.sk-toggleable__control:checked~div.sk-toggleable__content {max-height: 200px;max-width: 100%;overflow: auto;}#sk-container-id-10 input.sk-toggleable__control:checked~label.sk-toggleable__label-arrow:before {content: \"▾\";}#sk-container-id-10 div.sk-estimator input.sk-toggleable__control:checked~label.sk-toggleable__label {background-color: #d4ebff;}#sk-container-id-10 div.sk-label input.sk-toggleable__control:checked~label.sk-toggleable__label {background-color: #d4ebff;}#sk-container-id-10 input.sk-hidden--visually {border: 0;clip: rect(1px 1px 1px 1px);clip: rect(1px, 1px, 1px, 1px);height: 1px;margin: -1px;overflow: hidden;padding: 0;position: absolute;width: 1px;}#sk-container-id-10 div.sk-estimator {font-family: monospace;background-color: #f0f8ff;border: 1px dotted black;border-radius: 0.25em;box-sizing: border-box;margin-bottom: 0.5em;}#sk-container-id-10 div.sk-estimator:hover {background-color: #d4ebff;}#sk-container-id-10 div.sk-parallel-item::after {content: \"\";width: 100%;border-bottom: 1px solid gray;flex-grow: 1;}#sk-container-id-10 div.sk-label:hover label.sk-toggleable__label {background-color: #d4ebff;}#sk-container-id-10 div.sk-serial::before {content: \"\";position: absolute;border-left: 1px solid gray;box-sizing: border-box;top: 0;bottom: 0;left: 50%;z-index: 0;}#sk-container-id-10 div.sk-serial {display: flex;flex-direction: column;align-items: center;background-color: white;padding-right: 0.2em;padding-left: 0.2em;position: relative;}#sk-container-id-10 div.sk-item {position: relative;z-index: 1;}#sk-container-id-10 div.sk-parallel {display: flex;align-items: stretch;justify-content: center;background-color: white;position: relative;}#sk-container-id-10 div.sk-item::before, #sk-container-id-10 div.sk-parallel-item::before {content: \"\";position: absolute;border-left: 1px solid gray;box-sizing: border-box;top: 0;bottom: 0;left: 50%;z-index: -1;}#sk-container-id-10 div.sk-parallel-item {display: flex;flex-direction: column;z-index: 1;position: relative;background-color: white;}#sk-container-id-10 div.sk-parallel-item:first-child::after {align-self: flex-end;width: 50%;}#sk-container-id-10 div.sk-parallel-item:last-child::after {align-self: flex-start;width: 50%;}#sk-container-id-10 div.sk-parallel-item:only-child::after {width: 0;}#sk-container-id-10 div.sk-dashed-wrapped {border: 1px dashed gray;margin: 0 0.4em 0.5em 0.4em;box-sizing: border-box;padding-bottom: 0.4em;background-color: white;}#sk-container-id-10 div.sk-label label {font-family: monospace;font-weight: bold;display: inline-block;line-height: 1.2em;}#sk-container-id-10 div.sk-label-container {text-align: center;}#sk-container-id-10 div.sk-container {/* jupyter's `normalize.less` sets `[hidden] { display: none; }` but bootstrap.min.css set `[hidden] { display: none !important; }` so we also need the `!important` here to be able to override the default hidden behavior on the sphinx rendered scikit-learn.org. See: https://github.com/scikit-learn/scikit-learn/issues/21755 */display: inline-block !important;position: relative;}#sk-container-id-10 div.sk-text-repr-fallback {display: none;}</style><div id=\"sk-container-id-10\" class=\"sk-top-container\"><div class=\"sk-text-repr-fallback\"><pre>SupervisedDBNClassification()</pre><b>In a Jupyter environment, please rerun this cell to show the HTML representation or trust the notebook. <br />On GitHub, the HTML representation is unable to render, please try loading this page with nbviewer.org.</b></div><div class=\"sk-container\" hidden><div class=\"sk-item\"><div class=\"sk-estimator sk-toggleable\"><input class=\"sk-toggleable__control sk-hidden--visually\" id=\"sk-estimator-id-10\" type=\"checkbox\" checked><label for=\"sk-estimator-id-10\" class=\"sk-toggleable__label sk-toggleable__label-arrow\">SupervisedDBNClassification</label><div class=\"sk-toggleable__content\"><pre>SupervisedDBNClassification()</pre></div></div></div></div></div>"
      ],
      "text/plain": [
       "SupervisedDBNClassification()"
      ]
     },
     "execution_count": 126,
     "metadata": {},
     "output_type": "execute_result"
    }
   ],
   "source": [
    "classifier.fit(x_train, y_train)"
   ]
  },
  {
   "cell_type": "markdown",
   "metadata": {},
   "source": [
    "Output of the fitting: <br>\n",
    "<img src='notebook_media/' width=400 />"
   ]
  },
  {
   "cell_type": "code",
   "execution_count": null,
   "metadata": {},
   "outputs": [],
   "source": [
    "classifier.save('dbnModel1.pkl')"
   ]
  },
  {
   "cell_type": "code",
   "execution_count": null,
   "metadata": {},
   "outputs": [],
   "source": [
    "classifier = SupervisedDBNClassification.load('dbnModel1.pkl')"
   ]
  },
  {
   "cell_type": "code",
   "execution_count": 127,
   "metadata": {},
   "outputs": [],
   "source": [
    "y_pred = classifier.predict(x_train)"
   ]
  },
  {
   "cell_type": "code",
   "execution_count": 128,
   "metadata": {},
   "outputs": [
    {
     "name": "stdout",
     "output_type": "stream",
     "text": [
      "Done.\n",
      "Training Accuracy: 0.17158176943699732\n"
     ]
    }
   ],
   "source": [
    "print(f'Done.\\nTraining Accuracy: {accuracy_score(y_train, y_pred)}')"
   ]
  },
  {
   "cell_type": "code",
   "execution_count": 114,
   "metadata": {},
   "outputs": [],
   "source": [
    "y_pred = classifier.predict(x_test)"
   ]
  },
  {
   "cell_type": "code",
   "execution_count": 115,
   "metadata": {},
   "outputs": [
    {
     "name": "stdout",
     "output_type": "stream",
     "text": [
      "Done.\n",
      "Testing Accuracy: 0.16274089935760172\n"
     ]
    }
   ],
   "source": [
    "print(f'Done.\\nTesting Accuracy: {accuracy_score(y_test, y_pred)}')"
   ]
  },
  {
   "cell_type": "code",
   "execution_count": null,
   "metadata": {},
   "outputs": [],
   "source": []
  }
 ],
 "metadata": {
  "kernelspec": {
   "display_name": "Python 3.8.15 (conda)",
   "language": "python",
   "name": "python3"
  },
  "language_info": {
   "codemirror_mode": {
    "name": "ipython",
    "version": 3
   },
   "file_extension": ".py",
   "mimetype": "text/x-python",
   "name": "python",
   "nbconvert_exporter": "python",
   "pygments_lexer": "ipython3",
   "version": "3.8.15"
  },
  "orig_nbformat": 4,
  "vscode": {
   "interpreter": {
    "hash": "a820c38c0c6998d5531b30a72abed1c849220b8ccc9e18c2545958238bc5c1c7"
   }
  }
 },
 "nbformat": 4,
 "nbformat_minor": 2
}
